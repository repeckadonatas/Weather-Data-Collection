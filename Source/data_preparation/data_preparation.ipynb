{
 "cells": [
  {
   "cell_type": "code",
   "execution_count": 41,
   "metadata": {
    "ExecuteTime": {
     "end_time": "2024-02-15T15:58:49.563316100Z",
     "start_time": "2024-02-15T15:58:49.540316700Z"
    }
   },
   "outputs": [],
   "source": [
    "import os\n",
    "import json\n",
    "import pytz\n",
    "import pandas as pd\n",
    "import numpy as np\n",
    "from pathlib import Path\n",
    "from ast import literal_eval\n",
    "# import Source.db_functions as db\n",
    "\n",
    "from dateutil.tz import tz\n",
    "from sqlalchemy import engine"
   ]
  },
  {
   "cell_type": "markdown",
   "metadata": {},
   "source": [
    "## Main functions to manipulate a dataframe\n",
    "\n",
    "### For testing purposes of data manipulation functions"
   ]
  },
  {
   "cell_type": "code",
   "execution_count": 2,
   "metadata": {
    "ExecuteTime": {
     "end_time": "2024-02-15T10:35:26.408104800Z",
     "start_time": "2024-02-15T10:35:26.406093700Z"
    }
   },
   "outputs": [],
   "source": [
    "def get_files_in_directory() -> list:\n",
    "    \"\"\"\n",
    "    Sets a path to JSON file.\n",
    "    :returns a file name in a set path\n",
    "    \"\"\"\n",
    "    path_to_files = '../data/input/'\n",
    "    files_in_path = os.scandir(path_to_files)\n",
    "    \n",
    "    list_of_files = []\n",
    "    for file in files_in_path:\n",
    "        if file.is_dir() or file.is_file():\n",
    "            list_of_files.append(file.name)\n",
    "            return list_of_files    # <- don't forget to align this statement back with for!!!!!"
   ]
  },
  {
   "cell_type": "code",
   "execution_count": 3,
   "metadata": {
    "ExecuteTime": {
     "end_time": "2024-02-15T10:35:26.429622100Z",
     "start_time": "2024-02-15T10:35:26.410101600Z"
    }
   },
   "outputs": [],
   "source": [
    "def create_dataframe(file_json: str) -> pd.DataFrame:\n",
    "    \"\"\"\n",
    "    Creates a pandas dataframe from JSON file.\n",
    "    Sets the maximum available columns to be shown.\n",
    "    Requires name of the file.\n",
    "    \"\"\"\n",
    "    path_to_files = '../data/input/'\n",
    "    with open(path_to_files + file_json) as jfile:\n",
    "        json_data = json.load(jfile)\n",
    "        df = pd.DataFrame(pd.json_normalize(json_data))\n",
    "        pd.set_option('display.max_columns', None)\n",
    "    return df"
   ]
  },
  {
   "cell_type": "code",
   "execution_count": 4,
   "metadata": {
    "collapsed": false,
    "ExecuteTime": {
     "end_time": "2024-02-15T10:35:26.430622Z",
     "start_time": "2024-02-15T10:35:26.419829Z"
    }
   },
   "outputs": [],
   "source": [
    "# FLATTEN JSON FILE!!!\n",
    "def flatten_json_file(dataframe: pd.DataFrame, row: str) -> pd.DataFrame:\n",
    "    \"\"\"\n",
    "    Flattens the supplied dataframe and returns a new dataframe with flattened json data.\n",
    "    :param dataframe: dataframe to flatten\n",
    "    :return: new dataframe with flattened json data\n",
    "    \"\"\"\n",
    "    dataframe_flat = dataframe[row].apply(pd.Series)\n",
    "    dataframe_flat_0 = dataframe_flat[0].apply(pd.Series)\n",
    "    dataframe_flat_0.columns = ['weather_id', 'weather_main', 'weather_description', 'weather_icon']\n",
    "    dataframe_new = pd.concat([dataframe, dataframe_flat_0], axis=1)\n",
    "    dataframe_new = dataframe_new.drop(columns=['weather'], axis=1)\n",
    "    return dataframe_new"
   ]
  },
  {
   "cell_type": "code",
   "execution_count": 5,
   "metadata": {
    "collapsed": false,
    "ExecuteTime": {
     "end_time": "2024-02-15T10:35:26.456305900Z",
     "start_time": "2024-02-15T10:35:26.426622Z"
    }
   },
   "outputs": [],
   "source": [
    "def change_column_names(dataframe: pd.DataFrame) -> pd.DataFrame:\n",
    "    \"\"\"\n",
    "    Changes the column names of the dataframe to their new column names.\n",
    "    :param dataframe: a pandas dataframe to change column names\n",
    "    :return: dataframe with new column names\n",
    "    \"\"\"\n",
    "    new_names = {\"dt\": \"date_local\",\n",
    "                 \"name\": \"city\",\n",
    "                 \"id\": \"country_id\", \n",
    "                 \"coord.lon\": \"longitude\",\n",
    "                 \"coord.lat\": \"latitude\",\n",
    "                 \"main.temp\": \"main_temp\",\n",
    "                 \"main.feels_like\": \"main_feels_like\",\n",
    "                 \"main.temp_min\": \"main_temp_min\",\n",
    "                 \"main.temp_max\": \"main_temp_max\",\n",
    "                 \"main.pressure\": \"pressure\",\n",
    "                 \"main.humidity\": \"humidity\",\n",
    "                 \"wind.speed\": \"wind_speed\",\n",
    "                 \"wind.deg\": \"wind_deg\",\n",
    "                 \"clouds.all\": \"clouds\",\n",
    "                 \"sys.type\": \"sys_type\",\n",
    "                 \"sys.id\": \"sys_id\",\n",
    "                 \"sys.country\": \"country\",\n",
    "                 \"sys.sunrise\": \"sunrise\",\n",
    "                 \"sys.sunset\": \"sunset\"}\n",
    "    dataframe.rename(columns=new_names, inplace=True)\n",
    "    return dataframe"
   ]
  },
  {
   "cell_type": "code",
   "execution_count": 42,
   "metadata": {
    "collapsed": false,
    "ExecuteTime": {
     "end_time": "2024-02-15T15:59:00.765685300Z",
     "start_time": "2024-02-15T15:59:00.750029100Z"
    }
   },
   "outputs": [],
   "source": [
    "def change_datetime_format(dataframe: pd.DataFrame) -> pd.DataFrame:\n",
    "    \"\"\"\n",
    "    Change datetime format of a given dataframe to ISO 8601 format\n",
    "    :param dataframe: dataframe to change datetime format for.\n",
    "    :return: dataframe with changed datetime format\n",
    "    \"\"\"\n",
    "    date_cols = ['date_local', 'sunrise', 'sunset']\n",
    "    local_timezone = pytz.timezone('Europe/Vilnius')\n",
    "\n",
    "    for i in date_cols:\n",
    "        dataframe[i] = (pd.to_datetime(dataframe[i], unit='s', errors='coerce', utc=True)\n",
    "                        )\n",
    "    dataframe['date_vilnius'] = dataframe['date_local'].dt.tz_convert(local_timezone)\n",
    "    return dataframe"
   ]
  },
  {
   "cell_type": "code",
   "execution_count": 7,
   "metadata": {
    "collapsed": false,
    "ExecuteTime": {
     "end_time": "2024-02-15T10:35:26.476304800Z",
     "start_time": "2024-02-15T10:35:26.448077100Z"
    }
   },
   "outputs": [],
   "source": [
    "def reorder_dataframe_columns(dataframe: pd.DataFrame) -> pd.DataFrame:\n",
    "    reordered_columns = ['country_id', 'country', 'city', 'longitude', 'latitude', 'main_temp', 'main_feels_like', 'main_temp_min', 'main_temp_max', 'date_vilnius', 'date_local', 'timezone', 'sunrise', 'sunset', 'weather_id', 'weather_main', 'weather_description', 'weather_icon', 'pressure', 'humidity', 'wind_speed', 'wind_deg', 'clouds', 'visibility', 'base', 'sys_type', 'sys_id', 'cod']\n",
    "    \n",
    "    dataframe = dataframe[reordered_columns]\n",
    "    return dataframe"
   ]
  },
  {
   "cell_type": "code",
   "execution_count": 8,
   "metadata": {
    "ExecuteTime": {
     "end_time": "2024-02-15T10:35:26.940016700Z",
     "start_time": "2024-02-15T10:35:26.937966600Z"
    }
   },
   "outputs": [],
   "source": [
    "def inspect_dataframe(dataframe: pd.DataFrame):\n",
    "    \"\"\"\n",
    "    Returns information about the dataset \n",
    "    and shows a preview of the data in it.\n",
    "    \"\"\"\n",
    "    print(dataframe.info(), '\\n')\n",
    "    print(dataframe.head())"
   ]
  },
  {
   "cell_type": "code",
   "execution_count": 9,
   "metadata": {
    "collapsed": false,
    "ExecuteTime": {
     "end_time": "2024-02-15T10:35:27.186160500Z",
     "start_time": "2024-02-15T10:35:27.149635100Z"
    }
   },
   "outputs": [],
   "source": [
    "def load_to_database(dataframe: pd.DataFrame, table_name: str) -> None:\n",
    "    \"\"\"\n",
    "    Function to load the data of a dataframe to a specified table in the database.\n",
    "    :param dataframe: dataframe to load data from.\n",
    "    :param table_name: table to load the data to.\n",
    "    :return: None\n",
    "    \"\"\"\n",
    "    \n",
    "    dataframe.to_sql(table_name, engine, if_exists='append')"
   ]
  },
  {
   "cell_type": "markdown",
   "metadata": {},
   "source": [
    "## Finding the longest value in each column of a given dataframe"
   ]
  },
  {
   "cell_type": "code",
   "execution_count": 10,
   "metadata": {
    "ExecuteTime": {
     "end_time": "2024-02-15T10:35:28.547673300Z",
     "start_time": "2024-02-15T10:35:28.513677100Z"
    }
   },
   "outputs": [],
   "source": [
    "def longest_value(dataframe: pd.DataFrame):\n",
    "    \"\"\"\n",
    "    Checking for the longest value in each column of a given dataframe.\n",
    "    \"\"\"\n",
    "    for row in dataframe:\n",
    "        col_name = row\n",
    "\n",
    "        if dataframe[row].dtype == float or int:\n",
    "            list_len = dataframe[row].astype(str).str.len().max()\n",
    "\n",
    "        else:\n",
    "            list_len = max(list(map(len, dataframe[row].values)))\n",
    "\n",
    "        print('Column:', col_name)\n",
    "        print('Value length:', list_len, '\\n')"
   ]
  },
  {
   "cell_type": "markdown",
   "metadata": {},
   "source": [
    "## Files in ../data/input location"
   ]
  },
  {
   "cell_type": "code",
   "execution_count": 50,
   "metadata": {
    "ExecuteTime": {
     "end_time": "2024-02-15T16:03:34.912106800Z",
     "start_time": "2024-02-15T16:03:34.878450300Z"
    }
   },
   "outputs": [
    {
     "name": "stdout",
     "output_type": "stream",
     "text": [
      "['Barcelona, Spain_response.json']\n"
     ]
    }
   ],
   "source": [
    "cities = get_files_in_directory()\n",
    "print(cities)"
   ]
  },
  {
   "cell_type": "code",
   "execution_count": 55,
   "metadata": {
    "collapsed": false,
    "ExecuteTime": {
     "end_time": "2024-02-15T16:04:40.336161800Z",
     "start_time": "2024-02-15T16:04:40.279535300Z"
    }
   },
   "outputs": [
    {
     "data": {
      "text/plain": "                                             weather      base  visibility  \\\n0  [{'id': 800, 'main': 'Clear', 'description': '...  stations       10000   \n\n           dt  timezone       id       name  cod  coord.lon  coord.lat  \\\n0  1708012741      3600  3128760  Barcelona  200      2.159    41.3888   \n\n   main.temp  main.feels_like  main.temp_min  main.temp_max  main.pressure  \\\n0       16.9            16.47          14.71          20.72           1017   \n\n   main.humidity  wind.speed  wind.deg  clouds.all  sys.type  sys.id  \\\n0             70        3.09       110           0         2   18549   \n\n  sys.country  sys.sunrise  sys.sunset  \n0          ES   1707979649  1708017828  ",
      "text/html": "<div>\n<style scoped>\n    .dataframe tbody tr th:only-of-type {\n        vertical-align: middle;\n    }\n\n    .dataframe tbody tr th {\n        vertical-align: top;\n    }\n\n    .dataframe thead th {\n        text-align: right;\n    }\n</style>\n<table border=\"1\" class=\"dataframe\">\n  <thead>\n    <tr style=\"text-align: right;\">\n      <th></th>\n      <th>weather</th>\n      <th>base</th>\n      <th>visibility</th>\n      <th>dt</th>\n      <th>timezone</th>\n      <th>id</th>\n      <th>name</th>\n      <th>cod</th>\n      <th>coord.lon</th>\n      <th>coord.lat</th>\n      <th>main.temp</th>\n      <th>main.feels_like</th>\n      <th>main.temp_min</th>\n      <th>main.temp_max</th>\n      <th>main.pressure</th>\n      <th>main.humidity</th>\n      <th>wind.speed</th>\n      <th>wind.deg</th>\n      <th>clouds.all</th>\n      <th>sys.type</th>\n      <th>sys.id</th>\n      <th>sys.country</th>\n      <th>sys.sunrise</th>\n      <th>sys.sunset</th>\n    </tr>\n  </thead>\n  <tbody>\n    <tr>\n      <th>0</th>\n      <td>[{'id': 800, 'main': 'Clear', 'description': '...</td>\n      <td>stations</td>\n      <td>10000</td>\n      <td>1708012741</td>\n      <td>3600</td>\n      <td>3128760</td>\n      <td>Barcelona</td>\n      <td>200</td>\n      <td>2.159</td>\n      <td>41.3888</td>\n      <td>16.9</td>\n      <td>16.47</td>\n      <td>14.71</td>\n      <td>20.72</td>\n      <td>1017</td>\n      <td>70</td>\n      <td>3.09</td>\n      <td>110</td>\n      <td>0</td>\n      <td>2</td>\n      <td>18549</td>\n      <td>ES</td>\n      <td>1707979649</td>\n      <td>1708017828</td>\n    </tr>\n  </tbody>\n</table>\n</div>"
     },
     "execution_count": 55,
     "metadata": {},
     "output_type": "execute_result"
    }
   ],
   "source": [
    "for city in cities:\n",
    "    city_df = create_dataframe(city)\n",
    "\n",
    "city_df.head()"
   ]
  },
  {
   "cell_type": "code",
   "execution_count": 56,
   "metadata": {
    "collapsed": false,
    "ExecuteTime": {
     "end_time": "2024-02-15T16:04:41.912615300Z",
     "start_time": "2024-02-15T16:04:41.840765700Z"
    }
   },
   "outputs": [
    {
     "data": {
      "text/plain": "       base  visibility          dt  timezone       id       name  cod  \\\n0  stations       10000  1708012741      3600  3128760  Barcelona  200   \n\n   coord.lon  coord.lat  main.temp  main.feels_like  main.temp_min  \\\n0      2.159    41.3888       16.9            16.47          14.71   \n\n   main.temp_max  main.pressure  main.humidity  wind.speed  wind.deg  \\\n0          20.72           1017             70        3.09       110   \n\n   clouds.all  sys.type  sys.id sys.country  sys.sunrise  sys.sunset  \\\n0           0         2   18549          ES   1707979649  1708017828   \n\n   weather_id weather_main weather_description weather_icon  \n0         800        Clear           clear sky          01d  ",
      "text/html": "<div>\n<style scoped>\n    .dataframe tbody tr th:only-of-type {\n        vertical-align: middle;\n    }\n\n    .dataframe tbody tr th {\n        vertical-align: top;\n    }\n\n    .dataframe thead th {\n        text-align: right;\n    }\n</style>\n<table border=\"1\" class=\"dataframe\">\n  <thead>\n    <tr style=\"text-align: right;\">\n      <th></th>\n      <th>base</th>\n      <th>visibility</th>\n      <th>dt</th>\n      <th>timezone</th>\n      <th>id</th>\n      <th>name</th>\n      <th>cod</th>\n      <th>coord.lon</th>\n      <th>coord.lat</th>\n      <th>main.temp</th>\n      <th>main.feels_like</th>\n      <th>main.temp_min</th>\n      <th>main.temp_max</th>\n      <th>main.pressure</th>\n      <th>main.humidity</th>\n      <th>wind.speed</th>\n      <th>wind.deg</th>\n      <th>clouds.all</th>\n      <th>sys.type</th>\n      <th>sys.id</th>\n      <th>sys.country</th>\n      <th>sys.sunrise</th>\n      <th>sys.sunset</th>\n      <th>weather_id</th>\n      <th>weather_main</th>\n      <th>weather_description</th>\n      <th>weather_icon</th>\n    </tr>\n  </thead>\n  <tbody>\n    <tr>\n      <th>0</th>\n      <td>stations</td>\n      <td>10000</td>\n      <td>1708012741</td>\n      <td>3600</td>\n      <td>3128760</td>\n      <td>Barcelona</td>\n      <td>200</td>\n      <td>2.159</td>\n      <td>41.3888</td>\n      <td>16.9</td>\n      <td>16.47</td>\n      <td>14.71</td>\n      <td>20.72</td>\n      <td>1017</td>\n      <td>70</td>\n      <td>3.09</td>\n      <td>110</td>\n      <td>0</td>\n      <td>2</td>\n      <td>18549</td>\n      <td>ES</td>\n      <td>1707979649</td>\n      <td>1708017828</td>\n      <td>800</td>\n      <td>Clear</td>\n      <td>clear sky</td>\n      <td>01d</td>\n    </tr>\n  </tbody>\n</table>\n</div>"
     },
     "execution_count": 56,
     "metadata": {},
     "output_type": "execute_result"
    }
   ],
   "source": [
    "flatten_df = flatten_json_file(city_df, 'weather')\n",
    "flatten_df.head()"
   ]
  },
  {
   "cell_type": "code",
   "execution_count": 57,
   "metadata": {
    "collapsed": false,
    "ExecuteTime": {
     "end_time": "2024-02-15T16:04:42.977818100Z",
     "start_time": "2024-02-15T16:04:42.893817Z"
    }
   },
   "outputs": [
    {
     "data": {
      "text/plain": "       base  visibility        date  timezone  country_id       city  cod  \\\n0  stations       10000  1708012741      3600     3128760  Barcelona  200   \n\n   longitude  latitude  main_temp  main_feels_like  main_temp_min  \\\n0      2.159   41.3888       16.9            16.47          14.71   \n\n   main_temp_max  pressure  humidity  wind_speed  wind_deg  clouds  sys_type  \\\n0          20.72      1017        70        3.09       110       0         2   \n\n   sys_id country     sunrise      sunset  weather_id weather_main  \\\n0   18549      ES  1707979649  1708017828         800        Clear   \n\n  weather_description weather_icon  \n0           clear sky          01d  ",
      "text/html": "<div>\n<style scoped>\n    .dataframe tbody tr th:only-of-type {\n        vertical-align: middle;\n    }\n\n    .dataframe tbody tr th {\n        vertical-align: top;\n    }\n\n    .dataframe thead th {\n        text-align: right;\n    }\n</style>\n<table border=\"1\" class=\"dataframe\">\n  <thead>\n    <tr style=\"text-align: right;\">\n      <th></th>\n      <th>base</th>\n      <th>visibility</th>\n      <th>date</th>\n      <th>timezone</th>\n      <th>country_id</th>\n      <th>city</th>\n      <th>cod</th>\n      <th>longitude</th>\n      <th>latitude</th>\n      <th>main_temp</th>\n      <th>main_feels_like</th>\n      <th>main_temp_min</th>\n      <th>main_temp_max</th>\n      <th>pressure</th>\n      <th>humidity</th>\n      <th>wind_speed</th>\n      <th>wind_deg</th>\n      <th>clouds</th>\n      <th>sys_type</th>\n      <th>sys_id</th>\n      <th>country</th>\n      <th>sunrise</th>\n      <th>sunset</th>\n      <th>weather_id</th>\n      <th>weather_main</th>\n      <th>weather_description</th>\n      <th>weather_icon</th>\n    </tr>\n  </thead>\n  <tbody>\n    <tr>\n      <th>0</th>\n      <td>stations</td>\n      <td>10000</td>\n      <td>1708012741</td>\n      <td>3600</td>\n      <td>3128760</td>\n      <td>Barcelona</td>\n      <td>200</td>\n      <td>2.159</td>\n      <td>41.3888</td>\n      <td>16.9</td>\n      <td>16.47</td>\n      <td>14.71</td>\n      <td>20.72</td>\n      <td>1017</td>\n      <td>70</td>\n      <td>3.09</td>\n      <td>110</td>\n      <td>0</td>\n      <td>2</td>\n      <td>18549</td>\n      <td>ES</td>\n      <td>1707979649</td>\n      <td>1708017828</td>\n      <td>800</td>\n      <td>Clear</td>\n      <td>clear sky</td>\n      <td>01d</td>\n    </tr>\n  </tbody>\n</table>\n</div>"
     },
     "execution_count": 57,
     "metadata": {},
     "output_type": "execute_result"
    }
   ],
   "source": [
    "names_df = change_column_names(flatten_df)\n",
    "names_df.head()"
   ]
  },
  {
   "cell_type": "code",
   "outputs": [
    {
     "name": "stdout",
     "output_type": "stream",
     "text": [
      "Europe/Vilnius\n"
     ]
    },
    {
     "data": {
      "text/plain": "       base  visibility                      date  timezone  country_id  \\\n0  stations       10000 2024-02-15 15:59:01+00:00      3600     3128760   \n\n        city  cod  longitude  latitude  main_temp  main_feels_like  \\\n0  Barcelona  200      2.159   41.3888       16.9            16.47   \n\n   main_temp_min  main_temp_max  pressure  humidity  wind_speed  wind_deg  \\\n0          14.71          20.72      1017        70        3.09       110   \n\n   clouds  sys_type  sys_id country     sunrise      sunset  weather_id  \\\n0       0         2   18549      ES  1707979649  1708017828         800   \n\n  weather_main weather_description weather_icon                   date_df  \n0        Clear           clear sky          01d 2024-02-15 17:59:01+02:00  ",
      "text/html": "<div>\n<style scoped>\n    .dataframe tbody tr th:only-of-type {\n        vertical-align: middle;\n    }\n\n    .dataframe tbody tr th {\n        vertical-align: top;\n    }\n\n    .dataframe thead th {\n        text-align: right;\n    }\n</style>\n<table border=\"1\" class=\"dataframe\">\n  <thead>\n    <tr style=\"text-align: right;\">\n      <th></th>\n      <th>base</th>\n      <th>visibility</th>\n      <th>date</th>\n      <th>timezone</th>\n      <th>country_id</th>\n      <th>city</th>\n      <th>cod</th>\n      <th>longitude</th>\n      <th>latitude</th>\n      <th>main_temp</th>\n      <th>main_feels_like</th>\n      <th>main_temp_min</th>\n      <th>main_temp_max</th>\n      <th>pressure</th>\n      <th>humidity</th>\n      <th>wind_speed</th>\n      <th>wind_deg</th>\n      <th>clouds</th>\n      <th>sys_type</th>\n      <th>sys_id</th>\n      <th>country</th>\n      <th>sunrise</th>\n      <th>sunset</th>\n      <th>weather_id</th>\n      <th>weather_main</th>\n      <th>weather_description</th>\n      <th>weather_icon</th>\n      <th>date_df</th>\n    </tr>\n  </thead>\n  <tbody>\n    <tr>\n      <th>0</th>\n      <td>stations</td>\n      <td>10000</td>\n      <td>2024-02-15 15:59:01+00:00</td>\n      <td>3600</td>\n      <td>3128760</td>\n      <td>Barcelona</td>\n      <td>200</td>\n      <td>2.159</td>\n      <td>41.3888</td>\n      <td>16.9</td>\n      <td>16.47</td>\n      <td>14.71</td>\n      <td>20.72</td>\n      <td>1017</td>\n      <td>70</td>\n      <td>3.09</td>\n      <td>110</td>\n      <td>0</td>\n      <td>2</td>\n      <td>18549</td>\n      <td>ES</td>\n      <td>1707979649</td>\n      <td>1708017828</td>\n      <td>800</td>\n      <td>Clear</td>\n      <td>clear sky</td>\n      <td>01d</td>\n      <td>2024-02-15 17:59:01+02:00</td>\n    </tr>\n  </tbody>\n</table>\n</div>"
     },
     "execution_count": 58,
     "metadata": {},
     "output_type": "execute_result"
    }
   ],
   "source": [
    "# normalize date to my local timezone\n",
    "import pytz\n",
    "\n",
    "local_timezone = pytz.timezone('Europe/Vilnius')\n",
    "names_df['date'] = pd.to_datetime(names_df['date'], unit='s', errors='coerce', utc=True)\n",
    "names_df['date_df'] = names_df['date'].dt.tz_convert(local_timezone)\n",
    "\n",
    "# names_df['date_local'] = names_df['date_df'].dt.tz_convert(local_timezone)\n",
    "print(local_timezone)\n",
    "names_df.head()"
   ],
   "metadata": {
    "collapsed": false,
    "ExecuteTime": {
     "end_time": "2024-02-15T16:04:48.395990300Z",
     "start_time": "2024-02-15T16:04:48.308237700Z"
    }
   },
   "execution_count": 58
  },
  {
   "cell_type": "code",
   "execution_count": 60,
   "metadata": {
    "collapsed": false,
    "ExecuteTime": {
     "end_time": "2024-02-15T17:09:50.066096Z",
     "start_time": "2024-02-15T17:09:50.018096900Z"
    }
   },
   "outputs": [
    {
     "data": {
      "text/plain": "       base  visibility                      date  timezone  country_id  \\\n0  stations       10000 2024-02-15 17:59:01+02:00      3600     3128760   \n\n        city  cod  longitude  latitude  main_temp  main_feels_like  \\\n0  Barcelona  200      2.159   41.3888       16.9            16.47   \n\n   main_temp_min  main_temp_max  pressure  humidity  wind_speed  wind_deg  \\\n0          14.71          20.72      1017        70        3.09       110   \n\n   clouds  sys_type  sys_id country                   sunrise  \\\n0       0         2   18549      ES 2024-02-15 08:47:29+02:00   \n\n                     sunset  weather_id weather_main weather_description  \\\n0 2024-02-15 19:23:48+02:00         800        Clear           clear sky   \n\n  weather_icon                   date_df  \n0          01d 2024-02-15 17:59:01+02:00  ",
      "text/html": "<div>\n<style scoped>\n    .dataframe tbody tr th:only-of-type {\n        vertical-align: middle;\n    }\n\n    .dataframe tbody tr th {\n        vertical-align: top;\n    }\n\n    .dataframe thead th {\n        text-align: right;\n    }\n</style>\n<table border=\"1\" class=\"dataframe\">\n  <thead>\n    <tr style=\"text-align: right;\">\n      <th></th>\n      <th>base</th>\n      <th>visibility</th>\n      <th>date</th>\n      <th>timezone</th>\n      <th>country_id</th>\n      <th>city</th>\n      <th>cod</th>\n      <th>longitude</th>\n      <th>latitude</th>\n      <th>main_temp</th>\n      <th>main_feels_like</th>\n      <th>main_temp_min</th>\n      <th>main_temp_max</th>\n      <th>pressure</th>\n      <th>humidity</th>\n      <th>wind_speed</th>\n      <th>wind_deg</th>\n      <th>clouds</th>\n      <th>sys_type</th>\n      <th>sys_id</th>\n      <th>country</th>\n      <th>sunrise</th>\n      <th>sunset</th>\n      <th>weather_id</th>\n      <th>weather_main</th>\n      <th>weather_description</th>\n      <th>weather_icon</th>\n      <th>date_df</th>\n    </tr>\n  </thead>\n  <tbody>\n    <tr>\n      <th>0</th>\n      <td>stations</td>\n      <td>10000</td>\n      <td>2024-02-15 17:59:01+02:00</td>\n      <td>3600</td>\n      <td>3128760</td>\n      <td>Barcelona</td>\n      <td>200</td>\n      <td>2.159</td>\n      <td>41.3888</td>\n      <td>16.9</td>\n      <td>16.47</td>\n      <td>14.71</td>\n      <td>20.72</td>\n      <td>1017</td>\n      <td>70</td>\n      <td>3.09</td>\n      <td>110</td>\n      <td>0</td>\n      <td>2</td>\n      <td>18549</td>\n      <td>ES</td>\n      <td>2024-02-15 08:47:29+02:00</td>\n      <td>2024-02-15 19:23:48+02:00</td>\n      <td>800</td>\n      <td>Clear</td>\n      <td>clear sky</td>\n      <td>01d</td>\n      <td>2024-02-15 17:59:01+02:00</td>\n    </tr>\n  </tbody>\n</table>\n</div>"
     },
     "execution_count": 60,
     "metadata": {},
     "output_type": "execute_result"
    }
   ],
   "source": [
    "dates_df = change_datetime_format(flatten_df)\n",
    "dates_df.head()"
   ]
  },
  {
   "cell_type": "code",
   "execution_count": 69,
   "metadata": {
    "ExecuteTime": {
     "end_time": "2024-02-08T16:44:18.921022700Z",
     "start_time": "2024-02-08T16:44:18.839971800Z"
    },
    "collapsed": false
   },
   "outputs": [
    {
     "data": {
      "text/html": [
       "<div>\n",
       "<style scoped>\n",
       "    .dataframe tbody tr th:only-of-type {\n",
       "        vertical-align: middle;\n",
       "    }\n",
       "\n",
       "    .dataframe tbody tr th {\n",
       "        vertical-align: top;\n",
       "    }\n",
       "\n",
       "    .dataframe thead th {\n",
       "        text-align: right;\n",
       "    }\n",
       "</style>\n",
       "<table border=\"1\" class=\"dataframe\">\n",
       "  <thead>\n",
       "    <tr style=\"text-align: right;\">\n",
       "      <th></th>\n",
       "      <th>base</th>\n",
       "      <th>visibility</th>\n",
       "      <th>date</th>\n",
       "      <th>timezone</th>\n",
       "      <th>country_id</th>\n",
       "      <th>city</th>\n",
       "      <th>cod</th>\n",
       "      <th>longitude</th>\n",
       "      <th>latitude</th>\n",
       "      <th>main_temp</th>\n",
       "      <th>main_feels_like</th>\n",
       "      <th>main_temp_min</th>\n",
       "      <th>main_temp_max</th>\n",
       "      <th>pressure</th>\n",
       "      <th>humidity</th>\n",
       "      <th>wind_speed</th>\n",
       "      <th>wind_deg</th>\n",
       "      <th>clouds</th>\n",
       "      <th>sys_type</th>\n",
       "      <th>sys_id</th>\n",
       "      <th>country</th>\n",
       "      <th>sunrise</th>\n",
       "      <th>sunset</th>\n",
       "      <th>weather_id</th>\n",
       "      <th>weather_main</th>\n",
       "      <th>weather_description</th>\n",
       "      <th>weather_icon</th>\n",
       "    </tr>\n",
       "  </thead>\n",
       "  <tbody>\n",
       "    <tr>\n",
       "      <th>0</th>\n",
       "      <td>stations</td>\n",
       "      <td>10000</td>\n",
       "      <td>2024-02-07 11:01:05</td>\n",
       "      <td>10800</td>\n",
       "      <td>745044</td>\n",
       "      <td>Istanbul</td>\n",
       "      <td>200</td>\n",
       "      <td>28.9497</td>\n",
       "      <td>41.0138</td>\n",
       "      <td>14.04</td>\n",
       "      <td>13.38</td>\n",
       "      <td>14.04</td>\n",
       "      <td>17.45</td>\n",
       "      <td>1015</td>\n",
       "      <td>72</td>\n",
       "      <td>2.06</td>\n",
       "      <td>230</td>\n",
       "      <td>0</td>\n",
       "      <td>1</td>\n",
       "      <td>6970</td>\n",
       "      <td>TR</td>\n",
       "      <td>2024-02-07 05:09:28</td>\n",
       "      <td>2024-02-07 15:27:10</td>\n",
       "      <td>800</td>\n",
       "      <td>Clear</td>\n",
       "      <td>clear sky</td>\n",
       "      <td>01d</td>\n",
       "    </tr>\n",
       "  </tbody>\n",
       "</table>\n",
       "</div>"
      ],
      "text/plain": [
       "       base  visibility                date  timezone  country_id      city  \\\n",
       "0  stations       10000 2024-02-07 11:01:05     10800      745044  Istanbul   \n",
       "\n",
       "   cod  longitude  latitude  main_temp  main_feels_like  main_temp_min  \\\n",
       "0  200    28.9497   41.0138      14.04            13.38          14.04   \n",
       "\n",
       "   main_temp_max  pressure  humidity  wind_speed  wind_deg  clouds  sys_type  \\\n",
       "0          17.45      1015        72        2.06       230       0         1   \n",
       "\n",
       "   sys_id country             sunrise              sunset  weather_id  \\\n",
       "0    6970      TR 2024-02-07 05:09:28 2024-02-07 15:27:10         800   \n",
       "\n",
       "  weather_main weather_description weather_icon  \n",
       "0        Clear           clear sky          01d  "
      ]
     },
     "execution_count": 69,
     "metadata": {},
     "output_type": "execute_result"
    }
   ],
   "source": [
    "dates_df.head()"
   ]
  },
  {
   "cell_type": "code",
   "execution_count": 86,
   "metadata": {
    "ExecuteTime": {
     "end_time": "2024-02-08T17:18:04.610678300Z",
     "start_time": "2024-02-08T17:18:04.561382900Z"
    },
    "collapsed": false
   },
   "outputs": [
    {
     "name": "stdout",
     "output_type": "stream",
     "text": [
      "[[0, 'base'], [1, 'visibility'], [2, 'date'], [3, 'timezone'], [4, 'country_id'], [5, 'city'], [6, 'cod'], [7, 'longitude'], [8, 'latitude'], [9, 'main_temp'], [10, 'main_feels_like'], [11, 'main_temp_min'], [12, 'main_temp_max'], [13, 'pressure'], [14, 'humidity'], [15, 'wind_speed'], [16, 'wind_deg'], [17, 'clouds'], [18, 'sys_type'], [19, 'sys_id'], [20, 'country'], [21, 'sunrise'], [22, 'sunset'], [23, 'weather_id'], [24, 'weather_main'], [25, 'weather_description'], [26, 'weather_icon']]\n"
     ]
    }
   ],
   "source": [
    "columns = dates_df.columns.tolist()\n",
    "\n",
    "index_col = []\n",
    "for i, col in enumerate(columns):\n",
    "    index_col.append([i, col])\n",
    "    \n",
    "print(index_col)"
   ]
  },
  {
   "cell_type": "code",
   "execution_count": 61,
   "metadata": {
    "collapsed": false,
    "ExecuteTime": {
     "end_time": "2024-02-15T17:10:08.191566100Z",
     "start_time": "2024-02-15T17:10:08.135296600Z"
    }
   },
   "outputs": [
    {
     "data": {
      "text/plain": "   country_id country       city  longitude  latitude  main_temp  \\\n0     3128760      ES  Barcelona      2.159   41.3888       16.9   \n\n   main_feels_like  main_temp_min  main_temp_max                      date  \\\n0            16.47          14.71          20.72 2024-02-15 17:59:01+02:00   \n\n   timezone                   sunrise                    sunset  weather_id  \\\n0      3600 2024-02-15 08:47:29+02:00 2024-02-15 19:23:48+02:00         800   \n\n  weather_main weather_description weather_icon  pressure  humidity  \\\n0        Clear           clear sky          01d      1017        70   \n\n   wind_speed  wind_deg  clouds  visibility      base  sys_type  sys_id  cod  \n0        3.09       110       0       10000  stations         2   18549  200  ",
      "text/html": "<div>\n<style scoped>\n    .dataframe tbody tr th:only-of-type {\n        vertical-align: middle;\n    }\n\n    .dataframe tbody tr th {\n        vertical-align: top;\n    }\n\n    .dataframe thead th {\n        text-align: right;\n    }\n</style>\n<table border=\"1\" class=\"dataframe\">\n  <thead>\n    <tr style=\"text-align: right;\">\n      <th></th>\n      <th>country_id</th>\n      <th>country</th>\n      <th>city</th>\n      <th>longitude</th>\n      <th>latitude</th>\n      <th>main_temp</th>\n      <th>main_feels_like</th>\n      <th>main_temp_min</th>\n      <th>main_temp_max</th>\n      <th>date</th>\n      <th>timezone</th>\n      <th>sunrise</th>\n      <th>sunset</th>\n      <th>weather_id</th>\n      <th>weather_main</th>\n      <th>weather_description</th>\n      <th>weather_icon</th>\n      <th>pressure</th>\n      <th>humidity</th>\n      <th>wind_speed</th>\n      <th>wind_deg</th>\n      <th>clouds</th>\n      <th>visibility</th>\n      <th>base</th>\n      <th>sys_type</th>\n      <th>sys_id</th>\n      <th>cod</th>\n    </tr>\n  </thead>\n  <tbody>\n    <tr>\n      <th>0</th>\n      <td>3128760</td>\n      <td>ES</td>\n      <td>Barcelona</td>\n      <td>2.159</td>\n      <td>41.3888</td>\n      <td>16.9</td>\n      <td>16.47</td>\n      <td>14.71</td>\n      <td>20.72</td>\n      <td>2024-02-15 17:59:01+02:00</td>\n      <td>3600</td>\n      <td>2024-02-15 08:47:29+02:00</td>\n      <td>2024-02-15 19:23:48+02:00</td>\n      <td>800</td>\n      <td>Clear</td>\n      <td>clear sky</td>\n      <td>01d</td>\n      <td>1017</td>\n      <td>70</td>\n      <td>3.09</td>\n      <td>110</td>\n      <td>0</td>\n      <td>10000</td>\n      <td>stations</td>\n      <td>2</td>\n      <td>18549</td>\n      <td>200</td>\n    </tr>\n  </tbody>\n</table>\n</div>"
     },
     "execution_count": 61,
     "metadata": {},
     "output_type": "execute_result"
    }
   ],
   "source": [
    "reordered_columns = ['country_id', 'country', 'city', 'longitude', 'latitude', 'main_temp', 'main_feels_like', 'main_temp_min', 'main_temp_max', 'date', 'timezone', 'sunrise', 'sunset', 'weather_id', 'weather_main', 'weather_description', 'weather_icon', 'pressure', 'humidity', 'wind_speed', 'wind_deg', 'clouds', 'visibility', 'base', 'sys_type', 'sys_id', 'cod']\n",
    "\n",
    "reordered_df = dates_df[reordered_columns]\n",
    "\n",
    "reordered_df.head()"
   ]
  },
  {
   "cell_type": "code",
   "execution_count": 109,
   "metadata": {
    "ExecuteTime": {
     "end_time": "2024-02-08T17:44:53.441289700Z",
     "start_time": "2024-02-08T17:44:53.408752300Z"
    },
    "collapsed": false
   },
   "outputs": [
    {
     "name": "stdout",
     "output_type": "stream",
     "text": [
      "Column: country_id\n",
      "Value length: 6 \n",
      "\n",
      "Column: country\n",
      "Value length: 2 \n",
      "\n",
      "Column: city\n",
      "Value length: 8 \n",
      "\n",
      "Column: longitude\n",
      "Value length: 7 \n",
      "\n",
      "Column: latitude\n",
      "Value length: 7 \n",
      "\n",
      "Column: main_temp\n",
      "Value length: 5 \n",
      "\n",
      "Column: main_feels_like\n",
      "Value length: 5 \n",
      "\n",
      "Column: main_temp_min\n",
      "Value length: 5 \n",
      "\n",
      "Column: main_temp_max\n",
      "Value length: 5 \n",
      "\n",
      "Column: date\n",
      "Value length: 19 \n",
      "\n",
      "Column: timezone\n",
      "Value length: 5 \n",
      "\n",
      "Column: sunrise\n",
      "Value length: 19 \n",
      "\n",
      "Column: sunset\n",
      "Value length: 19 \n",
      "\n",
      "Column: weather_id\n",
      "Value length: 3 \n",
      "\n",
      "Column: weather_main\n",
      "Value length: 5 \n",
      "\n",
      "Column: weather_description\n",
      "Value length: 9 \n",
      "\n",
      "Column: weather_icon\n",
      "Value length: 3 \n",
      "\n",
      "Column: pressure\n",
      "Value length: 4 \n",
      "\n",
      "Column: humidity\n",
      "Value length: 2 \n",
      "\n",
      "Column: wind_speed\n",
      "Value length: 4 \n",
      "\n",
      "Column: wind_deg\n",
      "Value length: 3 \n",
      "\n",
      "Column: clouds\n",
      "Value length: 1 \n",
      "\n",
      "Column: visibility\n",
      "Value length: 5 \n",
      "\n",
      "Column: base\n",
      "Value length: 8 \n",
      "\n",
      "Column: sys_type\n",
      "Value length: 1 \n",
      "\n",
      "Column: sys_id\n",
      "Value length: 4 \n",
      "\n",
      "Column: cod\n",
      "Value length: 3 \n"
     ]
    }
   ],
   "source": [
    "city_df_val_len = longest_value(reordered_df)"
   ]
  },
  {
   "cell_type": "code",
   "execution_count": 110,
   "metadata": {
    "ExecuteTime": {
     "end_time": "2024-02-08T17:45:10.377254700Z",
     "start_time": "2024-02-08T17:45:10.346412700Z"
    },
    "collapsed": false
   },
   "outputs": [
    {
     "name": "stdout",
     "output_type": "stream",
     "text": [
      "<class 'pandas.core.frame.DataFrame'>\n",
      "RangeIndex: 1 entries, 0 to 0\n",
      "Data columns (total 27 columns):\n",
      " #   Column               Non-Null Count  Dtype         \n",
      "---  ------               --------------  -----         \n",
      " 0   country_id           1 non-null      int64         \n",
      " 1   country              1 non-null      object        \n",
      " 2   city                 1 non-null      object        \n",
      " 3   longitude            1 non-null      float64       \n",
      " 4   latitude             1 non-null      float64       \n",
      " 5   main_temp            1 non-null      float64       \n",
      " 6   main_feels_like      1 non-null      float64       \n",
      " 7   main_temp_min        1 non-null      float64       \n",
      " 8   main_temp_max        1 non-null      float64       \n",
      " 9   date                 1 non-null      datetime64[ns]\n",
      " 10  timezone             1 non-null      int64         \n",
      " 11  sunrise              1 non-null      datetime64[ns]\n",
      " 12  sunset               1 non-null      datetime64[ns]\n",
      " 13  weather_id           1 non-null      int64         \n",
      " 14  weather_main         1 non-null      object        \n",
      " 15  weather_description  1 non-null      object        \n",
      " 16  weather_icon         1 non-null      object        \n",
      " 17  pressure             1 non-null      int64         \n",
      " 18  humidity             1 non-null      int64         \n",
      " 19  wind_speed           1 non-null      float64       \n",
      " 20  wind_deg             1 non-null      int64         \n",
      " 21  clouds               1 non-null      int64         \n",
      " 22  visibility           1 non-null      int64         \n",
      " 23  base                 1 non-null      object        \n",
      " 24  sys_type             1 non-null      int64         \n",
      " 25  sys_id               1 non-null      int64         \n",
      " 26  cod                  1 non-null      int64         \n",
      "dtypes: datetime64[ns](3), float64(7), int64(11), object(6)\n",
      "memory usage: 348.0+ bytes\n",
      "None \n",
      "\n",
      "   country_id country      city  longitude  latitude  main_temp  \\\n",
      "0      745044      TR  Istanbul    28.9497   41.0138      14.04   \n",
      "\n",
      "   main_feels_like  main_temp_min  main_temp_max                date  \\\n",
      "0            13.38          14.04          17.45 2024-02-07 11:01:05   \n",
      "\n",
      "   timezone             sunrise              sunset  weather_id weather_main  \\\n",
      "0     10800 2024-02-07 05:09:28 2024-02-07 15:27:10         800        Clear   \n",
      "\n",
      "  weather_description weather_icon  pressure  humidity  wind_speed  wind_deg  \\\n",
      "0           clear sky          01d      1015        72        2.06       230   \n",
      "\n",
      "   clouds  visibility      base  sys_type  sys_id  cod  \n",
      "0       0       10000  stations         1    6970  200  \n"
     ]
    }
   ],
   "source": [
    "city_inspect = inspect_dataframe(reordered_df)"
   ]
  },
  {
   "cell_type": "code",
   "execution_count": null,
   "metadata": {
    "collapsed": false
   },
   "outputs": [],
   "source": []
  }
 ],
 "metadata": {
  "kernelspec": {
   "display_name": "Python 3 (ipykernel)",
   "language": "python",
   "name": "python3"
  },
  "language_info": {
   "codemirror_mode": {
    "name": "ipython",
    "version": 3
   },
   "file_extension": ".py",
   "mimetype": "text/x-python",
   "name": "python",
   "nbconvert_exporter": "python",
   "pygments_lexer": "ipython3",
   "version": "3.11.4"
  }
 },
 "nbformat": 4,
 "nbformat_minor": 4
}
