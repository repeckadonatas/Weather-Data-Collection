{
 "cells": [
  {
   "cell_type": "code",
   "execution_count": 2,
   "metadata": {
    "ExecuteTime": {
     "end_time": "2024-02-07T11:06:27.166374400Z",
     "start_time": "2024-02-07T11:06:26.185273600Z"
    }
   },
   "outputs": [],
   "source": [
    "import os\n",
    "import json\n",
    "import pandas as pd\n",
    "import numpy as np\n",
    "from pathlib import Path\n",
    "from ast import literal_eval\n",
    "# import Source.db_functions as db\n",
    "\n",
    "from dateutil.tz import tz\n",
    "from sqlalchemy import engine"
   ]
  },
  {
   "cell_type": "markdown",
   "metadata": {},
   "source": [
    "## Main functions to manipulate a dataframe\n",
    "\n",
    "### For testing purposes of data manipulation functions"
   ]
  },
  {
   "cell_type": "code",
   "execution_count": 3,
   "metadata": {
    "ExecuteTime": {
     "end_time": "2024-02-07T11:06:29.966184300Z",
     "start_time": "2024-02-07T11:06:29.953708400Z"
    }
   },
   "outputs": [],
   "source": [
    "def get_files_in_directory() -> list:\n",
    "    \"\"\"\n",
    "    Sets a path to JSON file.\n",
    "    :returns a file name in a set path\n",
    "    \"\"\"\n",
    "    path_to_files = '../data/input/'\n",
    "    files_in_path = os.scandir(path_to_files)\n",
    "    \n",
    "    list_of_files = []\n",
    "    for file in files_in_path:\n",
    "        if file.is_dir() or file.is_file():\n",
    "            list_of_files.append(file.name)\n",
    "            return list_of_files    # <- don't forget to align this statement back with for!!!!!"
   ]
  },
  {
   "cell_type": "code",
   "execution_count": 4,
   "metadata": {
    "ExecuteTime": {
     "end_time": "2024-02-07T11:06:30.326310200Z",
     "start_time": "2024-02-07T11:06:30.314084700Z"
    }
   },
   "outputs": [],
   "source": [
    "def create_dataframe(file_json: str) -> pd.DataFrame:\n",
    "    \"\"\"\n",
    "    Creates a pandas dataframe from JSON file.\n",
    "    Sets the maximum available columns to be shown.\n",
    "    Requires name of the file.\n",
    "    \"\"\"\n",
    "    path_to_files = '../data/input/'\n",
    "    with open(path_to_files + file_json) as jfile:\n",
    "        json_data = json.load(jfile)\n",
    "        df = pd.DataFrame(pd.json_normalize(json_data))\n",
    "        pd.set_option('display.max_columns', None)\n",
    "    return df"
   ]
  },
  {
   "cell_type": "code",
   "outputs": [],
   "source": [
    "# FLATTEN JSON FILE!!!\n",
    "def flatten_json_file(dataframe: pd.DataFrame, row: str) -> pd.DataFrame:\n",
    "    \"\"\"\n",
    "    Flattens the supplied dataframe and returns a new dataframe with flattened json data.\n",
    "    :param dataframe: dataframe to flatten\n",
    "    :return: new dataframe with flattened json data\n",
    "    \"\"\"\n",
    "    dataframe_flat = dataframe[row].apply(pd.Series)\n",
    "    dataframe_flat_0 = dataframe_flat[0].apply(pd.Series)\n",
    "    dataframe_flat_0.columns = ['weather_id', 'weather_main', 'weather_description', 'weather_icon']\n",
    "    dataframe_new = pd.concat([dataframe, dataframe_flat_0], axis=1)\n",
    "    dataframe_new = dataframe_new.drop(columns=['weather'], axis=1)\n",
    "    return dataframe_new"
   ],
   "metadata": {
    "collapsed": false,
    "ExecuteTime": {
     "end_time": "2024-02-07T11:06:33.171625600Z",
     "start_time": "2024-02-07T11:06:33.154296300Z"
    }
   },
   "execution_count": 5
  },
  {
   "cell_type": "code",
   "outputs": [],
   "source": [
    "def change_column_names(dataframe: pd.DataFrame) -> pd.DataFrame:\n",
    "    \"\"\"\n",
    "    Changes the column names of the dataframe to their new column names.\n",
    "    :param dataframe: a pandas dataframe to change column names\n",
    "    :return: dataframe with new column names\n",
    "    \"\"\"\n",
    "    new_names = {\"dt\": \"date\",\n",
    "                 \"name\": \"city\",\n",
    "                 \"id\": \"country_id\", \n",
    "                 \"coord.lon\": \"longitude\",\n",
    "                 \"coord.lat\": \"latitude\",\n",
    "                 \"main.temp\": \"main_temp\",\n",
    "                 \"main.feels_like\": \"main_feels_like\",\n",
    "                 \"main.temp_min\": \"main_temp_min\",\n",
    "                 \"main.temp_max\": \"main_temp_max\",\n",
    "                 \"main.pressure\": \"pressure\",\n",
    "                 \"main.humidity\": \"humidity\",\n",
    "                 \"wind.speed\": \"wind_speed\",\n",
    "                 \"wind.deg\": \"wind_deg\",\n",
    "                 \"clouds.all\": \"clouds\",\n",
    "                 \"sys.type\": \"sys_type\",\n",
    "                 \"sys.id\": \"sys_id\",\n",
    "                 \"sys.country\": \"country\",\n",
    "                 \"sys.sunrise\": \"sunrise\",\n",
    "                 \"sys.sunset\": \"sunset\"}\n",
    "    dataframe.rename(columns=new_names, inplace=True)\n",
    "    return dataframe"
   ],
   "metadata": {
    "collapsed": false,
    "ExecuteTime": {
     "end_time": "2024-02-08T16:43:46.234796Z",
     "start_time": "2024-02-08T16:43:46.051288400Z"
    }
   },
   "execution_count": 61
  },
  {
   "cell_type": "code",
   "outputs": [],
   "source": [
    "def change_datetime_format(dataframe: pd.DataFrame) -> pd.DataFrame:\n",
    "    \"\"\"\n",
    "    Change datetime format of a given dataframe to ISO 8601 format\n",
    "    :param dataframe: dataframe to change datetime format for.\n",
    "    :return: dataframe with changed datetime format\n",
    "    \"\"\"\n",
    "    date_cols = ['date', 'sunrise', 'sunset']\n",
    "    for i in date_cols:\n",
    "        dataframe[i] = pd.to_datetime(dataframe[i], unit='s', errors='coerce')\n",
    "\n",
    "    return dataframe"
   ],
   "metadata": {
    "collapsed": false,
    "ExecuteTime": {
     "end_time": "2024-02-07T12:47:46.228373400Z",
     "start_time": "2024-02-07T12:47:46.203856100Z"
    }
   },
   "execution_count": 30
  },
  {
   "cell_type": "code",
   "outputs": [],
   "source": [
    "def reorder_dataframe_columns(dataframe: pd.DataFrame) -> pd.DataFrame:\n",
    "    reordered_columns = ['country_id', 'country', 'city', 'longitude', 'latitude', 'main_temp', 'main_feels_like', 'main_temp_min', 'main_temp_max', 'date', 'timezone', 'sunrise', 'sunset', 'weather_id', 'weather_main', 'weather_description', 'weather_icon', 'pressure', 'humidity', 'wind_speed', 'wind_deg', 'clouds', 'visibility', 'base', 'sys_type', 'sys_id', 'cod']\n",
    "    \n",
    "    dataframe = dataframe[reordered_columns]\n",
    "    return dataframe"
   ],
   "metadata": {
    "collapsed": false
   }
  },
  {
   "cell_type": "code",
   "execution_count": 8,
   "metadata": {
    "ExecuteTime": {
     "end_time": "2024-02-07T11:06:39.387046900Z",
     "start_time": "2024-02-07T11:06:39.371661400Z"
    }
   },
   "outputs": [],
   "source": [
    "def inspect_dataframe(dataframe: pd.DataFrame):\n",
    "    \"\"\"\n",
    "    Returns information about the dataset \n",
    "    and shows a preview of the data in it.\n",
    "    \"\"\"\n",
    "    print(dataframe.info(), '\\n')\n",
    "    print(dataframe.head())"
   ]
  },
  {
   "cell_type": "code",
   "outputs": [],
   "source": [
    "def load_to_database(dataframe: pd.DataFrame, table_name: str, engine) -> None:\n",
    "    \"\"\"\n",
    "    Function to load the data of a dataframe to a specified table in the database.\n",
    "    :param dataframe: dataframe to load data from.\n",
    "    :param table_name: table to load the data to.\n",
    "    :return: None\n",
    "    \"\"\"\n",
    "    dataframe.to_sql(table_name, engine, if_exists='append')"
   ],
   "metadata": {
    "collapsed": false,
    "ExecuteTime": {
     "end_time": "2024-02-06T18:29:56.046102900Z",
     "start_time": "2024-02-06T18:29:56.031649100Z"
    }
   },
   "execution_count": 4
  },
  {
   "cell_type": "code",
   "outputs": [],
   "source": [],
   "metadata": {
    "collapsed": false
   }
  },
  {
   "cell_type": "code",
   "execution_count": 18,
   "metadata": {
    "ExecuteTime": {
     "end_time": "2024-02-05T17:52:26.942048500Z",
     "start_time": "2024-02-05T17:52:26.917634500Z"
    }
   },
   "outputs": [],
   "source": [
    "def list_like_columns(dataframe):\n",
    "    \"\"\"\n",
    "    Creating a list where columns have list-like values.\n",
    "    \"\"\"\n",
    "    list_like_cols = []\n",
    "\n",
    "    for row in dataframe:\n",
    "        col_name = row\n",
    "        list_like = dataframe[dataframe.astype(str)[row] == '[]'].index\n",
    "        if len(list_like) != 0:\n",
    "            list_like_cols.append(col_name)\n",
    "    \n",
    "    return list_like_cols"
   ]
  },
  {
   "cell_type": "code",
   "execution_count": 12,
   "metadata": {
    "ExecuteTime": {
     "end_time": "2024-02-05T17:43:56.438256900Z",
     "start_time": "2024-02-05T17:43:56.421493Z"
    }
   },
   "outputs": [],
   "source": [
    "def to_proper_list(dataframe, list_like_columns):\n",
    "    \"\"\"\n",
    "    Converting values of list-like columns to proper list type.\n",
    "    \"\"\"\n",
    "    for row in list_like_columns:\n",
    "        dataframe[row] = dataframe[row].apply(literal_eval)\n",
    "    \n",
    "    return dataframe"
   ]
  },
  {
   "cell_type": "code",
   "execution_count": 9,
   "metadata": {
    "ExecuteTime": {
     "end_time": "2024-02-04T09:37:52.147253500Z",
     "start_time": "2024-02-04T09:37:52.026943100Z"
    }
   },
   "outputs": [],
   "source": [
    "def copy_and_explode(dataframe, *columns):\n",
    "    \"\"\"\n",
    "    Normalizing to the 2NF.\n",
    "    Creating new dataframes containing str-list columns.\n",
    "    Exploding list values of columns.\n",
    "    Recreating the index column if the original dataset had one\n",
    "    to keep unique index in the dataframe.\n",
    "    Saving new dataframe to a CSV file.\n",
    "    \"\"\"\n",
    "    df_copy = dataframe.copy()\n",
    "    col_list = [*columns]\n",
    "    \n",
    "\n",
    "    for col in col_list:\n",
    "        if isinstance(col_list, (list, pd.core.series.Series, np.ndarray)):\n",
    "            df_copy = df_copy.explode(col)\n",
    "            df_copy[col].replace(',', '', regex=True, inplace=True)\n",
    "            df_copy = df_copy.explode(col)\n",
    "        else:\n",
    "            df_copy\n",
    "    \n",
    "    df_copy = df_copy.drop_duplicates()\n",
    "       \n",
    "    new_df_name = input('Enter a name for a normalized dataset: ')\n",
    "    df_copy.to_csv(f'../data/output/{new_df_name}_2NF.csv', sep=',', encoding='utf-8', index=None, header='true')"
   ]
  },
  {
   "cell_type": "markdown",
   "metadata": {},
   "source": [
    "## Finding the longest value in each column of a given dataframe"
   ]
  },
  {
   "cell_type": "code",
   "execution_count": 9,
   "metadata": {
    "ExecuteTime": {
     "end_time": "2024-02-07T11:06:49.605889Z",
     "start_time": "2024-02-07T11:06:49.594057200Z"
    }
   },
   "outputs": [],
   "source": [
    "def longest_value(dataframe: pd.DataFrame):\n",
    "    \"\"\"\n",
    "    Checking for the longest value in each column of a given dataframe.\n",
    "    \"\"\"\n",
    "    for row in dataframe:\n",
    "        col_name = row\n",
    "\n",
    "        if dataframe[row].dtype == float or int:\n",
    "            list_len = dataframe[row].astype(str).str.len().max()\n",
    "\n",
    "        else:\n",
    "            list_len = max(list(map(len, dataframe[row].values)))\n",
    "\n",
    "        print('Column:', col_name)\n",
    "        print('Value length:', list_len, '\\n')"
   ]
  },
  {
   "cell_type": "markdown",
   "metadata": {},
   "source": [
    "## Files in ../data/input location"
   ]
  },
  {
   "cell_type": "code",
   "execution_count": 62,
   "metadata": {
    "ExecuteTime": {
     "end_time": "2024-02-08T16:43:55.936581600Z",
     "start_time": "2024-02-08T16:43:55.896796200Z"
    }
   },
   "outputs": [
    {
     "name": "stdout",
     "output_type": "stream",
     "text": [
      "['Istanbul, Turkey_response.json']\n"
     ]
    }
   ],
   "source": [
    "cities = get_files_in_directory()\n",
    "print(cities)"
   ]
  },
  {
   "cell_type": "code",
   "outputs": [
    {
     "data": {
      "text/plain": "                                             weather      base  visibility  \\\n0  [{'id': 800, 'main': 'Clear', 'description': '...  stations       10000   \n\n           dt  timezone      id      name  cod  coord.lon  coord.lat  \\\n0  1707303665     10800  745044  Istanbul  200    28.9497    41.0138   \n\n   main.temp  main.feels_like  main.temp_min  main.temp_max  main.pressure  \\\n0      14.04            13.38          14.04          17.45           1015   \n\n   main.humidity  wind.speed  wind.deg  clouds.all  sys.type  sys.id  \\\n0             72        2.06       230           0         1    6970   \n\n  sys.country  sys.sunrise  sys.sunset  \n0          TR   1707282568  1707319630  ",
      "text/html": "<div>\n<style scoped>\n    .dataframe tbody tr th:only-of-type {\n        vertical-align: middle;\n    }\n\n    .dataframe tbody tr th {\n        vertical-align: top;\n    }\n\n    .dataframe thead th {\n        text-align: right;\n    }\n</style>\n<table border=\"1\" class=\"dataframe\">\n  <thead>\n    <tr style=\"text-align: right;\">\n      <th></th>\n      <th>weather</th>\n      <th>base</th>\n      <th>visibility</th>\n      <th>dt</th>\n      <th>timezone</th>\n      <th>id</th>\n      <th>name</th>\n      <th>cod</th>\n      <th>coord.lon</th>\n      <th>coord.lat</th>\n      <th>main.temp</th>\n      <th>main.feels_like</th>\n      <th>main.temp_min</th>\n      <th>main.temp_max</th>\n      <th>main.pressure</th>\n      <th>main.humidity</th>\n      <th>wind.speed</th>\n      <th>wind.deg</th>\n      <th>clouds.all</th>\n      <th>sys.type</th>\n      <th>sys.id</th>\n      <th>sys.country</th>\n      <th>sys.sunrise</th>\n      <th>sys.sunset</th>\n    </tr>\n  </thead>\n  <tbody>\n    <tr>\n      <th>0</th>\n      <td>[{'id': 800, 'main': 'Clear', 'description': '...</td>\n      <td>stations</td>\n      <td>10000</td>\n      <td>1707303665</td>\n      <td>10800</td>\n      <td>745044</td>\n      <td>Istanbul</td>\n      <td>200</td>\n      <td>28.9497</td>\n      <td>41.0138</td>\n      <td>14.04</td>\n      <td>13.38</td>\n      <td>14.04</td>\n      <td>17.45</td>\n      <td>1015</td>\n      <td>72</td>\n      <td>2.06</td>\n      <td>230</td>\n      <td>0</td>\n      <td>1</td>\n      <td>6970</td>\n      <td>TR</td>\n      <td>1707282568</td>\n      <td>1707319630</td>\n    </tr>\n  </tbody>\n</table>\n</div>"
     },
     "execution_count": 63,
     "metadata": {},
     "output_type": "execute_result"
    }
   ],
   "source": [
    "for city in cities:\n",
    "    city_df = create_dataframe(city)\n",
    "\n",
    "city_df.head()"
   ],
   "metadata": {
    "collapsed": false,
    "ExecuteTime": {
     "end_time": "2024-02-08T16:43:56.909524500Z",
     "start_time": "2024-02-08T16:43:56.710064500Z"
    }
   },
   "execution_count": 63
  },
  {
   "cell_type": "code",
   "outputs": [],
   "source": [
    "# FLATTENING THE JSON FILE\n",
    "# city_df_weather_flat = city_df['weather'].apply(pd.Series)\n",
    "# city_df_weather_flat_0 = city_df_weather_flat[0].apply(pd.Series)\n",
    "# \n",
    "# city_df_weather_flat_0.columns = ['weather_id', 'weather_main', 'weather_description', 'weather_icon']\n",
    "# \n",
    "# city_df_new = pd.concat([city_df, city_df_weather_flat_0], axis=1)\n",
    "# \n",
    "# city_df_new = city_df_new.drop(columns=['weather'], axis=1)\n",
    "# \n",
    "# city_df_new.head()"
   ],
   "metadata": {
    "collapsed": false
   },
   "execution_count": null
  },
  {
   "cell_type": "code",
   "outputs": [
    {
     "data": {
      "text/plain": "       base  visibility          dt  timezone      id      name  cod  \\\n0  stations       10000  1707303665     10800  745044  Istanbul  200   \n\n   coord.lon  coord.lat  main.temp  main.feels_like  main.temp_min  \\\n0    28.9497    41.0138      14.04            13.38          14.04   \n\n   main.temp_max  main.pressure  main.humidity  wind.speed  wind.deg  \\\n0          17.45           1015             72        2.06       230   \n\n   clouds.all  sys.type  sys.id sys.country  sys.sunrise  sys.sunset  \\\n0           0         1    6970          TR   1707282568  1707319630   \n\n   weather_id weather_main weather_description weather_icon  \n0         800        Clear           clear sky          01d  ",
      "text/html": "<div>\n<style scoped>\n    .dataframe tbody tr th:only-of-type {\n        vertical-align: middle;\n    }\n\n    .dataframe tbody tr th {\n        vertical-align: top;\n    }\n\n    .dataframe thead th {\n        text-align: right;\n    }\n</style>\n<table border=\"1\" class=\"dataframe\">\n  <thead>\n    <tr style=\"text-align: right;\">\n      <th></th>\n      <th>base</th>\n      <th>visibility</th>\n      <th>dt</th>\n      <th>timezone</th>\n      <th>id</th>\n      <th>name</th>\n      <th>cod</th>\n      <th>coord.lon</th>\n      <th>coord.lat</th>\n      <th>main.temp</th>\n      <th>main.feels_like</th>\n      <th>main.temp_min</th>\n      <th>main.temp_max</th>\n      <th>main.pressure</th>\n      <th>main.humidity</th>\n      <th>wind.speed</th>\n      <th>wind.deg</th>\n      <th>clouds.all</th>\n      <th>sys.type</th>\n      <th>sys.id</th>\n      <th>sys.country</th>\n      <th>sys.sunrise</th>\n      <th>sys.sunset</th>\n      <th>weather_id</th>\n      <th>weather_main</th>\n      <th>weather_description</th>\n      <th>weather_icon</th>\n    </tr>\n  </thead>\n  <tbody>\n    <tr>\n      <th>0</th>\n      <td>stations</td>\n      <td>10000</td>\n      <td>1707303665</td>\n      <td>10800</td>\n      <td>745044</td>\n      <td>Istanbul</td>\n      <td>200</td>\n      <td>28.9497</td>\n      <td>41.0138</td>\n      <td>14.04</td>\n      <td>13.38</td>\n      <td>14.04</td>\n      <td>17.45</td>\n      <td>1015</td>\n      <td>72</td>\n      <td>2.06</td>\n      <td>230</td>\n      <td>0</td>\n      <td>1</td>\n      <td>6970</td>\n      <td>TR</td>\n      <td>1707282568</td>\n      <td>1707319630</td>\n      <td>800</td>\n      <td>Clear</td>\n      <td>clear sky</td>\n      <td>01d</td>\n    </tr>\n  </tbody>\n</table>\n</div>"
     },
     "execution_count": 64,
     "metadata": {},
     "output_type": "execute_result"
    }
   ],
   "source": [
    "flatten_df = flatten_json_file(city_df, 'weather')\n",
    "flatten_df.head()"
   ],
   "metadata": {
    "collapsed": false,
    "ExecuteTime": {
     "end_time": "2024-02-08T16:44:01.929661600Z",
     "start_time": "2024-02-08T16:44:01.805728400Z"
    }
   },
   "execution_count": 64
  },
  {
   "cell_type": "code",
   "outputs": [],
   "source": [
    "# Changing datetime format\n",
    "# flatten_df['date'] = pd.to_datetime(flatten_df['date'], unit='s', errors='coerce')\n",
    "# flatten_df['sunrise'] = pd.to_datetime(flatten_df['sunrise'], unit='s', errors='coerce')\n",
    "# flatten_df['sunset'] = pd.to_datetime(flatten_df['sunset'], unit='s', errors='coerce')\n",
    "# flatten_df.head()"
   ],
   "metadata": {
    "collapsed": false
   },
   "execution_count": null
  },
  {
   "cell_type": "code",
   "outputs": [
    {
     "data": {
      "text/plain": "       base  visibility        date  timezone  country_id      city  cod  \\\n0  stations       10000  1707303665     10800      745044  Istanbul  200   \n\n   longitude  latitude  main_temp  main_feels_like  main_temp_min  \\\n0    28.9497   41.0138      14.04            13.38          14.04   \n\n   main_temp_max  pressure  humidity  wind_speed  wind_deg  clouds  sys_type  \\\n0          17.45      1015        72        2.06       230       0         1   \n\n   sys_id country     sunrise      sunset  weather_id weather_main  \\\n0    6970      TR  1707282568  1707319630         800        Clear   \n\n  weather_description weather_icon  \n0           clear sky          01d  ",
      "text/html": "<div>\n<style scoped>\n    .dataframe tbody tr th:only-of-type {\n        vertical-align: middle;\n    }\n\n    .dataframe tbody tr th {\n        vertical-align: top;\n    }\n\n    .dataframe thead th {\n        text-align: right;\n    }\n</style>\n<table border=\"1\" class=\"dataframe\">\n  <thead>\n    <tr style=\"text-align: right;\">\n      <th></th>\n      <th>base</th>\n      <th>visibility</th>\n      <th>date</th>\n      <th>timezone</th>\n      <th>country_id</th>\n      <th>city</th>\n      <th>cod</th>\n      <th>longitude</th>\n      <th>latitude</th>\n      <th>main_temp</th>\n      <th>main_feels_like</th>\n      <th>main_temp_min</th>\n      <th>main_temp_max</th>\n      <th>pressure</th>\n      <th>humidity</th>\n      <th>wind_speed</th>\n      <th>wind_deg</th>\n      <th>clouds</th>\n      <th>sys_type</th>\n      <th>sys_id</th>\n      <th>country</th>\n      <th>sunrise</th>\n      <th>sunset</th>\n      <th>weather_id</th>\n      <th>weather_main</th>\n      <th>weather_description</th>\n      <th>weather_icon</th>\n    </tr>\n  </thead>\n  <tbody>\n    <tr>\n      <th>0</th>\n      <td>stations</td>\n      <td>10000</td>\n      <td>1707303665</td>\n      <td>10800</td>\n      <td>745044</td>\n      <td>Istanbul</td>\n      <td>200</td>\n      <td>28.9497</td>\n      <td>41.0138</td>\n      <td>14.04</td>\n      <td>13.38</td>\n      <td>14.04</td>\n      <td>17.45</td>\n      <td>1015</td>\n      <td>72</td>\n      <td>2.06</td>\n      <td>230</td>\n      <td>0</td>\n      <td>1</td>\n      <td>6970</td>\n      <td>TR</td>\n      <td>1707282568</td>\n      <td>1707319630</td>\n      <td>800</td>\n      <td>Clear</td>\n      <td>clear sky</td>\n      <td>01d</td>\n    </tr>\n  </tbody>\n</table>\n</div>"
     },
     "execution_count": 65,
     "metadata": {},
     "output_type": "execute_result"
    }
   ],
   "source": [
    "names_df = change_column_names(flatten_df)\n",
    "names_df.head()"
   ],
   "metadata": {
    "collapsed": false,
    "ExecuteTime": {
     "end_time": "2024-02-08T16:44:04.629154900Z",
     "start_time": "2024-02-08T16:44:04.448633200Z"
    }
   },
   "execution_count": 65
  },
  {
   "cell_type": "code",
   "outputs": [
    {
     "data": {
      "text/plain": "       base  visibility                date  timezone  country_id      city  \\\n0  stations       10000 2024-02-07 11:01:05     10800      745044  Istanbul   \n\n   cod  longitude  latitude  main_temp  main_feels_like  main_temp_min  \\\n0  200    28.9497   41.0138      14.04            13.38          14.04   \n\n   main_temp_max  pressure  humidity  wind_speed  wind_deg  clouds  sys_type  \\\n0          17.45      1015        72        2.06       230       0         1   \n\n   sys_id country             sunrise              sunset  weather_id  \\\n0    6970      TR 2024-02-07 05:09:28 2024-02-07 15:27:10         800   \n\n  weather_main weather_description weather_icon  \n0        Clear           clear sky          01d  ",
      "text/html": "<div>\n<style scoped>\n    .dataframe tbody tr th:only-of-type {\n        vertical-align: middle;\n    }\n\n    .dataframe tbody tr th {\n        vertical-align: top;\n    }\n\n    .dataframe thead th {\n        text-align: right;\n    }\n</style>\n<table border=\"1\" class=\"dataframe\">\n  <thead>\n    <tr style=\"text-align: right;\">\n      <th></th>\n      <th>base</th>\n      <th>visibility</th>\n      <th>date</th>\n      <th>timezone</th>\n      <th>country_id</th>\n      <th>city</th>\n      <th>cod</th>\n      <th>longitude</th>\n      <th>latitude</th>\n      <th>main_temp</th>\n      <th>main_feels_like</th>\n      <th>main_temp_min</th>\n      <th>main_temp_max</th>\n      <th>pressure</th>\n      <th>humidity</th>\n      <th>wind_speed</th>\n      <th>wind_deg</th>\n      <th>clouds</th>\n      <th>sys_type</th>\n      <th>sys_id</th>\n      <th>country</th>\n      <th>sunrise</th>\n      <th>sunset</th>\n      <th>weather_id</th>\n      <th>weather_main</th>\n      <th>weather_description</th>\n      <th>weather_icon</th>\n    </tr>\n  </thead>\n  <tbody>\n    <tr>\n      <th>0</th>\n      <td>stations</td>\n      <td>10000</td>\n      <td>2024-02-07 11:01:05</td>\n      <td>10800</td>\n      <td>745044</td>\n      <td>Istanbul</td>\n      <td>200</td>\n      <td>28.9497</td>\n      <td>41.0138</td>\n      <td>14.04</td>\n      <td>13.38</td>\n      <td>14.04</td>\n      <td>17.45</td>\n      <td>1015</td>\n      <td>72</td>\n      <td>2.06</td>\n      <td>230</td>\n      <td>0</td>\n      <td>1</td>\n      <td>6970</td>\n      <td>TR</td>\n      <td>2024-02-07 05:09:28</td>\n      <td>2024-02-07 15:27:10</td>\n      <td>800</td>\n      <td>Clear</td>\n      <td>clear sky</td>\n      <td>01d</td>\n    </tr>\n  </tbody>\n</table>\n</div>"
     },
     "execution_count": 66,
     "metadata": {},
     "output_type": "execute_result"
    }
   ],
   "source": [
    "dates_df = change_datetime_format(flatten_df)\n",
    "dates_df.head()"
   ],
   "metadata": {
    "collapsed": false,
    "ExecuteTime": {
     "end_time": "2024-02-08T16:44:07.003914400Z",
     "start_time": "2024-02-08T16:44:06.866259500Z"
    }
   },
   "execution_count": 66
  },
  {
   "cell_type": "code",
   "outputs": [
    {
     "data": {
      "text/plain": "       base  visibility                date  timezone  country_id      city  \\\n0  stations       10000 2024-02-07 11:01:05     10800      745044  Istanbul   \n\n   cod  longitude  latitude  main_temp  main_feels_like  main_temp_min  \\\n0  200    28.9497   41.0138      14.04            13.38          14.04   \n\n   main_temp_max  pressure  humidity  wind_speed  wind_deg  clouds  sys_type  \\\n0          17.45      1015        72        2.06       230       0         1   \n\n   sys_id country             sunrise              sunset  weather_id  \\\n0    6970      TR 2024-02-07 05:09:28 2024-02-07 15:27:10         800   \n\n  weather_main weather_description weather_icon  \n0        Clear           clear sky          01d  ",
      "text/html": "<div>\n<style scoped>\n    .dataframe tbody tr th:only-of-type {\n        vertical-align: middle;\n    }\n\n    .dataframe tbody tr th {\n        vertical-align: top;\n    }\n\n    .dataframe thead th {\n        text-align: right;\n    }\n</style>\n<table border=\"1\" class=\"dataframe\">\n  <thead>\n    <tr style=\"text-align: right;\">\n      <th></th>\n      <th>base</th>\n      <th>visibility</th>\n      <th>date</th>\n      <th>timezone</th>\n      <th>country_id</th>\n      <th>city</th>\n      <th>cod</th>\n      <th>longitude</th>\n      <th>latitude</th>\n      <th>main_temp</th>\n      <th>main_feels_like</th>\n      <th>main_temp_min</th>\n      <th>main_temp_max</th>\n      <th>pressure</th>\n      <th>humidity</th>\n      <th>wind_speed</th>\n      <th>wind_deg</th>\n      <th>clouds</th>\n      <th>sys_type</th>\n      <th>sys_id</th>\n      <th>country</th>\n      <th>sunrise</th>\n      <th>sunset</th>\n      <th>weather_id</th>\n      <th>weather_main</th>\n      <th>weather_description</th>\n      <th>weather_icon</th>\n    </tr>\n  </thead>\n  <tbody>\n    <tr>\n      <th>0</th>\n      <td>stations</td>\n      <td>10000</td>\n      <td>2024-02-07 11:01:05</td>\n      <td>10800</td>\n      <td>745044</td>\n      <td>Istanbul</td>\n      <td>200</td>\n      <td>28.9497</td>\n      <td>41.0138</td>\n      <td>14.04</td>\n      <td>13.38</td>\n      <td>14.04</td>\n      <td>17.45</td>\n      <td>1015</td>\n      <td>72</td>\n      <td>2.06</td>\n      <td>230</td>\n      <td>0</td>\n      <td>1</td>\n      <td>6970</td>\n      <td>TR</td>\n      <td>2024-02-07 05:09:28</td>\n      <td>2024-02-07 15:27:10</td>\n      <td>800</td>\n      <td>Clear</td>\n      <td>clear sky</td>\n      <td>01d</td>\n    </tr>\n  </tbody>\n</table>\n</div>"
     },
     "execution_count": 69,
     "metadata": {},
     "output_type": "execute_result"
    }
   ],
   "source": [
    "dates_df.head()"
   ],
   "metadata": {
    "collapsed": false,
    "ExecuteTime": {
     "end_time": "2024-02-08T16:44:18.921022700Z",
     "start_time": "2024-02-08T16:44:18.839971800Z"
    }
   },
   "execution_count": 69
  },
  {
   "cell_type": "code",
   "outputs": [
    {
     "name": "stdout",
     "output_type": "stream",
     "text": [
      "[[0, 'base'], [1, 'visibility'], [2, 'date'], [3, 'timezone'], [4, 'country_id'], [5, 'city'], [6, 'cod'], [7, 'longitude'], [8, 'latitude'], [9, 'main_temp'], [10, 'main_feels_like'], [11, 'main_temp_min'], [12, 'main_temp_max'], [13, 'pressure'], [14, 'humidity'], [15, 'wind_speed'], [16, 'wind_deg'], [17, 'clouds'], [18, 'sys_type'], [19, 'sys_id'], [20, 'country'], [21, 'sunrise'], [22, 'sunset'], [23, 'weather_id'], [24, 'weather_main'], [25, 'weather_description'], [26, 'weather_icon']]\n"
     ]
    }
   ],
   "source": [
    "columns = dates_df.columns.tolist()\n",
    "\n",
    "index_col = []\n",
    "for i, col in enumerate(columns):\n",
    "    index_col.append([i, col])\n",
    "    \n",
    "print(index_col)"
   ],
   "metadata": {
    "collapsed": false,
    "ExecuteTime": {
     "end_time": "2024-02-08T17:18:04.610678300Z",
     "start_time": "2024-02-08T17:18:04.561382900Z"
    }
   },
   "execution_count": 86
  },
  {
   "cell_type": "code",
   "outputs": [
    {
     "data": {
      "text/plain": "   country_id country      city  longitude  latitude  main_temp  \\\n0      745044      TR  Istanbul    28.9497   41.0138      14.04   \n\n   main_feels_like  main_temp_min  main_temp_max                date  \\\n0            13.38          14.04          17.45 2024-02-07 11:01:05   \n\n   timezone             sunrise              sunset  weather_id weather_main  \\\n0     10800 2024-02-07 05:09:28 2024-02-07 15:27:10         800        Clear   \n\n  weather_description weather_icon  pressure  humidity  wind_speed  wind_deg  \\\n0           clear sky          01d      1015        72        2.06       230   \n\n   clouds  visibility      base  sys_type  sys_id  cod  \n0       0       10000  stations         1    6970  200  ",
      "text/html": "<div>\n<style scoped>\n    .dataframe tbody tr th:only-of-type {\n        vertical-align: middle;\n    }\n\n    .dataframe tbody tr th {\n        vertical-align: top;\n    }\n\n    .dataframe thead th {\n        text-align: right;\n    }\n</style>\n<table border=\"1\" class=\"dataframe\">\n  <thead>\n    <tr style=\"text-align: right;\">\n      <th></th>\n      <th>country_id</th>\n      <th>country</th>\n      <th>city</th>\n      <th>longitude</th>\n      <th>latitude</th>\n      <th>main_temp</th>\n      <th>main_feels_like</th>\n      <th>main_temp_min</th>\n      <th>main_temp_max</th>\n      <th>date</th>\n      <th>timezone</th>\n      <th>sunrise</th>\n      <th>sunset</th>\n      <th>weather_id</th>\n      <th>weather_main</th>\n      <th>weather_description</th>\n      <th>weather_icon</th>\n      <th>pressure</th>\n      <th>humidity</th>\n      <th>wind_speed</th>\n      <th>wind_deg</th>\n      <th>clouds</th>\n      <th>visibility</th>\n      <th>base</th>\n      <th>sys_type</th>\n      <th>sys_id</th>\n      <th>cod</th>\n    </tr>\n  </thead>\n  <tbody>\n    <tr>\n      <th>0</th>\n      <td>745044</td>\n      <td>TR</td>\n      <td>Istanbul</td>\n      <td>28.9497</td>\n      <td>41.0138</td>\n      <td>14.04</td>\n      <td>13.38</td>\n      <td>14.04</td>\n      <td>17.45</td>\n      <td>2024-02-07 11:01:05</td>\n      <td>10800</td>\n      <td>2024-02-07 05:09:28</td>\n      <td>2024-02-07 15:27:10</td>\n      <td>800</td>\n      <td>Clear</td>\n      <td>clear sky</td>\n      <td>01d</td>\n      <td>1015</td>\n      <td>72</td>\n      <td>2.06</td>\n      <td>230</td>\n      <td>0</td>\n      <td>10000</td>\n      <td>stations</td>\n      <td>1</td>\n      <td>6970</td>\n      <td>200</td>\n    </tr>\n  </tbody>\n</table>\n</div>"
     },
     "execution_count": 107,
     "metadata": {},
     "output_type": "execute_result"
    }
   ],
   "source": [
    "reordered_columns = ['country_id', 'country', 'city', 'longitude', 'latitude', 'main_temp', 'main_feels_like', 'main_temp_min', 'main_temp_max', 'date', 'timezone', 'sunrise', 'sunset', 'weather_id', 'weather_main', 'weather_description', 'weather_icon', 'pressure', 'humidity', 'wind_speed', 'wind_deg', 'clouds', 'visibility', 'base', 'sys_type', 'sys_id', 'cod']\n",
    "\n",
    "reordered_df = dates_df[reordered_columns]\n",
    "\n",
    "reordered_df.head()"
   ],
   "metadata": {
    "collapsed": false,
    "ExecuteTime": {
     "end_time": "2024-02-08T17:26:33.977812300Z",
     "start_time": "2024-02-08T17:26:33.879500400Z"
    }
   },
   "execution_count": 107
  },
  {
   "cell_type": "code",
   "outputs": [
    {
     "name": "stdout",
     "output_type": "stream",
     "text": [
      "Column: country_id\n",
      "Value length: 6 \n",
      "\n",
      "Column: country\n",
      "Value length: 2 \n",
      "\n",
      "Column: city\n",
      "Value length: 8 \n",
      "\n",
      "Column: longitude\n",
      "Value length: 7 \n",
      "\n",
      "Column: latitude\n",
      "Value length: 7 \n",
      "\n",
      "Column: main_temp\n",
      "Value length: 5 \n",
      "\n",
      "Column: main_feels_like\n",
      "Value length: 5 \n",
      "\n",
      "Column: main_temp_min\n",
      "Value length: 5 \n",
      "\n",
      "Column: main_temp_max\n",
      "Value length: 5 \n",
      "\n",
      "Column: date\n",
      "Value length: 19 \n",
      "\n",
      "Column: timezone\n",
      "Value length: 5 \n",
      "\n",
      "Column: sunrise\n",
      "Value length: 19 \n",
      "\n",
      "Column: sunset\n",
      "Value length: 19 \n",
      "\n",
      "Column: weather_id\n",
      "Value length: 3 \n",
      "\n",
      "Column: weather_main\n",
      "Value length: 5 \n",
      "\n",
      "Column: weather_description\n",
      "Value length: 9 \n",
      "\n",
      "Column: weather_icon\n",
      "Value length: 3 \n",
      "\n",
      "Column: pressure\n",
      "Value length: 4 \n",
      "\n",
      "Column: humidity\n",
      "Value length: 2 \n",
      "\n",
      "Column: wind_speed\n",
      "Value length: 4 \n",
      "\n",
      "Column: wind_deg\n",
      "Value length: 3 \n",
      "\n",
      "Column: clouds\n",
      "Value length: 1 \n",
      "\n",
      "Column: visibility\n",
      "Value length: 5 \n",
      "\n",
      "Column: base\n",
      "Value length: 8 \n",
      "\n",
      "Column: sys_type\n",
      "Value length: 1 \n",
      "\n",
      "Column: sys_id\n",
      "Value length: 4 \n",
      "\n",
      "Column: cod\n",
      "Value length: 3 \n"
     ]
    }
   ],
   "source": [
    "city_df_val_len = longest_value(reordered_df)"
   ],
   "metadata": {
    "collapsed": false,
    "ExecuteTime": {
     "end_time": "2024-02-08T17:44:53.441289700Z",
     "start_time": "2024-02-08T17:44:53.408752300Z"
    }
   },
   "execution_count": 109
  },
  {
   "cell_type": "code",
   "outputs": [
    {
     "name": "stdout",
     "output_type": "stream",
     "text": [
      "<class 'pandas.core.frame.DataFrame'>\n",
      "RangeIndex: 1 entries, 0 to 0\n",
      "Data columns (total 27 columns):\n",
      " #   Column               Non-Null Count  Dtype         \n",
      "---  ------               --------------  -----         \n",
      " 0   country_id           1 non-null      int64         \n",
      " 1   country              1 non-null      object        \n",
      " 2   city                 1 non-null      object        \n",
      " 3   longitude            1 non-null      float64       \n",
      " 4   latitude             1 non-null      float64       \n",
      " 5   main_temp            1 non-null      float64       \n",
      " 6   main_feels_like      1 non-null      float64       \n",
      " 7   main_temp_min        1 non-null      float64       \n",
      " 8   main_temp_max        1 non-null      float64       \n",
      " 9   date                 1 non-null      datetime64[ns]\n",
      " 10  timezone             1 non-null      int64         \n",
      " 11  sunrise              1 non-null      datetime64[ns]\n",
      " 12  sunset               1 non-null      datetime64[ns]\n",
      " 13  weather_id           1 non-null      int64         \n",
      " 14  weather_main         1 non-null      object        \n",
      " 15  weather_description  1 non-null      object        \n",
      " 16  weather_icon         1 non-null      object        \n",
      " 17  pressure             1 non-null      int64         \n",
      " 18  humidity             1 non-null      int64         \n",
      " 19  wind_speed           1 non-null      float64       \n",
      " 20  wind_deg             1 non-null      int64         \n",
      " 21  clouds               1 non-null      int64         \n",
      " 22  visibility           1 non-null      int64         \n",
      " 23  base                 1 non-null      object        \n",
      " 24  sys_type             1 non-null      int64         \n",
      " 25  sys_id               1 non-null      int64         \n",
      " 26  cod                  1 non-null      int64         \n",
      "dtypes: datetime64[ns](3), float64(7), int64(11), object(6)\n",
      "memory usage: 348.0+ bytes\n",
      "None \n",
      "\n",
      "   country_id country      city  longitude  latitude  main_temp  \\\n",
      "0      745044      TR  Istanbul    28.9497   41.0138      14.04   \n",
      "\n",
      "   main_feels_like  main_temp_min  main_temp_max                date  \\\n",
      "0            13.38          14.04          17.45 2024-02-07 11:01:05   \n",
      "\n",
      "   timezone             sunrise              sunset  weather_id weather_main  \\\n",
      "0     10800 2024-02-07 05:09:28 2024-02-07 15:27:10         800        Clear   \n",
      "\n",
      "  weather_description weather_icon  pressure  humidity  wind_speed  wind_deg  \\\n",
      "0           clear sky          01d      1015        72        2.06       230   \n",
      "\n",
      "   clouds  visibility      base  sys_type  sys_id  cod  \n",
      "0       0       10000  stations         1    6970  200  \n"
     ]
    }
   ],
   "source": [
    "city_inspect = inspect_dataframe(reordered_df)"
   ],
   "metadata": {
    "collapsed": false,
    "ExecuteTime": {
     "end_time": "2024-02-08T17:45:10.377254700Z",
     "start_time": "2024-02-08T17:45:10.346412700Z"
    }
   },
   "execution_count": 110
  },
  {
   "cell_type": "code",
   "outputs": [],
   "source": [],
   "metadata": {
    "collapsed": false
   }
  }
 ],
 "metadata": {
  "kernelspec": {
   "display_name": "Python 3",
   "language": "python",
   "name": "python3"
  },
  "language_info": {
   "codemirror_mode": {
    "name": "ipython",
    "version": 3
   },
   "file_extension": ".py",
   "mimetype": "text/x-python",
   "name": "python",
   "nbconvert_exporter": "python",
   "pygments_lexer": "ipython3",
   "version": "3.8.5"
  }
 },
 "nbformat": 4,
 "nbformat_minor": 4
}
