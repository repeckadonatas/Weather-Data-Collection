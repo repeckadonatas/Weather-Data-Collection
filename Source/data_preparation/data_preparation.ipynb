{
 "cells": [
  {
   "cell_type": "code",
   "execution_count": 62,
   "metadata": {
    "ExecuteTime": {
     "end_time": "2024-02-16T14:46:18.496166900Z",
     "start_time": "2024-02-16T14:46:18.441365200Z"
    }
   },
   "outputs": [],
   "source": [
    "import os\n",
    "import json\n",
    "import pytz\n",
    "import pandas as pd\n",
    "import numpy as np\n",
    "from pathlib import Path\n",
    "from ast import literal_eval\n",
    "# import Source.db_functions as db\n",
    "\n",
    "from dateutil.tz import tz\n",
    "from sqlalchemy import engine"
   ]
  },
  {
   "cell_type": "markdown",
   "metadata": {},
   "source": [
    "## Main functions to manipulate a dataframe\n",
    "\n",
    "### For testing purposes of data manipulation functions"
   ]
  },
  {
   "cell_type": "code",
   "execution_count": 63,
   "metadata": {
    "ExecuteTime": {
     "end_time": "2024-02-16T14:46:21.043800100Z",
     "start_time": "2024-02-16T14:46:21.032331400Z"
    }
   },
   "outputs": [],
   "source": [
    "def get_files_in_directory() -> list:\n",
    "    \"\"\"\n",
    "    Sets a path to JSON file.\n",
    "    :returns a file name in a set path\n",
    "    \"\"\"\n",
    "    path_to_files = '../data/input/'\n",
    "    files_in_path = os.scandir(path_to_files)\n",
    "    \n",
    "    list_of_files = []\n",
    "    for file in files_in_path:\n",
    "        if file.is_dir() or file.is_file():\n",
    "            list_of_files.append(file.name)\n",
    "            return list_of_files    # <- don't forget to align this statement back with for!!!!!"
   ]
  },
  {
   "cell_type": "code",
   "execution_count": 64,
   "metadata": {
    "ExecuteTime": {
     "end_time": "2024-02-16T14:46:21.541032600Z",
     "start_time": "2024-02-16T14:46:21.528243700Z"
    }
   },
   "outputs": [],
   "source": [
    "def create_dataframe(file_json: str) -> pd.DataFrame:\n",
    "    \"\"\"\n",
    "    Creates a pandas dataframe from JSON file.\n",
    "    Sets the maximum available columns to be shown.\n",
    "    Requires name of the file.\n",
    "    \"\"\"\n",
    "    path_to_files = '../data/input/'\n",
    "    with open(path_to_files + file_json) as jfile:\n",
    "        json_data = json.load(jfile)\n",
    "        df = pd.DataFrame(pd.json_normalize(json_data))\n",
    "        pd.set_option('display.max_columns', None)\n",
    "    return df"
   ]
  },
  {
   "cell_type": "code",
   "execution_count": 65,
   "metadata": {
    "collapsed": false,
    "ExecuteTime": {
     "end_time": "2024-02-16T14:46:22.405466Z",
     "start_time": "2024-02-16T14:46:22.390361900Z"
    }
   },
   "outputs": [],
   "source": [
    "# FLATTEN JSON FILE!!!\n",
    "def flatten_json_file(dataframe: pd.DataFrame, row: str) -> pd.DataFrame:\n",
    "    \"\"\"\n",
    "    Flattens the supplied dataframe and returns a new dataframe with flattened json data.\n",
    "    :param dataframe: dataframe to flatten\n",
    "    :return: new dataframe with flattened json data\n",
    "    \"\"\"\n",
    "    dataframe_flat = dataframe[row].apply(pd.Series)\n",
    "    dataframe_flat_0 = dataframe_flat[0].apply(pd.Series)\n",
    "    dataframe_flat_0.columns = ['weather_id', 'weather_main', 'weather_description', 'weather_icon']\n",
    "    dataframe_new = pd.concat([dataframe, dataframe_flat_0], axis=1)\n",
    "    dataframe_new = dataframe_new.drop(columns=['weather'], axis=1)\n",
    "    return dataframe_new"
   ]
  },
  {
   "cell_type": "code",
   "execution_count": 99,
   "metadata": {
    "collapsed": false,
    "ExecuteTime": {
     "end_time": "2024-02-16T15:18:10.607439Z",
     "start_time": "2024-02-16T15:18:10.559926200Z"
    }
   },
   "outputs": [],
   "source": [
    "def change_column_names(dataframe: pd.DataFrame) -> pd.DataFrame:\n",
    "    \"\"\"\n",
    "    Changes the column names of the dataframe to their new column names.\n",
    "    :param dataframe: a pandas dataframe to change column names\n",
    "    :return: dataframe with new column names\n",
    "    \"\"\"\n",
    "    new_names = {\"dt\": \"date_local\",\n",
    "                 \"name\": \"city\",\n",
    "                 \"id\": \"country_id\", \n",
    "                 \"coord.lon\": \"longitude\",\n",
    "                 \"coord.lat\": \"latitude\",\n",
    "                 \"main.temp\": \"main_temp\",\n",
    "                 \"main.feels_like\": \"main_feels_like\",\n",
    "                 \"main.temp_min\": \"main_temp_min\",\n",
    "                 \"main.temp_max\": \"main_temp_max\",\n",
    "                 \"main.pressure\": \"pressure\",\n",
    "                 \"main.humidity\": \"humidity\",\n",
    "                 \"wind.speed\": \"wind_speed\",\n",
    "                 \"wind.deg\": \"wind_deg\",\n",
    "                 \"clouds.all\": \"clouds\",\n",
    "                 \"sys.type\": \"sys_type\",\n",
    "                 \"sys.id\": \"sys_id\",\n",
    "                 \"sys.country\": \"country\",\n",
    "                 \"sys.sunrise\": \"sunrise_local\",\n",
    "                 \"sys.sunset\": \"sunset_local\"}\n",
    "    dataframe.rename(columns=new_names, inplace=True)\n",
    "    return dataframe"
   ]
  },
  {
   "cell_type": "code",
   "execution_count": 214,
   "metadata": {
    "collapsed": false,
    "ExecuteTime": {
     "end_time": "2024-02-16T17:13:22.049069800Z",
     "start_time": "2024-02-16T17:13:21.952549700Z"
    }
   },
   "outputs": [],
   "source": [
    "def change_datetime_format(dataframe: pd.DataFrame) -> pd.DataFrame:\n",
    "    \"\"\"\n",
    "    Change datetime format of a given dataframe to ISO 8601 format\n",
    "    :param dataframe: dataframe to change datetime format for.\n",
    "    :return: dataframe with changed datetime format\n",
    "    \"\"\"\n",
    "    date_cols = ['date_local', 'sunrise_local', 'sunset_local']\n",
    "    local_timezone = pytz.timezone('Europe/Vilnius')\n",
    "    dataframe['date_vilnius'] = (pd.to_datetime(dataframe['date_local'], unit='s', errors='coerce', utc=True)\n",
    "                                 .dt.tz_convert(local_timezone))\n",
    "\n",
    "    for i in date_cols:\n",
    "        dataframe[i] = dataframe[i] + dataframe['timezone']\n",
    "        dataframe[i] = pd.to_datetime(dataframe[i], unit='s', errors='coerce')\n",
    "        \n",
    "    return dataframe"
   ]
  },
  {
   "cell_type": "code",
   "execution_count": 92,
   "metadata": {
    "collapsed": false,
    "ExecuteTime": {
     "end_time": "2024-02-16T15:16:55.376708200Z",
     "start_time": "2024-02-16T15:16:55.281681500Z"
    }
   },
   "outputs": [],
   "source": [
    "def reorder_dataframe_columns(dataframe: pd.DataFrame) -> pd.DataFrame:\n",
    "    reordered_columns = ['longitude', 'latitude', 'country_id', 'country', 'city', 'main_temp', 'main_feels_like', 'main_temp_min', 'main_temp_max', 'date_vilnius', 'date_local', 'timezone', 'sunrise_local', 'sunset_local', 'weather_id', 'weather_main', 'weather_description', 'weather_icon', 'pressure', 'humidity', 'wind_speed', 'wind_deg', 'clouds', 'visibility', 'base', 'sys_type', 'sys_id', 'cod']\n",
    "    \n",
    "    dataframe = dataframe[reordered_columns]\n",
    "    return dataframe"
   ]
  },
  {
   "cell_type": "code",
   "execution_count": 69,
   "metadata": {
    "ExecuteTime": {
     "end_time": "2024-02-16T14:46:30.645695Z",
     "start_time": "2024-02-16T14:46:30.629421200Z"
    }
   },
   "outputs": [],
   "source": [
    "def inspect_dataframe(dataframe: pd.DataFrame):\n",
    "    \"\"\"\n",
    "    Returns information about the dataset \n",
    "    and shows a preview of the data in it.\n",
    "    \"\"\"\n",
    "    print(dataframe.info(), '\\n')\n",
    "    print(dataframe.head())"
   ]
  },
  {
   "cell_type": "code",
   "execution_count": 9,
   "metadata": {
    "collapsed": false,
    "ExecuteTime": {
     "end_time": "2024-02-15T10:35:27.186160500Z",
     "start_time": "2024-02-15T10:35:27.149635100Z"
    }
   },
   "outputs": [],
   "source": [
    "def load_to_database(dataframe: pd.DataFrame, table_name: str) -> None:\n",
    "    \"\"\"\n",
    "    Function to load the data of a dataframe to a specified table in the database.\n",
    "    :param dataframe: dataframe to load data from.\n",
    "    :param table_name: table to load the data to.\n",
    "    :return: None\n",
    "    \"\"\"\n",
    "    \n",
    "    dataframe.to_sql(table_name, engine, if_exists='append')"
   ]
  },
  {
   "cell_type": "markdown",
   "metadata": {},
   "source": [
    "## Finding the longest value in each column of a given dataframe"
   ]
  },
  {
   "cell_type": "code",
   "execution_count": 70,
   "metadata": {
    "ExecuteTime": {
     "end_time": "2024-02-16T14:46:35.499272100Z",
     "start_time": "2024-02-16T14:46:35.478758600Z"
    }
   },
   "outputs": [],
   "source": [
    "def longest_value(dataframe: pd.DataFrame):\n",
    "    \"\"\"\n",
    "    Checking for the longest value in each column of a given dataframe.\n",
    "    \"\"\"\n",
    "    for row in dataframe:\n",
    "        col_name = row\n",
    "\n",
    "        if dataframe[row].dtype == float or int:\n",
    "            list_len = dataframe[row].astype(str).str.len().max()\n",
    "\n",
    "        else:\n",
    "            list_len = max(list(map(len, dataframe[row].values)))\n",
    "\n",
    "        print('Column:', col_name)\n",
    "        print('Value length:', list_len, '\\n')"
   ]
  },
  {
   "cell_type": "markdown",
   "metadata": {},
   "source": [
    "## Files in ../data/input location"
   ]
  },
  {
   "cell_type": "code",
   "execution_count": 215,
   "metadata": {
    "ExecuteTime": {
     "end_time": "2024-02-16T17:13:26.742975300Z",
     "start_time": "2024-02-16T17:13:26.711618300Z"
    }
   },
   "outputs": [
    {
     "name": "stdout",
     "output_type": "stream",
     "text": [
      "['Barcelona, Spain_response.json']\n"
     ]
    }
   ],
   "source": [
    "cities = get_files_in_directory()\n",
    "print(cities)"
   ]
  },
  {
   "cell_type": "code",
   "execution_count": 216,
   "metadata": {
    "collapsed": false,
    "ExecuteTime": {
     "end_time": "2024-02-16T17:13:27.388359300Z",
     "start_time": "2024-02-16T17:13:27.309379600Z"
    }
   },
   "outputs": [
    {
     "data": {
      "text/plain": "                                             weather      base  visibility  \\\n0  [{'id': 500, 'main': 'Rain', 'description': 'l...  stations       10000   \n\n           dt  timezone       id       name  cod  coord.lon  coord.lat  \\\n0  1708103350      3600  3128760  Barcelona  200      2.159    41.3888   \n\n   main.temp  main.feels_like  main.temp_min  main.temp_max  main.pressure  \\\n0      14.13            13.58          13.08          15.72           1021   \n\n   main.humidity  wind.speed  wind.deg  rain.1h  clouds.all  sys.type  sys.id  \\\n0             76         3.6       140     0.11          75         2   18549   \n\n  sys.country  sys.sunrise  sys.sunset  \n0          ES   1708065970  1708104303  ",
      "text/html": "<div>\n<style scoped>\n    .dataframe tbody tr th:only-of-type {\n        vertical-align: middle;\n    }\n\n    .dataframe tbody tr th {\n        vertical-align: top;\n    }\n\n    .dataframe thead th {\n        text-align: right;\n    }\n</style>\n<table border=\"1\" class=\"dataframe\">\n  <thead>\n    <tr style=\"text-align: right;\">\n      <th></th>\n      <th>weather</th>\n      <th>base</th>\n      <th>visibility</th>\n      <th>dt</th>\n      <th>timezone</th>\n      <th>id</th>\n      <th>name</th>\n      <th>cod</th>\n      <th>coord.lon</th>\n      <th>coord.lat</th>\n      <th>main.temp</th>\n      <th>main.feels_like</th>\n      <th>main.temp_min</th>\n      <th>main.temp_max</th>\n      <th>main.pressure</th>\n      <th>main.humidity</th>\n      <th>wind.speed</th>\n      <th>wind.deg</th>\n      <th>rain.1h</th>\n      <th>clouds.all</th>\n      <th>sys.type</th>\n      <th>sys.id</th>\n      <th>sys.country</th>\n      <th>sys.sunrise</th>\n      <th>sys.sunset</th>\n    </tr>\n  </thead>\n  <tbody>\n    <tr>\n      <th>0</th>\n      <td>[{'id': 500, 'main': 'Rain', 'description': 'l...</td>\n      <td>stations</td>\n      <td>10000</td>\n      <td>1708103350</td>\n      <td>3600</td>\n      <td>3128760</td>\n      <td>Barcelona</td>\n      <td>200</td>\n      <td>2.159</td>\n      <td>41.3888</td>\n      <td>14.13</td>\n      <td>13.58</td>\n      <td>13.08</td>\n      <td>15.72</td>\n      <td>1021</td>\n      <td>76</td>\n      <td>3.6</td>\n      <td>140</td>\n      <td>0.11</td>\n      <td>75</td>\n      <td>2</td>\n      <td>18549</td>\n      <td>ES</td>\n      <td>1708065970</td>\n      <td>1708104303</td>\n    </tr>\n  </tbody>\n</table>\n</div>"
     },
     "execution_count": 216,
     "metadata": {},
     "output_type": "execute_result"
    }
   ],
   "source": [
    "for city in cities:\n",
    "    city_df = create_dataframe(city)\n",
    "\n",
    "city_df.head()"
   ]
  },
  {
   "cell_type": "code",
   "execution_count": 217,
   "metadata": {
    "collapsed": false,
    "ExecuteTime": {
     "end_time": "2024-02-16T17:13:29.564488200Z",
     "start_time": "2024-02-16T17:13:29.377285700Z"
    }
   },
   "outputs": [
    {
     "data": {
      "text/plain": "       base  visibility          dt  timezone       id       name  cod  \\\n0  stations       10000  1708103350      3600  3128760  Barcelona  200   \n\n   coord.lon  coord.lat  main.temp  main.feels_like  main.temp_min  \\\n0      2.159    41.3888      14.13            13.58          13.08   \n\n   main.temp_max  main.pressure  main.humidity  wind.speed  wind.deg  rain.1h  \\\n0          15.72           1021             76         3.6       140     0.11   \n\n   clouds.all  sys.type  sys.id sys.country  sys.sunrise  sys.sunset  \\\n0          75         2   18549          ES   1708065970  1708104303   \n\n   weather_id weather_main weather_description weather_icon  \n0         500         Rain          light rain          10d  ",
      "text/html": "<div>\n<style scoped>\n    .dataframe tbody tr th:only-of-type {\n        vertical-align: middle;\n    }\n\n    .dataframe tbody tr th {\n        vertical-align: top;\n    }\n\n    .dataframe thead th {\n        text-align: right;\n    }\n</style>\n<table border=\"1\" class=\"dataframe\">\n  <thead>\n    <tr style=\"text-align: right;\">\n      <th></th>\n      <th>base</th>\n      <th>visibility</th>\n      <th>dt</th>\n      <th>timezone</th>\n      <th>id</th>\n      <th>name</th>\n      <th>cod</th>\n      <th>coord.lon</th>\n      <th>coord.lat</th>\n      <th>main.temp</th>\n      <th>main.feels_like</th>\n      <th>main.temp_min</th>\n      <th>main.temp_max</th>\n      <th>main.pressure</th>\n      <th>main.humidity</th>\n      <th>wind.speed</th>\n      <th>wind.deg</th>\n      <th>rain.1h</th>\n      <th>clouds.all</th>\n      <th>sys.type</th>\n      <th>sys.id</th>\n      <th>sys.country</th>\n      <th>sys.sunrise</th>\n      <th>sys.sunset</th>\n      <th>weather_id</th>\n      <th>weather_main</th>\n      <th>weather_description</th>\n      <th>weather_icon</th>\n    </tr>\n  </thead>\n  <tbody>\n    <tr>\n      <th>0</th>\n      <td>stations</td>\n      <td>10000</td>\n      <td>1708103350</td>\n      <td>3600</td>\n      <td>3128760</td>\n      <td>Barcelona</td>\n      <td>200</td>\n      <td>2.159</td>\n      <td>41.3888</td>\n      <td>14.13</td>\n      <td>13.58</td>\n      <td>13.08</td>\n      <td>15.72</td>\n      <td>1021</td>\n      <td>76</td>\n      <td>3.6</td>\n      <td>140</td>\n      <td>0.11</td>\n      <td>75</td>\n      <td>2</td>\n      <td>18549</td>\n      <td>ES</td>\n      <td>1708065970</td>\n      <td>1708104303</td>\n      <td>500</td>\n      <td>Rain</td>\n      <td>light rain</td>\n      <td>10d</td>\n    </tr>\n  </tbody>\n</table>\n</div>"
     },
     "execution_count": 217,
     "metadata": {},
     "output_type": "execute_result"
    }
   ],
   "source": [
    "flatten_df = flatten_json_file(city_df, 'weather')\n",
    "flatten_df.head()"
   ]
  },
  {
   "cell_type": "code",
   "execution_count": 218,
   "metadata": {
    "collapsed": false,
    "ExecuteTime": {
     "end_time": "2024-02-16T17:13:30.870250400Z",
     "start_time": "2024-02-16T17:13:30.686219700Z"
    }
   },
   "outputs": [
    {
     "data": {
      "text/plain": "       base  visibility  date_local  timezone  country_id       city  cod  \\\n0  stations       10000  1708103350      3600     3128760  Barcelona  200   \n\n   longitude  latitude  main_temp  main_feels_like  main_temp_min  \\\n0      2.159   41.3888      14.13            13.58          13.08   \n\n   main_temp_max  pressure  humidity  wind_speed  wind_deg  rain.1h  clouds  \\\n0          15.72      1021        76         3.6       140     0.11      75   \n\n   sys_type  sys_id country  sunrise_local  sunset_local  weather_id  \\\n0         2   18549      ES     1708065970    1708104303         500   \n\n  weather_main weather_description weather_icon  \n0         Rain          light rain          10d  ",
      "text/html": "<div>\n<style scoped>\n    .dataframe tbody tr th:only-of-type {\n        vertical-align: middle;\n    }\n\n    .dataframe tbody tr th {\n        vertical-align: top;\n    }\n\n    .dataframe thead th {\n        text-align: right;\n    }\n</style>\n<table border=\"1\" class=\"dataframe\">\n  <thead>\n    <tr style=\"text-align: right;\">\n      <th></th>\n      <th>base</th>\n      <th>visibility</th>\n      <th>date_local</th>\n      <th>timezone</th>\n      <th>country_id</th>\n      <th>city</th>\n      <th>cod</th>\n      <th>longitude</th>\n      <th>latitude</th>\n      <th>main_temp</th>\n      <th>main_feels_like</th>\n      <th>main_temp_min</th>\n      <th>main_temp_max</th>\n      <th>pressure</th>\n      <th>humidity</th>\n      <th>wind_speed</th>\n      <th>wind_deg</th>\n      <th>rain.1h</th>\n      <th>clouds</th>\n      <th>sys_type</th>\n      <th>sys_id</th>\n      <th>country</th>\n      <th>sunrise_local</th>\n      <th>sunset_local</th>\n      <th>weather_id</th>\n      <th>weather_main</th>\n      <th>weather_description</th>\n      <th>weather_icon</th>\n    </tr>\n  </thead>\n  <tbody>\n    <tr>\n      <th>0</th>\n      <td>stations</td>\n      <td>10000</td>\n      <td>1708103350</td>\n      <td>3600</td>\n      <td>3128760</td>\n      <td>Barcelona</td>\n      <td>200</td>\n      <td>2.159</td>\n      <td>41.3888</td>\n      <td>14.13</td>\n      <td>13.58</td>\n      <td>13.08</td>\n      <td>15.72</td>\n      <td>1021</td>\n      <td>76</td>\n      <td>3.6</td>\n      <td>140</td>\n      <td>0.11</td>\n      <td>75</td>\n      <td>2</td>\n      <td>18549</td>\n      <td>ES</td>\n      <td>1708065970</td>\n      <td>1708104303</td>\n      <td>500</td>\n      <td>Rain</td>\n      <td>light rain</td>\n      <td>10d</td>\n    </tr>\n  </tbody>\n</table>\n</div>"
     },
     "execution_count": 218,
     "metadata": {},
     "output_type": "execute_result"
    }
   ],
   "source": [
    "names_df = change_column_names(flatten_df)\n",
    "names_df.head()"
   ]
  },
  {
   "cell_type": "code",
   "outputs": [
    {
     "name": "stdout",
     "output_type": "stream",
     "text": [
      "0    1708102651\n",
      "Name: date_local_new, dtype: int64\n",
      "0    1708102651\n",
      "Name: date_local_new, dtype: int64\n",
      "0   2024-02-16 16:57:31+00:00\n",
      "Name: date_local_new_2, dtype: datetime64[ns, UTC]\n",
      "0   2024-02-16 18:57:31+02:00\n",
      "Name: date_vilnius, dtype: datetime64[ns, Europe/Vilnius]\n"
     ]
    }
   ],
   "source": [
    "names_df['date_local_new'] = names_df['date_local'] + names_df['timezone']\n",
    "print(names_df['date_local_new'])\n",
    "print(names_df['date_local_new'])\n",
    "names_df['date_local_new_2'] = pd.to_datetime(names_df['date_local_new'], unit='s', errors='coerce', utc=True)\n",
    "print(names_df['date_local_new_2'])\n",
    "names_df['date_vilnius'] = names_df['date_local_new_2'].dt.tz_convert('Europe/Vilnius')\n",
    "print(names_df['date_vilnius'])"
   ],
   "metadata": {
    "collapsed": false,
    "ExecuteTime": {
     "end_time": "2024-02-16T16:07:39.053016900Z",
     "start_time": "2024-02-16T16:07:39.002139700Z"
    }
   },
   "execution_count": 119
  },
  {
   "cell_type": "code",
   "outputs": [
    {
     "name": "stdout",
     "output_type": "stream",
     "text": [
      "Europe/Vilnius\n"
     ]
    },
    {
     "data": {
      "text/plain": "       base  visibility                      date  timezone  country_id  \\\n0  stations       10000 2024-02-15 15:59:01+00:00      3600     3128760   \n\n        city  cod  longitude  latitude  main_temp  main_feels_like  \\\n0  Barcelona  200      2.159   41.3888       16.9            16.47   \n\n   main_temp_min  main_temp_max  pressure  humidity  wind_speed  wind_deg  \\\n0          14.71          20.72      1017        70        3.09       110   \n\n   clouds  sys_type  sys_id country     sunrise      sunset  weather_id  \\\n0       0         2   18549      ES  1707979649  1708017828         800   \n\n  weather_main weather_description weather_icon                   date_df  \n0        Clear           clear sky          01d 2024-02-15 17:59:01+02:00  ",
      "text/html": "<div>\n<style scoped>\n    .dataframe tbody tr th:only-of-type {\n        vertical-align: middle;\n    }\n\n    .dataframe tbody tr th {\n        vertical-align: top;\n    }\n\n    .dataframe thead th {\n        text-align: right;\n    }\n</style>\n<table border=\"1\" class=\"dataframe\">\n  <thead>\n    <tr style=\"text-align: right;\">\n      <th></th>\n      <th>base</th>\n      <th>visibility</th>\n      <th>date</th>\n      <th>timezone</th>\n      <th>country_id</th>\n      <th>city</th>\n      <th>cod</th>\n      <th>longitude</th>\n      <th>latitude</th>\n      <th>main_temp</th>\n      <th>main_feels_like</th>\n      <th>main_temp_min</th>\n      <th>main_temp_max</th>\n      <th>pressure</th>\n      <th>humidity</th>\n      <th>wind_speed</th>\n      <th>wind_deg</th>\n      <th>clouds</th>\n      <th>sys_type</th>\n      <th>sys_id</th>\n      <th>country</th>\n      <th>sunrise</th>\n      <th>sunset</th>\n      <th>weather_id</th>\n      <th>weather_main</th>\n      <th>weather_description</th>\n      <th>weather_icon</th>\n      <th>date_df</th>\n    </tr>\n  </thead>\n  <tbody>\n    <tr>\n      <th>0</th>\n      <td>stations</td>\n      <td>10000</td>\n      <td>2024-02-15 15:59:01+00:00</td>\n      <td>3600</td>\n      <td>3128760</td>\n      <td>Barcelona</td>\n      <td>200</td>\n      <td>2.159</td>\n      <td>41.3888</td>\n      <td>16.9</td>\n      <td>16.47</td>\n      <td>14.71</td>\n      <td>20.72</td>\n      <td>1017</td>\n      <td>70</td>\n      <td>3.09</td>\n      <td>110</td>\n      <td>0</td>\n      <td>2</td>\n      <td>18549</td>\n      <td>ES</td>\n      <td>1707979649</td>\n      <td>1708017828</td>\n      <td>800</td>\n      <td>Clear</td>\n      <td>clear sky</td>\n      <td>01d</td>\n      <td>2024-02-15 17:59:01+02:00</td>\n    </tr>\n  </tbody>\n</table>\n</div>"
     },
     "execution_count": 58,
     "metadata": {},
     "output_type": "execute_result"
    }
   ],
   "source": [
    "# normalize date to my local timezone\n",
    "import pytz\n",
    "\n",
    "local_timezone = pytz.timezone('Europe/Vilnius')\n",
    "names_df['date'] = pd.to_datetime(names_df['date'], unit='s', errors='coerce', utc=True)\n",
    "names_df['date_df'] = names_df['date'].dt.tz_convert(local_timezone)\n",
    "\n",
    "# names_df['date_local'] = names_df['date_df'].dt.tz_convert(local_timezone)\n",
    "print(local_timezone)\n",
    "names_df.head()"
   ],
   "metadata": {
    "collapsed": false,
    "ExecuteTime": {
     "end_time": "2024-02-15T16:04:48.395990300Z",
     "start_time": "2024-02-15T16:04:48.308237700Z"
    }
   },
   "execution_count": 58
  },
  {
   "cell_type": "code",
   "execution_count": 219,
   "metadata": {
    "collapsed": false,
    "ExecuteTime": {
     "end_time": "2024-02-16T17:13:37.190582800Z",
     "start_time": "2024-02-16T17:13:37.089340400Z"
    }
   },
   "outputs": [
    {
     "data": {
      "text/plain": "       base  visibility          date_local  timezone  country_id       city  \\\n0  stations       10000 2024-02-16 18:09:10      3600     3128760  Barcelona   \n\n   cod  longitude  latitude  main_temp  main_feels_like  main_temp_min  \\\n0  200      2.159   41.3888      14.13            13.58          13.08   \n\n   main_temp_max  pressure  humidity  wind_speed  wind_deg  rain.1h  clouds  \\\n0          15.72      1021        76         3.6       140     0.11      75   \n\n   sys_type  sys_id country       sunrise_local        sunset_local  \\\n0         2   18549      ES 2024-02-16 07:46:10 2024-02-16 18:25:03   \n\n   weather_id weather_main weather_description weather_icon  \\\n0         500         Rain          light rain          10d   \n\n               date_vilnius  \n0 2024-02-16 19:09:10+02:00  ",
      "text/html": "<div>\n<style scoped>\n    .dataframe tbody tr th:only-of-type {\n        vertical-align: middle;\n    }\n\n    .dataframe tbody tr th {\n        vertical-align: top;\n    }\n\n    .dataframe thead th {\n        text-align: right;\n    }\n</style>\n<table border=\"1\" class=\"dataframe\">\n  <thead>\n    <tr style=\"text-align: right;\">\n      <th></th>\n      <th>base</th>\n      <th>visibility</th>\n      <th>date_local</th>\n      <th>timezone</th>\n      <th>country_id</th>\n      <th>city</th>\n      <th>cod</th>\n      <th>longitude</th>\n      <th>latitude</th>\n      <th>main_temp</th>\n      <th>main_feels_like</th>\n      <th>main_temp_min</th>\n      <th>main_temp_max</th>\n      <th>pressure</th>\n      <th>humidity</th>\n      <th>wind_speed</th>\n      <th>wind_deg</th>\n      <th>rain.1h</th>\n      <th>clouds</th>\n      <th>sys_type</th>\n      <th>sys_id</th>\n      <th>country</th>\n      <th>sunrise_local</th>\n      <th>sunset_local</th>\n      <th>weather_id</th>\n      <th>weather_main</th>\n      <th>weather_description</th>\n      <th>weather_icon</th>\n      <th>date_vilnius</th>\n    </tr>\n  </thead>\n  <tbody>\n    <tr>\n      <th>0</th>\n      <td>stations</td>\n      <td>10000</td>\n      <td>2024-02-16 18:09:10</td>\n      <td>3600</td>\n      <td>3128760</td>\n      <td>Barcelona</td>\n      <td>200</td>\n      <td>2.159</td>\n      <td>41.3888</td>\n      <td>14.13</td>\n      <td>13.58</td>\n      <td>13.08</td>\n      <td>15.72</td>\n      <td>1021</td>\n      <td>76</td>\n      <td>3.6</td>\n      <td>140</td>\n      <td>0.11</td>\n      <td>75</td>\n      <td>2</td>\n      <td>18549</td>\n      <td>ES</td>\n      <td>2024-02-16 07:46:10</td>\n      <td>2024-02-16 18:25:03</td>\n      <td>500</td>\n      <td>Rain</td>\n      <td>light rain</td>\n      <td>10d</td>\n      <td>2024-02-16 19:09:10+02:00</td>\n    </tr>\n  </tbody>\n</table>\n</div>"
     },
     "execution_count": 219,
     "metadata": {},
     "output_type": "execute_result"
    }
   ],
   "source": [
    "dates_df = change_datetime_format(names_df)\n",
    "dates_df.head()"
   ]
  },
  {
   "cell_type": "code",
   "outputs": [
    {
     "data": {
      "text/plain": "   longitude  latitude  country_id country       city  main_temp  \\\n0      2.159   41.3888     3128760      ES  Barcelona      14.13   \n\n   main_feels_like  main_temp_min  main_temp_max              date_vilnius  \\\n0            13.58          13.08          15.72 2024-02-16 19:09:10+02:00   \n\n           date_local  timezone       sunrise_local        sunset_local  \\\n0 2024-02-16 18:09:10      3600 2024-02-16 07:46:10 2024-02-16 18:25:03   \n\n   weather_id weather_main weather_description weather_icon  pressure  \\\n0         500         Rain          light rain          10d      1021   \n\n   humidity  wind_speed  wind_deg  clouds  visibility      base  sys_type  \\\n0        76         3.6       140      75       10000  stations         2   \n\n   sys_id  cod  \n0   18549  200  ",
      "text/html": "<div>\n<style scoped>\n    .dataframe tbody tr th:only-of-type {\n        vertical-align: middle;\n    }\n\n    .dataframe tbody tr th {\n        vertical-align: top;\n    }\n\n    .dataframe thead th {\n        text-align: right;\n    }\n</style>\n<table border=\"1\" class=\"dataframe\">\n  <thead>\n    <tr style=\"text-align: right;\">\n      <th></th>\n      <th>longitude</th>\n      <th>latitude</th>\n      <th>country_id</th>\n      <th>country</th>\n      <th>city</th>\n      <th>main_temp</th>\n      <th>main_feels_like</th>\n      <th>main_temp_min</th>\n      <th>main_temp_max</th>\n      <th>date_vilnius</th>\n      <th>date_local</th>\n      <th>timezone</th>\n      <th>sunrise_local</th>\n      <th>sunset_local</th>\n      <th>weather_id</th>\n      <th>weather_main</th>\n      <th>weather_description</th>\n      <th>weather_icon</th>\n      <th>pressure</th>\n      <th>humidity</th>\n      <th>wind_speed</th>\n      <th>wind_deg</th>\n      <th>clouds</th>\n      <th>visibility</th>\n      <th>base</th>\n      <th>sys_type</th>\n      <th>sys_id</th>\n      <th>cod</th>\n    </tr>\n  </thead>\n  <tbody>\n    <tr>\n      <th>0</th>\n      <td>2.159</td>\n      <td>41.3888</td>\n      <td>3128760</td>\n      <td>ES</td>\n      <td>Barcelona</td>\n      <td>14.13</td>\n      <td>13.58</td>\n      <td>13.08</td>\n      <td>15.72</td>\n      <td>2024-02-16 19:09:10+02:00</td>\n      <td>2024-02-16 18:09:10</td>\n      <td>3600</td>\n      <td>2024-02-16 07:46:10</td>\n      <td>2024-02-16 18:25:03</td>\n      <td>500</td>\n      <td>Rain</td>\n      <td>light rain</td>\n      <td>10d</td>\n      <td>1021</td>\n      <td>76</td>\n      <td>3.6</td>\n      <td>140</td>\n      <td>75</td>\n      <td>10000</td>\n      <td>stations</td>\n      <td>2</td>\n      <td>18549</td>\n      <td>200</td>\n    </tr>\n  </tbody>\n</table>\n</div>"
     },
     "execution_count": 220,
     "metadata": {},
     "output_type": "execute_result"
    }
   ],
   "source": [
    "reordered_df = reorder_dataframe_columns(dates_df)\n",
    "reordered_df.head()"
   ],
   "metadata": {
    "collapsed": false,
    "ExecuteTime": {
     "end_time": "2024-02-16T17:13:40.233849600Z",
     "start_time": "2024-02-16T17:13:40.119073100Z"
    }
   },
   "execution_count": 220
  },
  {
   "cell_type": "code",
   "execution_count": 86,
   "metadata": {
    "ExecuteTime": {
     "end_time": "2024-02-08T17:18:04.610678300Z",
     "start_time": "2024-02-08T17:18:04.561382900Z"
    },
    "collapsed": false
   },
   "outputs": [
    {
     "name": "stdout",
     "output_type": "stream",
     "text": [
      "[[0, 'base'], [1, 'visibility'], [2, 'date'], [3, 'timezone'], [4, 'country_id'], [5, 'city'], [6, 'cod'], [7, 'longitude'], [8, 'latitude'], [9, 'main_temp'], [10, 'main_feels_like'], [11, 'main_temp_min'], [12, 'main_temp_max'], [13, 'pressure'], [14, 'humidity'], [15, 'wind_speed'], [16, 'wind_deg'], [17, 'clouds'], [18, 'sys_type'], [19, 'sys_id'], [20, 'country'], [21, 'sunrise'], [22, 'sunset'], [23, 'weather_id'], [24, 'weather_main'], [25, 'weather_description'], [26, 'weather_icon']]\n"
     ]
    }
   ],
   "source": [
    "columns = dates_df.columns.tolist()\n",
    "\n",
    "index_col = []\n",
    "for i, col in enumerate(columns):\n",
    "    index_col.append([i, col])\n",
    "    \n",
    "print(index_col)"
   ]
  },
  {
   "cell_type": "code",
   "execution_count": 212,
   "metadata": {
    "collapsed": false,
    "ExecuteTime": {
     "end_time": "2024-02-16T17:09:20.748438400Z",
     "start_time": "2024-02-16T17:09:20.706992700Z"
    }
   },
   "outputs": [
    {
     "data": {
      "text/plain": "   longitude  latitude  country_id country       city  main_temp  \\\n0      2.159   41.3888     3128760      ES  Barcelona      14.17   \n\n   main_feels_like  main_temp_min  main_temp_max              date_vilnius  \\\n0            13.63          13.08          16.22 2024-02-16 18:59:05+02:00   \n\n           date_local  timezone       sunrise_local        sunset_local  \\\n0 2024-02-16 17:59:05      3600 2024-02-16 07:46:10 2024-02-16 18:25:03   \n\n   weather_id weather_main      weather_description weather_icon  pressure  \\\n0         300      Drizzle  light intensity drizzle          09d      1021   \n\n   humidity  wind_speed  wind_deg  clouds  visibility      base  sys_type  \\\n0        76         3.6       140      75       10000  stations         2   \n\n   sys_id  cod  \n0   18549  200  ",
      "text/html": "<div>\n<style scoped>\n    .dataframe tbody tr th:only-of-type {\n        vertical-align: middle;\n    }\n\n    .dataframe tbody tr th {\n        vertical-align: top;\n    }\n\n    .dataframe thead th {\n        text-align: right;\n    }\n</style>\n<table border=\"1\" class=\"dataframe\">\n  <thead>\n    <tr style=\"text-align: right;\">\n      <th></th>\n      <th>longitude</th>\n      <th>latitude</th>\n      <th>country_id</th>\n      <th>country</th>\n      <th>city</th>\n      <th>main_temp</th>\n      <th>main_feels_like</th>\n      <th>main_temp_min</th>\n      <th>main_temp_max</th>\n      <th>date_vilnius</th>\n      <th>date_local</th>\n      <th>timezone</th>\n      <th>sunrise_local</th>\n      <th>sunset_local</th>\n      <th>weather_id</th>\n      <th>weather_main</th>\n      <th>weather_description</th>\n      <th>weather_icon</th>\n      <th>pressure</th>\n      <th>humidity</th>\n      <th>wind_speed</th>\n      <th>wind_deg</th>\n      <th>clouds</th>\n      <th>visibility</th>\n      <th>base</th>\n      <th>sys_type</th>\n      <th>sys_id</th>\n      <th>cod</th>\n    </tr>\n  </thead>\n  <tbody>\n    <tr>\n      <th>0</th>\n      <td>2.159</td>\n      <td>41.3888</td>\n      <td>3128760</td>\n      <td>ES</td>\n      <td>Barcelona</td>\n      <td>14.17</td>\n      <td>13.63</td>\n      <td>13.08</td>\n      <td>16.22</td>\n      <td>2024-02-16 18:59:05+02:00</td>\n      <td>2024-02-16 17:59:05</td>\n      <td>3600</td>\n      <td>2024-02-16 07:46:10</td>\n      <td>2024-02-16 18:25:03</td>\n      <td>300</td>\n      <td>Drizzle</td>\n      <td>light intensity drizzle</td>\n      <td>09d</td>\n      <td>1021</td>\n      <td>76</td>\n      <td>3.6</td>\n      <td>140</td>\n      <td>75</td>\n      <td>10000</td>\n      <td>stations</td>\n      <td>2</td>\n      <td>18549</td>\n      <td>200</td>\n    </tr>\n  </tbody>\n</table>\n</div>"
     },
     "execution_count": 212,
     "metadata": {},
     "output_type": "execute_result"
    }
   ],
   "source": [
    "reordered_columns = ['longitude', 'latitude', 'country_id', 'country', 'city', 'main_temp', 'main_feels_like', 'main_temp_min', 'main_temp_max', 'date_vilnius', 'date_local', 'timezone', 'sunrise_local', 'sunset_local', 'weather_id', 'weather_main', 'weather_description', 'weather_icon', 'pressure', 'humidity', 'wind_speed', 'wind_deg', 'clouds', 'visibility', 'base', 'sys_type', 'sys_id', 'cod']\n",
    "\n",
    "reordered_df = dates_df[reordered_columns]\n",
    "\n",
    "reordered_df.head()"
   ]
  },
  {
   "cell_type": "code",
   "execution_count": 221,
   "metadata": {
    "collapsed": false,
    "ExecuteTime": {
     "end_time": "2024-02-16T17:14:16.069617400Z",
     "start_time": "2024-02-16T17:14:16.048289300Z"
    }
   },
   "outputs": [
    {
     "name": "stdout",
     "output_type": "stream",
     "text": [
      "Column: longitude\n",
      "Value length: 5 \n",
      "\n",
      "Column: latitude\n",
      "Value length: 7 \n",
      "\n",
      "Column: country_id\n",
      "Value length: 7 \n",
      "\n",
      "Column: country\n",
      "Value length: 2 \n",
      "\n",
      "Column: city\n",
      "Value length: 9 \n",
      "\n",
      "Column: main_temp\n",
      "Value length: 5 \n",
      "\n",
      "Column: main_feels_like\n",
      "Value length: 5 \n",
      "\n",
      "Column: main_temp_min\n",
      "Value length: 5 \n",
      "\n",
      "Column: main_temp_max\n",
      "Value length: 5 \n",
      "\n",
      "Column: date_vilnius\n",
      "Value length: 25 \n",
      "\n",
      "Column: date_local\n",
      "Value length: 19 \n",
      "\n",
      "Column: timezone\n",
      "Value length: 4 \n",
      "\n",
      "Column: sunrise_local\n",
      "Value length: 19 \n",
      "\n",
      "Column: sunset_local\n",
      "Value length: 19 \n",
      "\n",
      "Column: weather_id\n",
      "Value length: 3 \n",
      "\n",
      "Column: weather_main\n",
      "Value length: 4 \n",
      "\n",
      "Column: weather_description\n",
      "Value length: 10 \n",
      "\n",
      "Column: weather_icon\n",
      "Value length: 3 \n",
      "\n",
      "Column: pressure\n",
      "Value length: 4 \n",
      "\n",
      "Column: humidity\n",
      "Value length: 2 \n",
      "\n",
      "Column: wind_speed\n",
      "Value length: 3 \n",
      "\n",
      "Column: wind_deg\n",
      "Value length: 3 \n",
      "\n",
      "Column: clouds\n",
      "Value length: 2 \n",
      "\n",
      "Column: visibility\n",
      "Value length: 5 \n",
      "\n",
      "Column: base\n",
      "Value length: 8 \n",
      "\n",
      "Column: sys_type\n",
      "Value length: 1 \n",
      "\n",
      "Column: sys_id\n",
      "Value length: 5 \n",
      "\n",
      "Column: cod\n",
      "Value length: 3 \n"
     ]
    }
   ],
   "source": [
    "city_df_val_len = longest_value(reordered_df)"
   ]
  },
  {
   "cell_type": "code",
   "execution_count": 142,
   "metadata": {
    "collapsed": false,
    "ExecuteTime": {
     "end_time": "2024-02-16T16:27:26.987565Z",
     "start_time": "2024-02-16T16:27:26.951369500Z"
    }
   },
   "outputs": [
    {
     "name": "stdout",
     "output_type": "stream",
     "text": [
      "<class 'pandas.core.frame.DataFrame'>\n",
      "RangeIndex: 1 entries, 0 to 0\n",
      "Data columns (total 28 columns):\n",
      " #   Column               Non-Null Count  Dtype              \n",
      "---  ------               --------------  -----              \n",
      " 0   longitude            1 non-null      float64            \n",
      " 1   latitude             1 non-null      float64            \n",
      " 2   country_id           1 non-null      int64              \n",
      " 3   country              1 non-null      object             \n",
      " 4   city                 1 non-null      object             \n",
      " 5   main_temp            1 non-null      float64            \n",
      " 6   main_feels_like      1 non-null      float64            \n",
      " 7   main_temp_min        1 non-null      float64            \n",
      " 8   main_temp_max        1 non-null      float64            \n",
      " 9   date_vilnius         1 non-null      datetime64[ns]     \n",
      " 10  date_local           1 non-null      datetime64[ns, UTC]\n",
      " 11  timezone             1 non-null      int64              \n",
      " 12  sunrise_local        1 non-null      datetime64[ns, UTC]\n",
      " 13  sunset_local         1 non-null      datetime64[ns, UTC]\n",
      " 14  weather_id           1 non-null      int64              \n",
      " 15  weather_main         1 non-null      object             \n",
      " 16  weather_description  1 non-null      object             \n",
      " 17  weather_icon         1 non-null      object             \n",
      " 18  pressure             1 non-null      int64              \n",
      " 19  humidity             1 non-null      int64              \n",
      " 20  wind_speed           1 non-null      float64            \n",
      " 21  wind_deg             1 non-null      int64              \n",
      " 22  clouds               1 non-null      int64              \n",
      " 23  visibility           1 non-null      int64              \n",
      " 24  base                 1 non-null      object             \n",
      " 25  sys_type             1 non-null      int64              \n",
      " 26  sys_id               1 non-null      int64              \n",
      " 27  cod                  1 non-null      int64              \n",
      "dtypes: datetime64[ns, UTC](3), datetime64[ns](1), float64(7), int64(11), object(6)\n",
      "memory usage: 356.0+ bytes\n",
      "None \n",
      "\n",
      "   longitude  latitude  country_id country       city  main_temp  \\\n",
      "0      2.159   41.3888     3128760      ES  Barcelona      14.81   \n",
      "\n",
      "   main_feels_like  main_temp_min  main_temp_max        date_vilnius  \\\n",
      "0            14.38          13.22          17.39 2024-02-16 19:10:16   \n",
      "\n",
      "                 date_local  timezone             sunrise_local  \\\n",
      "0 2024-02-16 17:10:16+00:00      3600 2024-02-16 07:46:10+00:00   \n",
      "\n",
      "               sunset_local  weather_id weather_main weather_description  \\\n",
      "0 2024-02-16 18:25:03+00:00         803       Clouds       broken clouds   \n",
      "\n",
      "  weather_icon  pressure  humidity  wind_speed  wind_deg  clouds  visibility  \\\n",
      "0          04d      1020        78         3.6       140      75       10000   \n",
      "\n",
      "       base  sys_type  sys_id  cod  \n",
      "0  stations         2   18549  200  \n"
     ]
    }
   ],
   "source": [
    "city_inspect = inspect_dataframe(reordered_df)"
   ]
  },
  {
   "cell_type": "code",
   "execution_count": null,
   "metadata": {
    "collapsed": false
   },
   "outputs": [],
   "source": []
  }
 ],
 "metadata": {
  "kernelspec": {
   "display_name": "Python 3 (ipykernel)",
   "language": "python",
   "name": "python3"
  },
  "language_info": {
   "codemirror_mode": {
    "name": "ipython",
    "version": 3
   },
   "file_extension": ".py",
   "mimetype": "text/x-python",
   "name": "python",
   "nbconvert_exporter": "python",
   "pygments_lexer": "ipython3",
   "version": "3.11.4"
  }
 },
 "nbformat": 4,
 "nbformat_minor": 4
}
