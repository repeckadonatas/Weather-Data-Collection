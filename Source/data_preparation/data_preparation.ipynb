{
 "cells": [
  {
   "cell_type": "code",
   "execution_count": 21,
   "metadata": {
    "ExecuteTime": {
     "end_time": "2024-02-06T18:37:38.417944300Z",
     "start_time": "2024-02-06T18:37:38.393881300Z"
    }
   },
   "outputs": [],
   "source": [
    "import os\n",
    "import json\n",
    "import pandas as pd\n",
    "import numpy as np\n",
    "from pathlib import Path\n",
    "from ast import literal_eval\n",
    "# import Source.db_functions as db\n",
    "\n",
    "from dateutil.tz import tz\n",
    "from sqlalchemy import engine"
   ]
  },
  {
   "cell_type": "markdown",
   "metadata": {},
   "source": [
    "## Main functions to manipulate a dataframe\n",
    "\n",
    "### For testing purposes of data manipulation functions"
   ]
  },
  {
   "cell_type": "code",
   "execution_count": 27,
   "metadata": {
    "ExecuteTime": {
     "end_time": "2024-02-06T18:38:06.666162800Z",
     "start_time": "2024-02-06T18:38:06.646943100Z"
    }
   },
   "outputs": [],
   "source": [
    "def get_files_in_directory() -> list:\n",
    "    \"\"\"\n",
    "    Sets a path to JSON file.\n",
    "    :returns a file name in a set path\n",
    "    \"\"\"\n",
    "    path_to_files = '../data/input/'\n",
    "    files_in_path = os.scandir(path_to_files)\n",
    "    \n",
    "    list_of_files = []\n",
    "    for file in files_in_path:\n",
    "        if file.is_dir() or file.is_file():\n",
    "            list_of_files.append(file.name)\n",
    "            return list_of_files    # <- don't forget to align this statement back with for!!!!!"
   ]
  },
  {
   "cell_type": "code",
   "execution_count": 28,
   "metadata": {
    "ExecuteTime": {
     "end_time": "2024-02-06T18:38:22.980200Z",
     "start_time": "2024-02-06T18:38:22.954010600Z"
    }
   },
   "outputs": [],
   "source": [
    "def create_dataframe(file_json: str) -> pd.DataFrame:\n",
    "    \"\"\"\n",
    "    Creates a pandas dataframe from JSON file.\n",
    "    Sets the maximum available columns to be shown.\n",
    "    Requires name of the file.\n",
    "    \"\"\"\n",
    "    path_to_files = '../data/input/'\n",
    "    with open(path_to_files + file_json) as jfile:\n",
    "        json_data = json.load(jfile)\n",
    "        df = pd.DataFrame(pd.json_normalize(json_data))\n",
    "        pd.set_option('display.max_columns', None)\n",
    "    return df"
   ]
  },
  {
   "cell_type": "code",
   "outputs": [],
   "source": [
    "# FLATTEN JSON FILE!!!\n",
    "def flatten_json_file(dataframe: pd.DataFrame, row: str) -> pd.DataFrame:\n",
    "    \"\"\"\n",
    "    Flattens the supplied dataframe and returns a new dataframe with flattened json data.\n",
    "    :param dataframe: dataframe to flatten\n",
    "    :return: new dataframe with flattened json data\n",
    "    \"\"\"\n",
    "    dataframe_flat = dataframe[row].apply(pd.Series)\n",
    "    dataframe_flat_0 = dataframe_flat[0].apply(pd.Series)\n",
    "    dataframe_flat_0.columns = ['weather_id', 'weather_main', 'weather_description', 'weather_icon']\n",
    "    dataframe_new = pd.concat([dataframe, dataframe_flat_0], axis=1)\n",
    "    dataframe_new = dataframe_new.drop(columns=['weather'], axis=1)\n",
    "    return dataframe_new"
   ],
   "metadata": {
    "collapsed": false,
    "ExecuteTime": {
     "end_time": "2024-02-06T18:47:13.830351300Z",
     "start_time": "2024-02-06T18:47:13.782201900Z"
    }
   },
   "execution_count": 43
  },
  {
   "cell_type": "code",
   "outputs": [],
   "source": [
    "def change_column_names(dataframe: pd.DataFrame) -> pd.DataFrame:\n",
    "    \"\"\"\n",
    "    Changes the column names of the dataframe to their new column names.\n",
    "    :param dataframe: a pandas dataframe to change column names\n",
    "    :return: dataframe with new column names\n",
    "    \"\"\"\n",
    "    new_names = {\"dt\": \"date\", \n",
    "             \"id\": \"country_id\", \n",
    "             \"coord.lon\": \"longitude\",\n",
    "             \"coord.lat\": \"latitude\",\n",
    "             \"main.temp\": \"main_temp\",\n",
    "             \"main.feels_like\": \"main_feels_like\",\n",
    "             \"main.temp_min\": \"main_temp_min\",\n",
    "             \"main.temp_max\": \"main_temp_max\",\n",
    "             \"main.pressure\": \"pressure\",\n",
    "             \"main.humidity\": \"humidity\",\n",
    "             \"wind.speed\": \"wind_speed\",\n",
    "             \"wind.deg\": \"wind_deg\",\n",
    "             \"clouds.all\": \"clouds\",\n",
    "             \"sys.type\": \"sys_type\",\n",
    "             \"sys.id\": \"sys_id\",\n",
    "             \"sys.country\": \"country\",\n",
    "             \"sys.sunrise\": \"sunrise\",\n",
    "             \"sys.sunset\": \"sunset\"}\n",
    "    dataframe.rename(columns=new_names, inplace=True)\n",
    "    return dataframe"
   ],
   "metadata": {
    "collapsed": false,
    "ExecuteTime": {
     "end_time": "2024-02-06T18:38:26.057727400Z",
     "start_time": "2024-02-06T18:38:26.010422700Z"
    }
   },
   "execution_count": 30
  },
  {
   "cell_type": "code",
   "outputs": [],
   "source": [
    "def change_datetime_format(dataframe: pd.DataFrame) -> pd.DataFrame:\n",
    "    \"\"\"\n",
    "    Change datetime format of a given dataframe to ISO 8601 format\n",
    "    :param dataframe: dataframe to change datetime format for.\n",
    "    :return: dataframe with changed datetime format\n",
    "    \"\"\"\n",
    "    dataframe['date'] = pd.to_datetime(dataframe['date'], unit='s', errors='coerce')\n",
    "    dataframe['sunrise'] = pd.to_datetime(dataframe['sunrise'], unit='s', errors='coerce')\n",
    "    dataframe['sunset'] = pd.to_datetime(dataframe['sunset'], unit='s', errors='coerce')\n",
    "    return dataframe"
   ],
   "metadata": {
    "collapsed": false,
    "ExecuteTime": {
     "end_time": "2024-02-06T18:56:18.867825Z",
     "start_time": "2024-02-06T18:56:18.814005900Z"
    }
   },
   "execution_count": 49
  },
  {
   "cell_type": "code",
   "outputs": [],
   "source": [
    "def datetime_format_change(dataframe: pd.DataFrame) -> pd.DataFrame:\n",
    "    \"\"\"\n",
    "    Function to format the datetime values of the dataframe according to the ISO 8601 format.\n",
    "    :param dataframe: dataframe to format datetime values.\n",
    "    :return: dataframe with datetime values formatted according to the ISO 8601 format.\n",
    "    \"\"\"\n",
    "    \n",
    "    return dataframe"
   ],
   "metadata": {
    "collapsed": false,
    "ExecuteTime": {
     "end_time": "2024-02-06T18:29:51.391282100Z",
     "start_time": "2024-02-06T18:29:51.375327700Z"
    }
   },
   "execution_count": 2
  },
  {
   "cell_type": "code",
   "execution_count": 3,
   "metadata": {
    "ExecuteTime": {
     "end_time": "2024-02-06T18:29:52.846315300Z",
     "start_time": "2024-02-06T18:29:52.830145300Z"
    }
   },
   "outputs": [],
   "source": [
    "def inspect_dataframe(dataframe: pd.DataFrame):\n",
    "    \"\"\"\n",
    "    Returns information about the dataset \n",
    "    and shows a preview of the data in it.\n",
    "    \"\"\"\n",
    "    print(dataframe.info(), '\\n')\n",
    "    print(dataframe.head())"
   ]
  },
  {
   "cell_type": "code",
   "outputs": [],
   "source": [
    "def load_to_database(dataframe: pd.DataFrame, table_name: str, engine) -> None:\n",
    "    \"\"\"\n",
    "    Function to load the data of a dataframe to a specified table in the database.\n",
    "    :param dataframe: dataframe to load data from.\n",
    "    :param table_name: table to load the data to.\n",
    "    :return: None\n",
    "    \"\"\"\n",
    "    dataframe.to_sql(table_name, engine, if_exists='append')"
   ],
   "metadata": {
    "collapsed": false,
    "ExecuteTime": {
     "end_time": "2024-02-06T18:29:56.046102900Z",
     "start_time": "2024-02-06T18:29:56.031649100Z"
    }
   },
   "execution_count": 4
  },
  {
   "cell_type": "code",
   "outputs": [],
   "source": [
    "def change_dataframe_col_pos(dataframe: pd.DataFrame) -> pd.DataFrame:\n",
    "    \n",
    "    return dataframe"
   ],
   "metadata": {
    "collapsed": false,
    "ExecuteTime": {
     "end_time": "2024-02-06T18:29:57.638460900Z",
     "start_time": "2024-02-06T18:29:57.622131700Z"
    }
   },
   "execution_count": 5
  },
  {
   "cell_type": "code",
   "execution_count": 18,
   "metadata": {
    "ExecuteTime": {
     "end_time": "2024-02-05T17:52:26.942048500Z",
     "start_time": "2024-02-05T17:52:26.917634500Z"
    }
   },
   "outputs": [],
   "source": [
    "def list_like_columns(dataframe):\n",
    "    \"\"\"\n",
    "    Creating a list where columns have list-like values.\n",
    "    \"\"\"\n",
    "    list_like_cols = []\n",
    "\n",
    "    for row in dataframe:\n",
    "        col_name = row\n",
    "        list_like = dataframe[dataframe.astype(str)[row] == '[]'].index\n",
    "        if len(list_like) != 0:\n",
    "            list_like_cols.append(col_name)\n",
    "    \n",
    "    return list_like_cols"
   ]
  },
  {
   "cell_type": "code",
   "execution_count": 12,
   "metadata": {
    "ExecuteTime": {
     "end_time": "2024-02-05T17:43:56.438256900Z",
     "start_time": "2024-02-05T17:43:56.421493Z"
    }
   },
   "outputs": [],
   "source": [
    "def to_proper_list(dataframe, list_like_columns):\n",
    "    \"\"\"\n",
    "    Converting values of list-like columns to proper list type.\n",
    "    \"\"\"\n",
    "    for row in list_like_columns:\n",
    "        dataframe[row] = dataframe[row].apply(literal_eval)\n",
    "    \n",
    "    return dataframe"
   ]
  },
  {
   "cell_type": "code",
   "execution_count": 9,
   "metadata": {
    "ExecuteTime": {
     "end_time": "2024-02-04T09:37:52.147253500Z",
     "start_time": "2024-02-04T09:37:52.026943100Z"
    }
   },
   "outputs": [],
   "source": [
    "def copy_and_explode(dataframe, *columns):\n",
    "    \"\"\"\n",
    "    Normalizing to the 2NF.\n",
    "    Creating new dataframes containing str-list columns.\n",
    "    Exploding list values of columns.\n",
    "    Recreating the index column if the original dataset had one\n",
    "    to keep unique index in the dataframe.\n",
    "    Saving new dataframe to a CSV file.\n",
    "    \"\"\"\n",
    "    df_copy = dataframe.copy()\n",
    "    col_list = [*columns]\n",
    "    \n",
    "\n",
    "    for col in col_list:\n",
    "        if isinstance(col_list, (list, pd.core.series.Series, np.ndarray)):\n",
    "            df_copy = df_copy.explode(col)\n",
    "            df_copy[col].replace(',', '', regex=True, inplace=True)\n",
    "            df_copy = df_copy.explode(col)\n",
    "        else:\n",
    "            df_copy\n",
    "    \n",
    "    df_copy = df_copy.drop_duplicates()\n",
    "       \n",
    "    new_df_name = input('Enter a name for a normalized dataset: ')\n",
    "    df_copy.to_csv(f'../data/output/{new_df_name}_2NF.csv', sep=',', encoding='utf-8', index=None, header='true')"
   ]
  },
  {
   "cell_type": "markdown",
   "metadata": {},
   "source": [
    "## Finding the longest value in each column of a given dataframe"
   ]
  },
  {
   "cell_type": "code",
   "execution_count": 6,
   "metadata": {
    "ExecuteTime": {
     "end_time": "2024-02-06T18:30:02.016113700Z",
     "start_time": "2024-02-06T18:30:01.999766300Z"
    }
   },
   "outputs": [],
   "source": [
    "def longest_value(dataframe: pd.DataFrame):\n",
    "    \"\"\"\n",
    "    Checking for the longest value in each column of a given dataframe.\n",
    "    \"\"\"\n",
    "    for row in dataframe:\n",
    "        col_name = row\n",
    "\n",
    "        if dataframe[row].dtype == float or int:\n",
    "            list_len = dataframe[row].astype(str).str.len().max()\n",
    "\n",
    "        else:\n",
    "            list_len = max(list(map(len, dataframe[row].values)))\n",
    "\n",
    "        print('Column:', col_name)\n",
    "        print('Value length:', list_len, '\\n')"
   ]
  },
  {
   "cell_type": "markdown",
   "metadata": {},
   "source": [
    "## Files in ../data/input location"
   ]
  },
  {
   "cell_type": "code",
   "execution_count": 31,
   "metadata": {
    "ExecuteTime": {
     "end_time": "2024-02-06T18:38:31.136963200Z",
     "start_time": "2024-02-06T18:38:31.122499400Z"
    }
   },
   "outputs": [
    {
     "name": "stdout",
     "output_type": "stream",
     "text": [
      "['Istanbul, Turkey_response.json']\n"
     ]
    }
   ],
   "source": [
    "cities = get_files_in_directory()\n",
    "print(cities)"
   ]
  },
  {
   "cell_type": "code",
   "outputs": [
    {
     "data": {
      "text/plain": "                                             weather      base  visibility  \\\n0  [{'id': 800, 'main': 'Clear', 'description': '...  stations       10000   \n\n           dt  timezone      id      name  cod  coord.lon  coord.lat  \\\n0  1707244286     10800  745044  Istanbul  200    28.9497    41.0138   \n\n   main.temp  main.feels_like  main.temp_min  main.temp_max  main.pressure  \\\n0      11.04            10.18          11.04          13.45           1018   \n\n   main.humidity  wind.speed  wind.deg  clouds.all  sys.type  sys.id  \\\n0             76           0         0           0         1    6970   \n\n  sys.country  sys.sunrise  sys.sunset  \n0          TR   1707196234  1707233154  ",
      "text/html": "<div>\n<style scoped>\n    .dataframe tbody tr th:only-of-type {\n        vertical-align: middle;\n    }\n\n    .dataframe tbody tr th {\n        vertical-align: top;\n    }\n\n    .dataframe thead th {\n        text-align: right;\n    }\n</style>\n<table border=\"1\" class=\"dataframe\">\n  <thead>\n    <tr style=\"text-align: right;\">\n      <th></th>\n      <th>weather</th>\n      <th>base</th>\n      <th>visibility</th>\n      <th>dt</th>\n      <th>timezone</th>\n      <th>id</th>\n      <th>name</th>\n      <th>cod</th>\n      <th>coord.lon</th>\n      <th>coord.lat</th>\n      <th>main.temp</th>\n      <th>main.feels_like</th>\n      <th>main.temp_min</th>\n      <th>main.temp_max</th>\n      <th>main.pressure</th>\n      <th>main.humidity</th>\n      <th>wind.speed</th>\n      <th>wind.deg</th>\n      <th>clouds.all</th>\n      <th>sys.type</th>\n      <th>sys.id</th>\n      <th>sys.country</th>\n      <th>sys.sunrise</th>\n      <th>sys.sunset</th>\n    </tr>\n  </thead>\n  <tbody>\n    <tr>\n      <th>0</th>\n      <td>[{'id': 800, 'main': 'Clear', 'description': '...</td>\n      <td>stations</td>\n      <td>10000</td>\n      <td>1707244286</td>\n      <td>10800</td>\n      <td>745044</td>\n      <td>Istanbul</td>\n      <td>200</td>\n      <td>28.9497</td>\n      <td>41.0138</td>\n      <td>11.04</td>\n      <td>10.18</td>\n      <td>11.04</td>\n      <td>13.45</td>\n      <td>1018</td>\n      <td>76</td>\n      <td>0</td>\n      <td>0</td>\n      <td>0</td>\n      <td>1</td>\n      <td>6970</td>\n      <td>TR</td>\n      <td>1707196234</td>\n      <td>1707233154</td>\n    </tr>\n  </tbody>\n</table>\n</div>"
     },
     "execution_count": 37,
     "metadata": {},
     "output_type": "execute_result"
    }
   ],
   "source": [
    "for city in cities:\n",
    "    city_df = create_dataframe(city)\n",
    "city_df.head()"
   ],
   "metadata": {
    "collapsed": false,
    "ExecuteTime": {
     "end_time": "2024-02-06T18:40:10.900295700Z",
     "start_time": "2024-02-06T18:40:10.835998700Z"
    }
   },
   "execution_count": 37
  },
  {
   "cell_type": "code",
   "outputs": [],
   "source": [
    "# FLATTENING THE JSON FILE\n",
    "# city_df_weather_flat = city_df['weather'].apply(pd.Series)\n",
    "# city_df_weather_flat_0 = city_df_weather_flat[0].apply(pd.Series)\n",
    "# \n",
    "# city_df_weather_flat_0.columns = ['weather_id', 'weather_main', 'weather_description', 'weather_icon']\n",
    "# \n",
    "# city_df_new = pd.concat([city_df, city_df_weather_flat_0], axis=1)\n",
    "# \n",
    "# city_df_new = city_df_new.drop(columns=['weather'], axis=1)\n",
    "# \n",
    "# city_df_new.head()"
   ],
   "metadata": {
    "collapsed": false
   },
   "execution_count": null
  },
  {
   "cell_type": "code",
   "outputs": [
    {
     "data": {
      "text/plain": "       base  visibility          dt  timezone      id      name  cod  \\\n0  stations       10000  1707244286     10800  745044  Istanbul  200   \n\n   coord.lon  coord.lat  main.temp  main.feels_like  main.temp_min  \\\n0    28.9497    41.0138      11.04            10.18          11.04   \n\n   main.temp_max  main.pressure  main.humidity  wind.speed  wind.deg  \\\n0          13.45           1018             76           0         0   \n\n   clouds.all  sys.type  sys.id sys.country  sys.sunrise  sys.sunset  \\\n0           0         1    6970          TR   1707196234  1707233154   \n\n   weather_id weather_main weather_description weather_icon  \n0         800        Clear           clear sky          01n  ",
      "text/html": "<div>\n<style scoped>\n    .dataframe tbody tr th:only-of-type {\n        vertical-align: middle;\n    }\n\n    .dataframe tbody tr th {\n        vertical-align: top;\n    }\n\n    .dataframe thead th {\n        text-align: right;\n    }\n</style>\n<table border=\"1\" class=\"dataframe\">\n  <thead>\n    <tr style=\"text-align: right;\">\n      <th></th>\n      <th>base</th>\n      <th>visibility</th>\n      <th>dt</th>\n      <th>timezone</th>\n      <th>id</th>\n      <th>name</th>\n      <th>cod</th>\n      <th>coord.lon</th>\n      <th>coord.lat</th>\n      <th>main.temp</th>\n      <th>main.feels_like</th>\n      <th>main.temp_min</th>\n      <th>main.temp_max</th>\n      <th>main.pressure</th>\n      <th>main.humidity</th>\n      <th>wind.speed</th>\n      <th>wind.deg</th>\n      <th>clouds.all</th>\n      <th>sys.type</th>\n      <th>sys.id</th>\n      <th>sys.country</th>\n      <th>sys.sunrise</th>\n      <th>sys.sunset</th>\n      <th>weather_id</th>\n      <th>weather_main</th>\n      <th>weather_description</th>\n      <th>weather_icon</th>\n    </tr>\n  </thead>\n  <tbody>\n    <tr>\n      <th>0</th>\n      <td>stations</td>\n      <td>10000</td>\n      <td>1707244286</td>\n      <td>10800</td>\n      <td>745044</td>\n      <td>Istanbul</td>\n      <td>200</td>\n      <td>28.9497</td>\n      <td>41.0138</td>\n      <td>11.04</td>\n      <td>10.18</td>\n      <td>11.04</td>\n      <td>13.45</td>\n      <td>1018</td>\n      <td>76</td>\n      <td>0</td>\n      <td>0</td>\n      <td>0</td>\n      <td>1</td>\n      <td>6970</td>\n      <td>TR</td>\n      <td>1707196234</td>\n      <td>1707233154</td>\n      <td>800</td>\n      <td>Clear</td>\n      <td>clear sky</td>\n      <td>01n</td>\n    </tr>\n  </tbody>\n</table>\n</div>"
     },
     "execution_count": 44,
     "metadata": {},
     "output_type": "execute_result"
    }
   ],
   "source": [
    "flatten_df = flatten_json_file(city_df, 'weather')\n",
    "flatten_df.head()"
   ],
   "metadata": {
    "collapsed": false,
    "ExecuteTime": {
     "end_time": "2024-02-06T18:47:16.437885600Z",
     "start_time": "2024-02-06T18:47:16.395495900Z"
    }
   },
   "execution_count": 44
  },
  {
   "cell_type": "code",
   "outputs": [
    {
     "data": {
      "text/plain": "       base  visibility        date  timezone  country_id      name  cod  \\\n0  stations       10000  1707244286     10800      745044  Istanbul  200   \n\n   longitude  latitude  main_temp  main_feels_like  main_temp_min  \\\n0    28.9497   41.0138      11.04            10.18          11.04   \n\n   main_temp_max  pressure  humidity  wind_speed  wind_deg  clouds  sys_type  \\\n0          13.45      1018        76           0         0       0         1   \n\n   sys_id country     sunrise      sunset  weather_id weather_main  \\\n0    6970      TR  1707196234  1707233154         800        Clear   \n\n  weather_description weather_icon  \n0           clear sky          01n  ",
      "text/html": "<div>\n<style scoped>\n    .dataframe tbody tr th:only-of-type {\n        vertical-align: middle;\n    }\n\n    .dataframe tbody tr th {\n        vertical-align: top;\n    }\n\n    .dataframe thead th {\n        text-align: right;\n    }\n</style>\n<table border=\"1\" class=\"dataframe\">\n  <thead>\n    <tr style=\"text-align: right;\">\n      <th></th>\n      <th>base</th>\n      <th>visibility</th>\n      <th>date</th>\n      <th>timezone</th>\n      <th>country_id</th>\n      <th>name</th>\n      <th>cod</th>\n      <th>longitude</th>\n      <th>latitude</th>\n      <th>main_temp</th>\n      <th>main_feels_like</th>\n      <th>main_temp_min</th>\n      <th>main_temp_max</th>\n      <th>pressure</th>\n      <th>humidity</th>\n      <th>wind_speed</th>\n      <th>wind_deg</th>\n      <th>clouds</th>\n      <th>sys_type</th>\n      <th>sys_id</th>\n      <th>country</th>\n      <th>sunrise</th>\n      <th>sunset</th>\n      <th>weather_id</th>\n      <th>weather_main</th>\n      <th>weather_description</th>\n      <th>weather_icon</th>\n    </tr>\n  </thead>\n  <tbody>\n    <tr>\n      <th>0</th>\n      <td>stations</td>\n      <td>10000</td>\n      <td>1707244286</td>\n      <td>10800</td>\n      <td>745044</td>\n      <td>Istanbul</td>\n      <td>200</td>\n      <td>28.9497</td>\n      <td>41.0138</td>\n      <td>11.04</td>\n      <td>10.18</td>\n      <td>11.04</td>\n      <td>13.45</td>\n      <td>1018</td>\n      <td>76</td>\n      <td>0</td>\n      <td>0</td>\n      <td>0</td>\n      <td>1</td>\n      <td>6970</td>\n      <td>TR</td>\n      <td>1707196234</td>\n      <td>1707233154</td>\n      <td>800</td>\n      <td>Clear</td>\n      <td>clear sky</td>\n      <td>01n</td>\n    </tr>\n  </tbody>\n</table>\n</div>"
     },
     "execution_count": 45,
     "metadata": {},
     "output_type": "execute_result"
    }
   ],
   "source": [
    "city_df2 = change_column_names(flatten_df)\n",
    "city_df2.head()"
   ],
   "metadata": {
    "collapsed": false,
    "ExecuteTime": {
     "end_time": "2024-02-06T18:48:29.287204500Z",
     "start_time": "2024-02-06T18:48:29.204967800Z"
    }
   },
   "execution_count": 45
  },
  {
   "cell_type": "code",
   "outputs": [
    {
     "data": {
      "text/plain": "       base  visibility                date  timezone  country_id      name  \\\n0  stations       10000 2024-02-06 18:31:26     10800      745044  Istanbul   \n\n   cod  longitude  latitude  main_temp  main_feels_like  main_temp_min  \\\n0  200    28.9497   41.0138      11.04            10.18          11.04   \n\n   main_temp_max  pressure  humidity  wind_speed  wind_deg  clouds  sys_type  \\\n0          13.45      1018        76           0         0       0         1   \n\n   sys_id country             sunrise              sunset  weather_id  \\\n0    6970      TR 2024-02-06 05:10:34 2024-02-06 15:25:54         800   \n\n  weather_main weather_description weather_icon  \n0        Clear           clear sky          01n  ",
      "text/html": "<div>\n<style scoped>\n    .dataframe tbody tr th:only-of-type {\n        vertical-align: middle;\n    }\n\n    .dataframe tbody tr th {\n        vertical-align: top;\n    }\n\n    .dataframe thead th {\n        text-align: right;\n    }\n</style>\n<table border=\"1\" class=\"dataframe\">\n  <thead>\n    <tr style=\"text-align: right;\">\n      <th></th>\n      <th>base</th>\n      <th>visibility</th>\n      <th>date</th>\n      <th>timezone</th>\n      <th>country_id</th>\n      <th>name</th>\n      <th>cod</th>\n      <th>longitude</th>\n      <th>latitude</th>\n      <th>main_temp</th>\n      <th>main_feels_like</th>\n      <th>main_temp_min</th>\n      <th>main_temp_max</th>\n      <th>pressure</th>\n      <th>humidity</th>\n      <th>wind_speed</th>\n      <th>wind_deg</th>\n      <th>clouds</th>\n      <th>sys_type</th>\n      <th>sys_id</th>\n      <th>country</th>\n      <th>sunrise</th>\n      <th>sunset</th>\n      <th>weather_id</th>\n      <th>weather_main</th>\n      <th>weather_description</th>\n      <th>weather_icon</th>\n    </tr>\n  </thead>\n  <tbody>\n    <tr>\n      <th>0</th>\n      <td>stations</td>\n      <td>10000</td>\n      <td>2024-02-06 18:31:26</td>\n      <td>10800</td>\n      <td>745044</td>\n      <td>Istanbul</td>\n      <td>200</td>\n      <td>28.9497</td>\n      <td>41.0138</td>\n      <td>11.04</td>\n      <td>10.18</td>\n      <td>11.04</td>\n      <td>13.45</td>\n      <td>1018</td>\n      <td>76</td>\n      <td>0</td>\n      <td>0</td>\n      <td>0</td>\n      <td>1</td>\n      <td>6970</td>\n      <td>TR</td>\n      <td>2024-02-06 05:10:34</td>\n      <td>2024-02-06 15:25:54</td>\n      <td>800</td>\n      <td>Clear</td>\n      <td>clear sky</td>\n      <td>01n</td>\n    </tr>\n  </tbody>\n</table>\n</div>"
     },
     "execution_count": 46,
     "metadata": {},
     "output_type": "execute_result"
    }
   ],
   "source": [
    "# Changing datetime format\n",
    "flatten_df['date'] = pd.to_datetime(flatten_df['date'], unit='s', errors='coerce')\n",
    "flatten_df['sunrise'] = pd.to_datetime(flatten_df['sunrise'], unit='s', errors='coerce')\n",
    "flatten_df['sunset'] = pd.to_datetime(flatten_df['sunset'], unit='s', errors='coerce')\n",
    "flatten_df.head()"
   ],
   "metadata": {
    "collapsed": false,
    "ExecuteTime": {
     "end_time": "2024-02-06T18:49:11.072825700Z",
     "start_time": "2024-02-06T18:49:10.996275300Z"
    }
   },
   "execution_count": 46
  },
  {
   "cell_type": "code",
   "outputs": [
    {
     "data": {
      "text/plain": "       base  visibility                date  timezone  country_id      name  \\\n0  stations       10000 2024-02-06 18:31:26     10800      745044  Istanbul   \n\n   cod  longitude  latitude  main_temp  main_feels_like  main_temp_min  \\\n0  200    28.9497   41.0138      11.04            10.18          11.04   \n\n   main_temp_max  pressure  humidity  wind_speed  wind_deg  clouds  sys_type  \\\n0          13.45      1018        76           0         0       0         1   \n\n   sys_id country             sunrise              sunset  weather_id  \\\n0    6970      TR 2024-02-06 05:10:34 2024-02-06 15:25:54         800   \n\n  weather_main weather_description weather_icon  \n0        Clear           clear sky          01n  ",
      "text/html": "<div>\n<style scoped>\n    .dataframe tbody tr th:only-of-type {\n        vertical-align: middle;\n    }\n\n    .dataframe tbody tr th {\n        vertical-align: top;\n    }\n\n    .dataframe thead th {\n        text-align: right;\n    }\n</style>\n<table border=\"1\" class=\"dataframe\">\n  <thead>\n    <tr style=\"text-align: right;\">\n      <th></th>\n      <th>base</th>\n      <th>visibility</th>\n      <th>date</th>\n      <th>timezone</th>\n      <th>country_id</th>\n      <th>name</th>\n      <th>cod</th>\n      <th>longitude</th>\n      <th>latitude</th>\n      <th>main_temp</th>\n      <th>main_feels_like</th>\n      <th>main_temp_min</th>\n      <th>main_temp_max</th>\n      <th>pressure</th>\n      <th>humidity</th>\n      <th>wind_speed</th>\n      <th>wind_deg</th>\n      <th>clouds</th>\n      <th>sys_type</th>\n      <th>sys_id</th>\n      <th>country</th>\n      <th>sunrise</th>\n      <th>sunset</th>\n      <th>weather_id</th>\n      <th>weather_main</th>\n      <th>weather_description</th>\n      <th>weather_icon</th>\n    </tr>\n  </thead>\n  <tbody>\n    <tr>\n      <th>0</th>\n      <td>stations</td>\n      <td>10000</td>\n      <td>2024-02-06 18:31:26</td>\n      <td>10800</td>\n      <td>745044</td>\n      <td>Istanbul</td>\n      <td>200</td>\n      <td>28.9497</td>\n      <td>41.0138</td>\n      <td>11.04</td>\n      <td>10.18</td>\n      <td>11.04</td>\n      <td>13.45</td>\n      <td>1018</td>\n      <td>76</td>\n      <td>0</td>\n      <td>0</td>\n      <td>0</td>\n      <td>1</td>\n      <td>6970</td>\n      <td>TR</td>\n      <td>2024-02-06 05:10:34</td>\n      <td>2024-02-06 15:25:54</td>\n      <td>800</td>\n      <td>Clear</td>\n      <td>clear sky</td>\n      <td>01n</td>\n    </tr>\n  </tbody>\n</table>\n</div>"
     },
     "execution_count": 50,
     "metadata": {},
     "output_type": "execute_result"
    }
   ],
   "source": [
    "dates_df = change_column_names(flatten_df)\n",
    "dates_df.head()"
   ],
   "metadata": {
    "collapsed": false,
    "ExecuteTime": {
     "end_time": "2024-02-06T18:56:20.853149800Z",
     "start_time": "2024-02-06T18:56:20.805062700Z"
    }
   },
   "execution_count": 50
  },
  {
   "cell_type": "code",
   "outputs": [
    {
     "name": "stdout",
     "output_type": "stream",
     "text": [
      "Column: base\n",
      "Value length: 8 \n",
      "\n",
      "Column: visibility\n",
      "Value length: 5 \n",
      "\n",
      "Column: date\n",
      "Value length: 19 \n",
      "\n",
      "Column: timezone\n",
      "Value length: 5 \n",
      "\n",
      "Column: country_id\n",
      "Value length: 6 \n",
      "\n",
      "Column: name\n",
      "Value length: 8 \n",
      "\n",
      "Column: cod\n",
      "Value length: 3 \n",
      "\n",
      "Column: longitude\n",
      "Value length: 7 \n",
      "\n",
      "Column: latitude\n",
      "Value length: 7 \n",
      "\n",
      "Column: main_temp\n",
      "Value length: 5 \n",
      "\n",
      "Column: main_feels_like\n",
      "Value length: 5 \n",
      "\n",
      "Column: main_temp_min\n",
      "Value length: 5 \n",
      "\n",
      "Column: main_temp_max\n",
      "Value length: 5 \n",
      "\n",
      "Column: pressure\n",
      "Value length: 4 \n",
      "\n",
      "Column: humidity\n",
      "Value length: 2 \n",
      "\n",
      "Column: wind_speed\n",
      "Value length: 1 \n",
      "\n",
      "Column: wind_deg\n",
      "Value length: 1 \n",
      "\n",
      "Column: clouds\n",
      "Value length: 1 \n",
      "\n",
      "Column: sys_type\n",
      "Value length: 1 \n",
      "\n",
      "Column: sys_id\n",
      "Value length: 4 \n",
      "\n",
      "Column: country\n",
      "Value length: 2 \n",
      "\n",
      "Column: sunrise\n",
      "Value length: 19 \n",
      "\n",
      "Column: sunset\n",
      "Value length: 19 \n",
      "\n",
      "Column: weather_id\n",
      "Value length: 3 \n",
      "\n",
      "Column: weather_main\n",
      "Value length: 5 \n",
      "\n",
      "Column: weather_description\n",
      "Value length: 9 \n",
      "\n",
      "Column: weather_icon\n",
      "Value length: 3 \n"
     ]
    }
   ],
   "source": [
    "city_df_val_len = longest_value(flatten_df)"
   ],
   "metadata": {
    "collapsed": false,
    "ExecuteTime": {
     "end_time": "2024-02-06T18:49:17.497286400Z",
     "start_time": "2024-02-06T18:49:17.445698300Z"
    }
   },
   "execution_count": 47
  },
  {
   "cell_type": "code",
   "outputs": [
    {
     "name": "stdout",
     "output_type": "stream",
     "text": [
      "<class 'pandas.core.frame.DataFrame'>\n",
      "RangeIndex: 1 entries, 0 to 0\n",
      "Data columns (total 27 columns):\n",
      " #   Column               Non-Null Count  Dtype         \n",
      "---  ------               --------------  -----         \n",
      " 0   base                 1 non-null      object        \n",
      " 1   visibility           1 non-null      int64         \n",
      " 2   date                 1 non-null      datetime64[ns]\n",
      " 3   timezone             1 non-null      int64         \n",
      " 4   country_id           1 non-null      int64         \n",
      " 5   name                 1 non-null      object        \n",
      " 6   cod                  1 non-null      int64         \n",
      " 7   longitude            1 non-null      float64       \n",
      " 8   latitude             1 non-null      float64       \n",
      " 9   main_temp            1 non-null      float64       \n",
      " 10  main_feels_like      1 non-null      float64       \n",
      " 11  main_temp_min        1 non-null      float64       \n",
      " 12  main_temp_max        1 non-null      float64       \n",
      " 13  pressure             1 non-null      int64         \n",
      " 14  humidity             1 non-null      int64         \n",
      " 15  wind_speed           1 non-null      int64         \n",
      " 16  wind_deg             1 non-null      int64         \n",
      " 17  clouds               1 non-null      int64         \n",
      " 18  sys_type             1 non-null      int64         \n",
      " 19  sys_id               1 non-null      int64         \n",
      " 20  country              1 non-null      object        \n",
      " 21  sunrise              1 non-null      datetime64[ns]\n",
      " 22  sunset               1 non-null      datetime64[ns]\n",
      " 23  weather_id           1 non-null      int64         \n",
      " 24  weather_main         1 non-null      object        \n",
      " 25  weather_description  1 non-null      object        \n",
      " 26  weather_icon         1 non-null      object        \n",
      "dtypes: datetime64[ns](3), float64(6), int64(12), object(6)\n",
      "memory usage: 348.0+ bytes\n",
      "None \n",
      "\n",
      "       base  visibility                date  timezone  country_id      name  \\\n",
      "0  stations       10000 2024-02-06 18:31:26     10800      745044  Istanbul   \n",
      "\n",
      "   cod  longitude  latitude  main_temp  main_feels_like  main_temp_min  \\\n",
      "0  200    28.9497   41.0138      11.04            10.18          11.04   \n",
      "\n",
      "   main_temp_max  pressure  humidity  wind_speed  wind_deg  clouds  sys_type  \\\n",
      "0          13.45      1018        76           0         0       0         1   \n",
      "\n",
      "   sys_id country             sunrise              sunset  weather_id  \\\n",
      "0    6970      TR 2024-02-06 05:10:34 2024-02-06 15:25:54         800   \n",
      "\n",
      "  weather_main weather_description weather_icon  \n",
      "0        Clear           clear sky          01n  \n"
     ]
    }
   ],
   "source": [
    "city_inspect = inspect_dataframe(flatten_df)"
   ],
   "metadata": {
    "collapsed": false,
    "ExecuteTime": {
     "end_time": "2024-02-06T18:49:20.404155500Z",
     "start_time": "2024-02-06T18:49:20.384015700Z"
    }
   },
   "execution_count": 48
  },
  {
   "cell_type": "code",
   "outputs": [],
   "source": [],
   "metadata": {
    "collapsed": false
   }
  }
 ],
 "metadata": {
  "kernelspec": {
   "display_name": "Python 3",
   "language": "python",
   "name": "python3"
  },
  "language_info": {
   "codemirror_mode": {
    "name": "ipython",
    "version": 3
   },
   "file_extension": ".py",
   "mimetype": "text/x-python",
   "name": "python",
   "nbconvert_exporter": "python",
   "pygments_lexer": "ipython3",
   "version": "3.8.5"
  }
 },
 "nbformat": 4,
 "nbformat_minor": 4
}
