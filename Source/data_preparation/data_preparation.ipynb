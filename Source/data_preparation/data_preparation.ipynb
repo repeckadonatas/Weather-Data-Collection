{
 "cells": [
  {
   "cell_type": "code",
   "execution_count": 2,
   "metadata": {
    "ExecuteTime": {
     "end_time": "2024-02-05T17:42:38.000549Z",
     "start_time": "2024-02-05T17:42:37.385592700Z"
    }
   },
   "outputs": [],
   "source": [
    "import os\n",
    "import json\n",
    "import pandas as pd\n",
    "import numpy as np\n",
    "from ast import literal_eval\n",
    "\n",
    "from dateutil.tz import tz"
   ]
  },
  {
   "cell_type": "markdown",
   "metadata": {},
   "source": [
    "## Basic functions to manipulate a dataframe"
   ]
  },
  {
   "cell_type": "code",
   "execution_count": 30,
   "metadata": {
    "ExecuteTime": {
     "end_time": "2024-02-05T18:21:21.230967200Z",
     "start_time": "2024-02-05T18:21:21.210289500Z"
    }
   },
   "outputs": [],
   "source": [
    "def get_files_in_directory():\n",
    "    \"\"\"\n",
    "    Sets a path to JSON file.\n",
    "    :returns a file name in a set path\n",
    "    \"\"\"\n",
    "    path_to_files = '../data/input'\n",
    "    files_in_path = os.scandir(path_to_files)\n",
    "    \n",
    "    list_of_files = []\n",
    "    for file in files_in_path:\n",
    "        if file.is_dir() or file.is_file():\n",
    "            list_of_files.append(file.name)\n",
    "            return list_of_files    # <- don't forget to align this statement back with for!!!!!"
   ]
  },
  {
   "cell_type": "code",
   "execution_count": 92,
   "metadata": {
    "ExecuteTime": {
     "end_time": "2024-02-05T20:33:15.340370100Z",
     "start_time": "2024-02-05T20:33:15.306853800Z"
    }
   },
   "outputs": [],
   "source": [
    "def create_dataframe(file_json):\n",
    "    \"\"\"\n",
    "    Creates a pandas dataframe from JSON file.\n",
    "    Sets the maximum available columns to be shown.\n",
    "    Requires name of the file.\n",
    "    \"\"\"\n",
    "    path_to_files = '../data/input/'\n",
    "    with open(path_to_files + file_json) as jfile:\n",
    "        json_data = json.load(jfile)\n",
    "        df = pd.DataFrame(pd.json_normalize(json_data))\n",
    "        pd.set_option('display.max_columns', None)\n",
    "    return df"
   ]
  },
  {
   "cell_type": "code",
   "outputs": [],
   "source": [
    "# FOR LATER!!!\n",
    "\n",
    "def change_column_names(dataframe):\n",
    "    \"\"\"\n",
    "    Changes the column names of the dataframe to their new column names.\n",
    "    :param dataframe: a pandas dataframe to change column names\n",
    "    :return: dataframe with new column names\n",
    "    \"\"\"\n",
    "    new_names = {\"dt\": \"date\", \n",
    "             \"id\": \"country_id\", \n",
    "             \"cord.lon\": \"longitude\",\n",
    "             \"cord.lat\": \"latitude\",\n",
    "             \"main.temp\": \"main_temp\",\n",
    "             \"main.feels_like\": \"main_feels_like\",\n",
    "             \"main.temp_min\": \"main_temp_min\",\n",
    "             \"main.temp_max\": \"main_temp_max\",\n",
    "             \"main.pressure\": \"pressure\",\n",
    "             \"main.humidity\": \"humidity\",\n",
    "             \"wind.speed\": \"wind_speed\",\n",
    "             \"wind.deg\": \"wind_deg\",\n",
    "             \"clouds.all\": \"clouds\",\n",
    "             \"sys.type\": \"sys_type\",\n",
    "             \"sys.id\": \"sys_id\",\n",
    "             \"sys.country\": \"country\",\n",
    "             \"sys.sunrise\": \"sunrise\",\n",
    "             \"sys.sunset\": \"sunset\"}\n",
    "    dataframe.replace(new_names, inplace=True)\n",
    "    return dataframe"
   ],
   "metadata": {
    "collapsed": false,
    "ExecuteTime": {
     "end_time": "2024-02-05T19:21:21.426765500Z",
     "start_time": "2024-02-05T19:21:21.407216600Z"
    }
   },
   "execution_count": 40
  },
  {
   "cell_type": "code",
   "outputs": [
    {
     "name": "stdout",
     "output_type": "stream",
     "text": [
      "<class 'pandas.core.series.Series'>\n"
     ]
    }
   ],
   "source": [
    "# to flatten 'weather' column\n",
    "# pd.json_normalize(data,record_path=['weather'])\n"
   ],
   "metadata": {
    "collapsed": false,
    "ExecuteTime": {
     "end_time": "2024-02-05T18:21:25.276063600Z",
     "start_time": "2024-02-05T18:21:25.244075500Z"
    }
   },
   "execution_count": 34
  },
  {
   "cell_type": "code",
   "outputs": [],
   "source": [],
   "metadata": {
    "collapsed": false,
    "ExecuteTime": {
     "end_time": "2024-02-05T18:21:38.345251800Z",
     "start_time": "2024-02-05T18:21:38.317699200Z"
    }
   },
   "execution_count": 35
  },
  {
   "cell_type": "code",
   "execution_count": 7,
   "metadata": {
    "ExecuteTime": {
     "end_time": "2024-02-05T17:42:51.104573400Z",
     "start_time": "2024-02-05T17:42:51.077181600Z"
    }
   },
   "outputs": [],
   "source": [
    "def inspect_dataframe(dataframe):\n",
    "    \"\"\"\n",
    "    Returns information about the dataset \n",
    "    and shows a preview of the data in it.\n",
    "    \"\"\"\n",
    "    print(dataframe.info(), '\\n')\n",
    "    print(dataframe.head())"
   ]
  },
  {
   "cell_type": "code",
   "execution_count": 18,
   "metadata": {
    "ExecuteTime": {
     "end_time": "2024-02-05T17:52:26.942048500Z",
     "start_time": "2024-02-05T17:52:26.917634500Z"
    }
   },
   "outputs": [],
   "source": [
    "def list_like_columns(dataframe):\n",
    "    \"\"\"\n",
    "    Creating a list where columns have list-like values.\n",
    "    \"\"\"\n",
    "    list_like_cols = []\n",
    "\n",
    "    for row in dataframe:\n",
    "        col_name = row\n",
    "        list_like = dataframe[dataframe.astype(str)[row] == '[]'].index\n",
    "        if len(list_like) != 0:\n",
    "            list_like_cols.append(col_name)\n",
    "    \n",
    "    return list_like_cols"
   ]
  },
  {
   "cell_type": "code",
   "execution_count": 12,
   "metadata": {
    "ExecuteTime": {
     "end_time": "2024-02-05T17:43:56.438256900Z",
     "start_time": "2024-02-05T17:43:56.421493Z"
    }
   },
   "outputs": [],
   "source": [
    "def to_proper_list(dataframe, list_like_columns):\n",
    "    \"\"\"\n",
    "    Converting values of list-like columns to proper list type.\n",
    "    \"\"\"\n",
    "    for row in list_like_columns:\n",
    "        dataframe[row] = dataframe[row].apply(literal_eval)\n",
    "    \n",
    "    return dataframe"
   ]
  },
  {
   "cell_type": "code",
   "execution_count": 9,
   "metadata": {
    "ExecuteTime": {
     "end_time": "2024-02-04T09:37:52.147253500Z",
     "start_time": "2024-02-04T09:37:52.026943100Z"
    }
   },
   "outputs": [],
   "source": [
    "def copy_and_explode(dataframe, *columns):\n",
    "    \"\"\"\n",
    "    Normalizing to the 2NF.\n",
    "    Creating new dataframes containing str-list columns.\n",
    "    Exploding list values of columns.\n",
    "    Recreating the index column if the original dataset had one\n",
    "    to keep unique index in the dataframe.\n",
    "    Saving new dataframe to a CSV file.\n",
    "    \"\"\"\n",
    "    df_copy = dataframe.copy()\n",
    "    col_list = [*columns]\n",
    "    \n",
    "\n",
    "    for col in col_list:\n",
    "        if isinstance(col_list, (list, pd.core.series.Series, np.ndarray)):\n",
    "            df_copy = df_copy.explode(col)\n",
    "            df_copy[col].replace(',', '', regex=True, inplace=True)\n",
    "            df_copy = df_copy.explode(col)\n",
    "        else:\n",
    "            df_copy\n",
    "    \n",
    "    df_copy = df_copy.drop_duplicates()\n",
    "       \n",
    "    new_df_name = input('Enter a name for a normalized dataset: ')\n",
    "    df_copy.to_csv(f'../data/output/{new_df_name}_2NF.csv', sep=',', encoding='utf-8', index=None, header='true')"
   ]
  },
  {
   "cell_type": "markdown",
   "metadata": {},
   "source": [
    "## Finding the longest value in each column of a given dataframe"
   ]
  },
  {
   "cell_type": "code",
   "execution_count": 101,
   "metadata": {
    "ExecuteTime": {
     "end_time": "2024-02-05T20:37:57.295920800Z",
     "start_time": "2024-02-05T20:37:57.278670800Z"
    }
   },
   "outputs": [],
   "source": [
    "def longest_value(dataframe):\n",
    "    \"\"\"\n",
    "    Checking for the longest string in each column of a given CSV file.\n",
    "    \"\"\"\n",
    "    for row in dataframe:\n",
    "        col_name = row\n",
    "        row_pos = dataframe[row].astype(str).str.len().idxmax(axis=1)\n",
    "\n",
    "        if dataframe[row].dtype == float or int:\n",
    "            list_len = dataframe[row].astype(str).str.len().max()\n",
    "\n",
    "        else:\n",
    "            list_len = max(list(map(len, dataframe[row].values)))\n",
    "\n",
    "        print('Column:', col_name)\n",
    "        print('Value length:', list_len,)\n",
    "        print('Row position:', row_pos, '\\n')"
   ]
  },
  {
   "cell_type": "markdown",
   "metadata": {},
   "source": [
    "## Files in ../data/input location"
   ]
  },
  {
   "cell_type": "code",
   "execution_count": 95,
   "metadata": {
    "ExecuteTime": {
     "end_time": "2024-02-05T20:34:29.345494700Z",
     "start_time": "2024-02-05T20:34:29.306902Z"
    }
   },
   "outputs": [
    {
     "name": "stdout",
     "output_type": "stream",
     "text": [
      "['Istanbul, Turkey_response.json']\n"
     ]
    }
   ],
   "source": [
    "cities = get_files_in_directory()\n",
    "print(cities)"
   ]
  },
  {
   "cell_type": "code",
   "outputs": [
    {
     "data": {
      "text/plain": "                                             weather      base  visibility  \\\n0  [{'id': 800, 'main': 'Clear', 'description': '...  stations       10000   \n\n           dt  timezone      id      name  cod  coord.lon  coord.lat  \\\n0  1707141172     10800  745044  Istanbul  200    28.9497    41.0138   \n\n   main.temp  main.feels_like  main.temp_min  main.temp_max  main.pressure  \\\n0      13.04            12.38          13.04          14.45           1015   \n\n   main.humidity  wind.speed  wind.deg  clouds.all  sys.type  sys.id  \\\n0             76        4.12       240           0         1    6970   \n\n  sys.country  sys.sunrise  sys.sunset  \n0          TR   1707109898  1707146679  ",
      "text/html": "<div>\n<style scoped>\n    .dataframe tbody tr th:only-of-type {\n        vertical-align: middle;\n    }\n\n    .dataframe tbody tr th {\n        vertical-align: top;\n    }\n\n    .dataframe thead th {\n        text-align: right;\n    }\n</style>\n<table border=\"1\" class=\"dataframe\">\n  <thead>\n    <tr style=\"text-align: right;\">\n      <th></th>\n      <th>weather</th>\n      <th>base</th>\n      <th>visibility</th>\n      <th>dt</th>\n      <th>timezone</th>\n      <th>id</th>\n      <th>name</th>\n      <th>cod</th>\n      <th>coord.lon</th>\n      <th>coord.lat</th>\n      <th>main.temp</th>\n      <th>main.feels_like</th>\n      <th>main.temp_min</th>\n      <th>main.temp_max</th>\n      <th>main.pressure</th>\n      <th>main.humidity</th>\n      <th>wind.speed</th>\n      <th>wind.deg</th>\n      <th>clouds.all</th>\n      <th>sys.type</th>\n      <th>sys.id</th>\n      <th>sys.country</th>\n      <th>sys.sunrise</th>\n      <th>sys.sunset</th>\n    </tr>\n  </thead>\n  <tbody>\n    <tr>\n      <th>0</th>\n      <td>[{'id': 800, 'main': 'Clear', 'description': '...</td>\n      <td>stations</td>\n      <td>10000</td>\n      <td>1707141172</td>\n      <td>10800</td>\n      <td>745044</td>\n      <td>Istanbul</td>\n      <td>200</td>\n      <td>28.9497</td>\n      <td>41.0138</td>\n      <td>13.04</td>\n      <td>12.38</td>\n      <td>13.04</td>\n      <td>14.45</td>\n      <td>1015</td>\n      <td>76</td>\n      <td>4.12</td>\n      <td>240</td>\n      <td>0</td>\n      <td>1</td>\n      <td>6970</td>\n      <td>TR</td>\n      <td>1707109898</td>\n      <td>1707146679</td>\n    </tr>\n  </tbody>\n</table>\n</div>"
     },
     "execution_count": 96,
     "metadata": {},
     "output_type": "execute_result"
    }
   ],
   "source": [
    "for city in cities:\n",
    "    city_df = create_dataframe(city)\n",
    "city_df.head()"
   ],
   "metadata": {
    "collapsed": false,
    "ExecuteTime": {
     "end_time": "2024-02-05T20:35:13.337471600Z",
     "start_time": "2024-02-05T20:35:13.309886400Z"
    }
   },
   "execution_count": 96
  },
  {
   "cell_type": "code",
   "outputs": [
    {
     "data": {
      "text/plain": "                                             weather      base  visibility  \\\n0  [{'id': 800, 'main': 'Clear', 'description': '...  stations       10000   \n\n                   dt  timezone      id      name  cod  coord.lon  coord.lat  \\\n0 2024-02-05 13:52:52     10800  745044  Istanbul  200    28.9497    41.0138   \n\n   main.temp  main.feels_like  main.temp_min  main.temp_max  main.pressure  \\\n0      13.04            12.38          13.04          14.45           1015   \n\n   main.humidity  wind.speed  wind.deg  clouds.all  sys.type  sys.id  \\\n0             76        4.12       240           0         1    6970   \n\n  sys.country         sys.sunrise          sys.sunset  \n0          TR 2024-02-05 05:11:38 2024-02-05 15:24:39  ",
      "text/html": "<div>\n<style scoped>\n    .dataframe tbody tr th:only-of-type {\n        vertical-align: middle;\n    }\n\n    .dataframe tbody tr th {\n        vertical-align: top;\n    }\n\n    .dataframe thead th {\n        text-align: right;\n    }\n</style>\n<table border=\"1\" class=\"dataframe\">\n  <thead>\n    <tr style=\"text-align: right;\">\n      <th></th>\n      <th>weather</th>\n      <th>base</th>\n      <th>visibility</th>\n      <th>dt</th>\n      <th>timezone</th>\n      <th>id</th>\n      <th>name</th>\n      <th>cod</th>\n      <th>coord.lon</th>\n      <th>coord.lat</th>\n      <th>main.temp</th>\n      <th>main.feels_like</th>\n      <th>main.temp_min</th>\n      <th>main.temp_max</th>\n      <th>main.pressure</th>\n      <th>main.humidity</th>\n      <th>wind.speed</th>\n      <th>wind.deg</th>\n      <th>clouds.all</th>\n      <th>sys.type</th>\n      <th>sys.id</th>\n      <th>sys.country</th>\n      <th>sys.sunrise</th>\n      <th>sys.sunset</th>\n    </tr>\n  </thead>\n  <tbody>\n    <tr>\n      <th>0</th>\n      <td>[{'id': 800, 'main': 'Clear', 'description': '...</td>\n      <td>stations</td>\n      <td>10000</td>\n      <td>2024-02-05 13:52:52</td>\n      <td>10800</td>\n      <td>745044</td>\n      <td>Istanbul</td>\n      <td>200</td>\n      <td>28.9497</td>\n      <td>41.0138</td>\n      <td>13.04</td>\n      <td>12.38</td>\n      <td>13.04</td>\n      <td>14.45</td>\n      <td>1015</td>\n      <td>76</td>\n      <td>4.12</td>\n      <td>240</td>\n      <td>0</td>\n      <td>1</td>\n      <td>6970</td>\n      <td>TR</td>\n      <td>2024-02-05 05:11:38</td>\n      <td>2024-02-05 15:24:39</td>\n    </tr>\n  </tbody>\n</table>\n</div>"
     },
     "execution_count": 97,
     "metadata": {},
     "output_type": "execute_result"
    }
   ],
   "source": [
    "# Changing datetime format\n",
    "city_df['dt'] = pd.to_datetime(city_df['dt'], unit='s', errors='coerce')\n",
    "city_df['sys.sunrise'] = pd.to_datetime(city_df['sys.sunrise'], unit='s', errors='coerce')\n",
    "city_df['sys.sunset'] = pd.to_datetime(city_df['sys.sunset'], unit='s', errors='coerce')\n",
    "city_df.head()"
   ],
   "metadata": {
    "collapsed": false,
    "ExecuteTime": {
     "end_time": "2024-02-05T20:35:32.186084500Z",
     "start_time": "2024-02-05T20:35:32.152062800Z"
    }
   },
   "execution_count": 97
  },
  {
   "cell_type": "code",
   "outputs": [
    {
     "ename": "ValueError",
     "evalue": "No axis named 1 for object type Series",
     "output_type": "error",
     "traceback": [
      "\u001B[1;31m---------------------------------------------------------------------------\u001B[0m",
      "\u001B[1;31mKeyError\u001B[0m                                  Traceback (most recent call last)",
      "\u001B[1;32m~\\Desktop\\TURING\\Projects\\Weather-Data-System\\.venv\\Lib\\site-packages\\pandas\\core\\generic.py\u001B[0m in \u001B[0;36m?\u001B[1;34m(cls, axis)\u001B[0m\n\u001B[0;32m    575\u001B[0m             \u001B[1;32mreturn\u001B[0m \u001B[0mcls\u001B[0m\u001B[1;33m.\u001B[0m\u001B[0m_AXIS_TO_AXIS_NUMBER\u001B[0m\u001B[1;33m[\u001B[0m\u001B[0maxis\u001B[0m\u001B[1;33m]\u001B[0m\u001B[1;33m\u001B[0m\u001B[1;33m\u001B[0m\u001B[0m\n\u001B[0;32m    576\u001B[0m         \u001B[1;32mexcept\u001B[0m \u001B[0mKeyError\u001B[0m\u001B[1;33m:\u001B[0m\u001B[1;33m\u001B[0m\u001B[1;33m\u001B[0m\u001B[0m\n\u001B[1;32m--> 577\u001B[1;33m             \u001B[1;32mraise\u001B[0m \u001B[0mValueError\u001B[0m\u001B[1;33m(\u001B[0m\u001B[1;34mf\"No axis named {axis} for object type {cls.__name__}\"\u001B[0m\u001B[1;33m)\u001B[0m\u001B[1;33m\u001B[0m\u001B[1;33m\u001B[0m\u001B[0m\n\u001B[0m",
      "\u001B[1;31mKeyError\u001B[0m: 1",
      "\nDuring handling of the above exception, another exception occurred:\n",
      "\u001B[1;31mValueError\u001B[0m                                Traceback (most recent call last)",
      "\u001B[1;32m~\\AppData\\Local\\Temp\\ipykernel_6376\\1664117123.py\u001B[0m in \u001B[0;36m?\u001B[1;34m()\u001B[0m\n\u001B[1;32m----> 1\u001B[1;33m \u001B[0mcity_df_val_len\u001B[0m \u001B[1;33m=\u001B[0m \u001B[0mlongest_value\u001B[0m\u001B[1;33m(\u001B[0m\u001B[0mcity_df\u001B[0m\u001B[1;33m)\u001B[0m\u001B[1;33m\u001B[0m\u001B[1;33m\u001B[0m\u001B[0m\n\u001B[0m",
      "\u001B[1;32m~\\AppData\\Local\\Temp\\ipykernel_6376\\1870478792.py\u001B[0m in \u001B[0;36m?\u001B[1;34m(dataframe)\u001B[0m\n\u001B[0;32m      3\u001B[0m     \u001B[0mChecking\u001B[0m \u001B[1;32mfor\u001B[0m \u001B[0mthe\u001B[0m \u001B[0mlongest\u001B[0m \u001B[0mstring\u001B[0m \u001B[1;32min\u001B[0m \u001B[0meach\u001B[0m \u001B[0mcolumn\u001B[0m \u001B[0mof\u001B[0m \u001B[0ma\u001B[0m \u001B[0mgiven\u001B[0m \u001B[0mCSV\u001B[0m \u001B[0mfile\u001B[0m\u001B[1;33m.\u001B[0m\u001B[1;33m\u001B[0m\u001B[1;33m\u001B[0m\u001B[0m\n\u001B[0;32m      4\u001B[0m     \"\"\"\n\u001B[0;32m      5\u001B[0m     \u001B[1;32mfor\u001B[0m \u001B[0mrow\u001B[0m \u001B[1;32min\u001B[0m \u001B[0mdataframe\u001B[0m\u001B[1;33m:\u001B[0m\u001B[1;33m\u001B[0m\u001B[1;33m\u001B[0m\u001B[0m\n\u001B[0;32m      6\u001B[0m         \u001B[0mcol_name\u001B[0m \u001B[1;33m=\u001B[0m \u001B[0mrow\u001B[0m\u001B[1;33m\u001B[0m\u001B[1;33m\u001B[0m\u001B[0m\n\u001B[1;32m----> 7\u001B[1;33m         \u001B[0mrow_pos\u001B[0m \u001B[1;33m=\u001B[0m \u001B[0mdataframe\u001B[0m\u001B[1;33m[\u001B[0m\u001B[0mrow\u001B[0m\u001B[1;33m]\u001B[0m\u001B[1;33m.\u001B[0m\u001B[0mastype\u001B[0m\u001B[1;33m(\u001B[0m\u001B[0mstr\u001B[0m\u001B[1;33m)\u001B[0m\u001B[1;33m.\u001B[0m\u001B[0mstr\u001B[0m\u001B[1;33m.\u001B[0m\u001B[0mlen\u001B[0m\u001B[1;33m(\u001B[0m\u001B[1;33m)\u001B[0m\u001B[1;33m.\u001B[0m\u001B[0midxmax\u001B[0m\u001B[1;33m(\u001B[0m\u001B[0maxis\u001B[0m\u001B[1;33m=\u001B[0m\u001B[1;36m1\u001B[0m\u001B[1;33m)\u001B[0m\u001B[1;33m\u001B[0m\u001B[1;33m\u001B[0m\u001B[0m\n\u001B[0m\u001B[0;32m      8\u001B[0m \u001B[1;33m\u001B[0m\u001B[0m\n\u001B[0;32m      9\u001B[0m         \u001B[1;32mif\u001B[0m \u001B[0mdataframe\u001B[0m\u001B[1;33m[\u001B[0m\u001B[0mrow\u001B[0m\u001B[1;33m]\u001B[0m\u001B[1;33m.\u001B[0m\u001B[0mdtype\u001B[0m \u001B[1;33m==\u001B[0m \u001B[0mfloat\u001B[0m \u001B[1;32mor\u001B[0m \u001B[0mint\u001B[0m\u001B[1;33m:\u001B[0m\u001B[1;33m\u001B[0m\u001B[1;33m\u001B[0m\u001B[0m\n\u001B[0;32m     10\u001B[0m             \u001B[0mlist_len\u001B[0m \u001B[1;33m=\u001B[0m \u001B[0mdataframe\u001B[0m\u001B[1;33m[\u001B[0m\u001B[0mrow\u001B[0m\u001B[1;33m]\u001B[0m\u001B[1;33m.\u001B[0m\u001B[0mastype\u001B[0m\u001B[1;33m(\u001B[0m\u001B[0mstr\u001B[0m\u001B[1;33m)\u001B[0m\u001B[1;33m.\u001B[0m\u001B[0mstr\u001B[0m\u001B[1;33m.\u001B[0m\u001B[0mlen\u001B[0m\u001B[1;33m(\u001B[0m\u001B[1;33m)\u001B[0m\u001B[1;33m.\u001B[0m\u001B[0mmax\u001B[0m\u001B[1;33m(\u001B[0m\u001B[1;33m)\u001B[0m\u001B[1;33m\u001B[0m\u001B[1;33m\u001B[0m\u001B[0m\n",
      "\u001B[1;32m~\\Desktop\\TURING\\Projects\\Weather-Data-System\\.venv\\Lib\\site-packages\\pandas\\core\\series.py\u001B[0m in \u001B[0;36m?\u001B[1;34m(self, axis, skipna, *args, **kwargs)\u001B[0m\n\u001B[0;32m   2741\u001B[0m \u001B[1;33m\u001B[0m\u001B[0m\n\u001B[0;32m   2742\u001B[0m         \u001B[1;33m>>\u001B[0m\u001B[1;33m>\u001B[0m \u001B[0ms\u001B[0m\u001B[1;33m.\u001B[0m\u001B[0midxmax\u001B[0m\u001B[1;33m(\u001B[0m\u001B[0mskipna\u001B[0m\u001B[1;33m=\u001B[0m\u001B[1;32mFalse\u001B[0m\u001B[1;33m)\u001B[0m\u001B[1;33m\u001B[0m\u001B[1;33m\u001B[0m\u001B[0m\n\u001B[0;32m   2743\u001B[0m         \u001B[0mnan\u001B[0m\u001B[1;33m\u001B[0m\u001B[1;33m\u001B[0m\u001B[0m\n\u001B[0;32m   2744\u001B[0m         \"\"\"\n\u001B[1;32m-> 2745\u001B[1;33m         \u001B[0maxis\u001B[0m \u001B[1;33m=\u001B[0m \u001B[0mself\u001B[0m\u001B[1;33m.\u001B[0m\u001B[0m_get_axis_number\u001B[0m\u001B[1;33m(\u001B[0m\u001B[0maxis\u001B[0m\u001B[1;33m)\u001B[0m\u001B[1;33m\u001B[0m\u001B[1;33m\u001B[0m\u001B[0m\n\u001B[0m\u001B[0;32m   2746\u001B[0m         \u001B[1;32mwith\u001B[0m \u001B[0mwarnings\u001B[0m\u001B[1;33m.\u001B[0m\u001B[0mcatch_warnings\u001B[0m\u001B[1;33m(\u001B[0m\u001B[1;33m)\u001B[0m\u001B[1;33m:\u001B[0m\u001B[1;33m\u001B[0m\u001B[1;33m\u001B[0m\u001B[0m\n\u001B[0;32m   2747\u001B[0m             \u001B[1;31m# TODO(3.0): this catching/filtering can be removed\u001B[0m\u001B[1;33m\u001B[0m\u001B[1;33m\u001B[0m\u001B[0m\n\u001B[0;32m   2748\u001B[0m             \u001B[1;31m# ignore warning produced by argmax since we will issue a different\u001B[0m\u001B[1;33m\u001B[0m\u001B[1;33m\u001B[0m\u001B[0m\n",
      "\u001B[1;32m~\\Desktop\\TURING\\Projects\\Weather-Data-System\\.venv\\Lib\\site-packages\\pandas\\core\\generic.py\u001B[0m in \u001B[0;36m?\u001B[1;34m(cls, axis)\u001B[0m\n\u001B[0;32m    573\u001B[0m     \u001B[1;32mdef\u001B[0m \u001B[0m_get_axis_number\u001B[0m\u001B[1;33m(\u001B[0m\u001B[0mcls\u001B[0m\u001B[1;33m,\u001B[0m \u001B[0maxis\u001B[0m\u001B[1;33m:\u001B[0m \u001B[0mAxis\u001B[0m\u001B[1;33m)\u001B[0m \u001B[1;33m->\u001B[0m \u001B[0mAxisInt\u001B[0m\u001B[1;33m:\u001B[0m\u001B[1;33m\u001B[0m\u001B[1;33m\u001B[0m\u001B[0m\n\u001B[0;32m    574\u001B[0m         \u001B[1;32mtry\u001B[0m\u001B[1;33m:\u001B[0m\u001B[1;33m\u001B[0m\u001B[1;33m\u001B[0m\u001B[0m\n\u001B[0;32m    575\u001B[0m             \u001B[1;32mreturn\u001B[0m \u001B[0mcls\u001B[0m\u001B[1;33m.\u001B[0m\u001B[0m_AXIS_TO_AXIS_NUMBER\u001B[0m\u001B[1;33m[\u001B[0m\u001B[0maxis\u001B[0m\u001B[1;33m]\u001B[0m\u001B[1;33m\u001B[0m\u001B[1;33m\u001B[0m\u001B[0m\n\u001B[0;32m    576\u001B[0m         \u001B[1;32mexcept\u001B[0m \u001B[0mKeyError\u001B[0m\u001B[1;33m:\u001B[0m\u001B[1;33m\u001B[0m\u001B[1;33m\u001B[0m\u001B[0m\n\u001B[1;32m--> 577\u001B[1;33m             \u001B[1;32mraise\u001B[0m \u001B[0mValueError\u001B[0m\u001B[1;33m(\u001B[0m\u001B[1;34mf\"No axis named {axis} for object type {cls.__name__}\"\u001B[0m\u001B[1;33m)\u001B[0m\u001B[1;33m\u001B[0m\u001B[1;33m\u001B[0m\u001B[0m\n\u001B[0m",
      "\u001B[1;31mValueError\u001B[0m: No axis named 1 for object type Series"
     ]
    }
   ],
   "source": [
    "city_df_val_len = longest_value(city_df)"
   ],
   "metadata": {
    "collapsed": false,
    "ExecuteTime": {
     "end_time": "2024-02-05T20:38:00.154920900Z",
     "start_time": "2024-02-05T20:38:00.112083700Z"
    }
   },
   "execution_count": 102
  },
  {
   "cell_type": "code",
   "outputs": [
    {
     "data": {
      "text/plain": "                                             weather      base  visibility  \\\n0  [{'id': 800, 'main': 'Clear', 'description': '...  stations       10000   \n\n                   dt  timezone      id      name  cod  coord.lon  coord.lat  \\\n0 2024-02-05 13:52:52     10800  745044  Istanbul  200    28.9497    41.0138   \n\n   main.temp  main.feels_like  main.temp_min  main.temp_max  main.pressure  \\\n0      13.04            12.38          13.04          14.45           1015   \n\n   main.humidity  wind.speed  wind.deg  clouds.all  sys.type  sys.id  \\\n0             76        4.12       240           0         1    6970   \n\n  sys.country         sys.sunrise          sys.sunset  \n0          TR 2024-02-05 05:11:38 2024-02-05 15:24:39  ",
      "text/html": "<div>\n<style scoped>\n    .dataframe tbody tr th:only-of-type {\n        vertical-align: middle;\n    }\n\n    .dataframe tbody tr th {\n        vertical-align: top;\n    }\n\n    .dataframe thead th {\n        text-align: right;\n    }\n</style>\n<table border=\"1\" class=\"dataframe\">\n  <thead>\n    <tr style=\"text-align: right;\">\n      <th></th>\n      <th>weather</th>\n      <th>base</th>\n      <th>visibility</th>\n      <th>dt</th>\n      <th>timezone</th>\n      <th>id</th>\n      <th>name</th>\n      <th>cod</th>\n      <th>coord.lon</th>\n      <th>coord.lat</th>\n      <th>main.temp</th>\n      <th>main.feels_like</th>\n      <th>main.temp_min</th>\n      <th>main.temp_max</th>\n      <th>main.pressure</th>\n      <th>main.humidity</th>\n      <th>wind.speed</th>\n      <th>wind.deg</th>\n      <th>clouds.all</th>\n      <th>sys.type</th>\n      <th>sys.id</th>\n      <th>sys.country</th>\n      <th>sys.sunrise</th>\n      <th>sys.sunset</th>\n    </tr>\n  </thead>\n  <tbody>\n    <tr>\n      <th>0</th>\n      <td>[{'id': 800, 'main': 'Clear', 'description': '...</td>\n      <td>stations</td>\n      <td>10000</td>\n      <td>2024-02-05 13:52:52</td>\n      <td>10800</td>\n      <td>745044</td>\n      <td>Istanbul</td>\n      <td>200</td>\n      <td>28.9497</td>\n      <td>41.0138</td>\n      <td>13.04</td>\n      <td>12.38</td>\n      <td>13.04</td>\n      <td>14.45</td>\n      <td>1015</td>\n      <td>76</td>\n      <td>4.12</td>\n      <td>240</td>\n      <td>0</td>\n      <td>1</td>\n      <td>6970</td>\n      <td>TR</td>\n      <td>2024-02-05 05:11:38</td>\n      <td>2024-02-05 15:24:39</td>\n    </tr>\n  </tbody>\n</table>\n</div>"
     },
     "execution_count": 98,
     "metadata": {},
     "output_type": "execute_result"
    }
   ],
   "source": [
    "city_df2 = change_column_names(city_df)\n",
    "city_df2.head()"
   ],
   "metadata": {
    "collapsed": false,
    "ExecuteTime": {
     "end_time": "2024-02-05T20:36:11.990005200Z",
     "start_time": "2024-02-05T20:36:11.970033500Z"
    }
   },
   "execution_count": 98
  },
  {
   "cell_type": "code",
   "outputs": [
    {
     "name": "stdout",
     "output_type": "stream",
     "text": [
      "<class 'pandas.core.frame.DataFrame'>\n",
      "RangeIndex: 1 entries, 0 to 0\n",
      "Data columns (total 24 columns):\n",
      " #   Column           Non-Null Count  Dtype         \n",
      "---  ------           --------------  -----         \n",
      " 0   weather          1 non-null      object        \n",
      " 1   base             1 non-null      object        \n",
      " 2   visibility       1 non-null      int64         \n",
      " 3   dt               1 non-null      datetime64[ns]\n",
      " 4   timezone         1 non-null      int64         \n",
      " 5   id               1 non-null      int64         \n",
      " 6   name             1 non-null      object        \n",
      " 7   cod              1 non-null      int64         \n",
      " 8   coord.lon        1 non-null      float64       \n",
      " 9   coord.lat        1 non-null      float64       \n",
      " 10  main.temp        1 non-null      float64       \n",
      " 11  main.feels_like  1 non-null      float64       \n",
      " 12  main.temp_min    1 non-null      float64       \n",
      " 13  main.temp_max    1 non-null      float64       \n",
      " 14  main.pressure    1 non-null      int64         \n",
      " 15  main.humidity    1 non-null      int64         \n",
      " 16  wind.speed       1 non-null      float64       \n",
      " 17  wind.deg         1 non-null      int64         \n",
      " 18  clouds.all       1 non-null      int64         \n",
      " 19  sys.type         1 non-null      int64         \n",
      " 20  sys.id           1 non-null      int64         \n",
      " 21  sys.country      1 non-null      object        \n",
      " 22  sys.sunrise      1 non-null      datetime64[ns]\n",
      " 23  sys.sunset       1 non-null      datetime64[ns]\n",
      "dtypes: datetime64[ns](3), float64(7), int64(10), object(4)\n",
      "memory usage: 324.0+ bytes\n",
      "None \n",
      "\n",
      "                                             weather      base  visibility  \\\n",
      "0  [{'id': 800, 'main': 'Clear', 'description': '...  stations       10000   \n",
      "\n",
      "                   dt  timezone      id      name  cod  coord.lon  coord.lat  \\\n",
      "0 2024-02-05 13:52:52     10800  745044  Istanbul  200    28.9497    41.0138   \n",
      "\n",
      "   main.temp  main.feels_like  main.temp_min  main.temp_max  main.pressure  \\\n",
      "0      13.04            12.38          13.04          14.45           1015   \n",
      "\n",
      "   main.humidity  wind.speed  wind.deg  clouds.all  sys.type  sys.id  \\\n",
      "0             76        4.12       240           0         1    6970   \n",
      "\n",
      "  sys.country         sys.sunrise          sys.sunset  \n",
      "0          TR 2024-02-05 05:11:38 2024-02-05 15:24:39  \n"
     ]
    }
   ],
   "source": [
    "city_inspect = inspect_dataframe(city_df)"
   ],
   "metadata": {
    "collapsed": false,
    "ExecuteTime": {
     "end_time": "2024-02-05T20:36:48.987970200Z",
     "start_time": "2024-02-05T20:36:48.949856900Z"
    }
   },
   "execution_count": 99
  },
  {
   "cell_type": "code",
   "outputs": [],
   "source": [],
   "metadata": {
    "collapsed": false
   }
  }
 ],
 "metadata": {
  "kernelspec": {
   "display_name": "Python 3",
   "language": "python",
   "name": "python3"
  },
  "language_info": {
   "codemirror_mode": {
    "name": "ipython",
    "version": 3
   },
   "file_extension": ".py",
   "mimetype": "text/x-python",
   "name": "python",
   "nbconvert_exporter": "python",
   "pygments_lexer": "ipython3",
   "version": "3.8.5"
  }
 },
 "nbformat": 4,
 "nbformat_minor": 4
}
