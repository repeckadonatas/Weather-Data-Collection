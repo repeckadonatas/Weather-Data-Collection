{
 "cells": [
  {
   "cell_type": "code",
   "execution_count": 174,
   "metadata": {
    "ExecuteTime": {
     "end_time": "2024-02-04T13:54:03.094502900Z",
     "start_time": "2024-02-04T13:54:03.052701900Z"
    }
   },
   "outputs": [],
   "source": [
    "import os\n",
    "import json\n",
    "import pandas as pd\n",
    "import numpy as np\n",
    "from ast import literal_eval"
   ]
  },
  {
   "cell_type": "markdown",
   "metadata": {},
   "source": [
    "## Basic functions to manipulate a dataframe"
   ]
  },
  {
   "cell_type": "code",
   "execution_count": 239,
   "metadata": {
    "ExecuteTime": {
     "end_time": "2024-02-04T14:27:38.832250100Z",
     "start_time": "2024-02-04T14:27:38.812772500Z"
    }
   },
   "outputs": [],
   "source": [
    "def get_files_in_directory():\n",
    "    \"\"\"\n",
    "    Sets a path to JSON file.\n",
    "    :returns a file name in a set path\n",
    "    \"\"\"\n",
    "    path_to_files = '../data/input'\n",
    "    files_in_path = os.scandir(path_to_files)\n",
    "    \n",
    "    list_of_files = []\n",
    "    for file in files_in_path:\n",
    "        if file.is_dir() or file.is_file():\n",
    "            list_of_files.append(file.name)\n",
    "            return list_of_files    # <- don't forget to align this statement back with for!!!!!"
   ]
  },
  {
   "cell_type": "code",
   "outputs": [
    {
     "name": "stdout",
     "output_type": "stream",
     "text": [
      "['Istanbul, Turkey_response.json']\n"
     ]
    }
   ],
   "source": [
    "cities = get_files_in_directory()\n",
    "print(cities)"
   ],
   "metadata": {
    "collapsed": false,
    "ExecuteTime": {
     "end_time": "2024-02-04T14:29:03.341041300Z",
     "start_time": "2024-02-04T14:29:03.324078800Z"
    }
   },
   "execution_count": 246
  },
  {
   "cell_type": "code",
   "execution_count": 251,
   "metadata": {
    "ExecuteTime": {
     "end_time": "2024-02-04T14:30:24.976000300Z",
     "start_time": "2024-02-04T14:30:24.957615300Z"
    }
   },
   "outputs": [],
   "source": [
    "def create_dataframe(file_json):\n",
    "    \"\"\"\n",
    "    Creates a pandas dataframe from JSON file.\n",
    "    Sets the maximum available columns to be shown.\n",
    "    Requires name of the file.\n",
    "    \"\"\"\n",
    "    path_to_files = '../data/input/'\n",
    "    with open(path_to_files + file_json) as jfile:\n",
    "        json_data = json.load(jfile)\n",
    "        df = pd.DataFrame(pd.json_normalize(json_data))\n",
    "        pd.set_option('display.max_columns', None)\n",
    "    return df"
   ]
  },
  {
   "cell_type": "code",
   "outputs": [
    {
     "data": {
      "text/plain": "                                             weather      base  visibility  \\\n0  [{'id': 800, 'main': 'Clear', 'description': '...  stations       10000   \n\n           dt  timezone      id      name  cod  coord.lon  coord.lat  \\\n0  1707055866     10800  745044  Istanbul  200    28.9497    41.0138   \n\n   main.temp  main.feels_like  main.temp_min  main.temp_max  main.pressure  \\\n0      10.08                9          10.04          10.45           1019   \n\n   main.humidity  wind.speed  wind.deg  clouds.all  sys.type  sys.id  \\\n0             71         3.6       220           0         1    6970   \n\n  sys.country  sys.sunrise  sys.sunset  \n0          TR   1707023560  1707060203  ",
      "text/html": "<div>\n<style scoped>\n    .dataframe tbody tr th:only-of-type {\n        vertical-align: middle;\n    }\n\n    .dataframe tbody tr th {\n        vertical-align: top;\n    }\n\n    .dataframe thead th {\n        text-align: right;\n    }\n</style>\n<table border=\"1\" class=\"dataframe\">\n  <thead>\n    <tr style=\"text-align: right;\">\n      <th></th>\n      <th>weather</th>\n      <th>base</th>\n      <th>visibility</th>\n      <th>dt</th>\n      <th>timezone</th>\n      <th>id</th>\n      <th>name</th>\n      <th>cod</th>\n      <th>coord.lon</th>\n      <th>coord.lat</th>\n      <th>main.temp</th>\n      <th>main.feels_like</th>\n      <th>main.temp_min</th>\n      <th>main.temp_max</th>\n      <th>main.pressure</th>\n      <th>main.humidity</th>\n      <th>wind.speed</th>\n      <th>wind.deg</th>\n      <th>clouds.all</th>\n      <th>sys.type</th>\n      <th>sys.id</th>\n      <th>sys.country</th>\n      <th>sys.sunrise</th>\n      <th>sys.sunset</th>\n    </tr>\n  </thead>\n  <tbody>\n    <tr>\n      <th>0</th>\n      <td>[{'id': 800, 'main': 'Clear', 'description': '...</td>\n      <td>stations</td>\n      <td>10000</td>\n      <td>1707055866</td>\n      <td>10800</td>\n      <td>745044</td>\n      <td>Istanbul</td>\n      <td>200</td>\n      <td>28.9497</td>\n      <td>41.0138</td>\n      <td>10.08</td>\n      <td>9</td>\n      <td>10.04</td>\n      <td>10.45</td>\n      <td>1019</td>\n      <td>71</td>\n      <td>3.6</td>\n      <td>220</td>\n      <td>0</td>\n      <td>1</td>\n      <td>6970</td>\n      <td>TR</td>\n      <td>1707023560</td>\n      <td>1707060203</td>\n    </tr>\n  </tbody>\n</table>\n</div>"
     },
     "execution_count": 255,
     "metadata": {},
     "output_type": "execute_result"
    }
   ],
   "source": [
    "for city in cities:\n",
    "    city_df = create_dataframe(city)\n",
    "\n",
    "city_df.head()"
   ],
   "metadata": {
    "collapsed": false,
    "ExecuteTime": {
     "end_time": "2024-02-04T14:31:00.510017Z",
     "start_time": "2024-02-04T14:31:00.486793900Z"
    }
   },
   "execution_count": 255
  },
  {
   "cell_type": "code",
   "execution_count": 262,
   "metadata": {
    "ExecuteTime": {
     "end_time": "2024-02-04T14:32:41.815958200Z",
     "start_time": "2024-02-04T14:32:41.789101700Z"
    }
   },
   "outputs": [],
   "source": [
    "def inspect_dataframe(dataframe):\n",
    "    \"\"\"\n",
    "    Returns information about the dataset \n",
    "    and shows a preview of the data in it.\n",
    "    \"\"\"\n",
    "    print(dataframe.info(), '\\n')\n",
    "    print(dataframe.head())"
   ]
  },
  {
   "cell_type": "code",
   "outputs": [
    {
     "name": "stdout",
     "output_type": "stream",
     "text": [
      "<class 'pandas.core.frame.DataFrame'>\n",
      "RangeIndex: 1 entries, 0 to 0\n",
      "Data columns (total 24 columns):\n",
      " #   Column           Non-Null Count  Dtype  \n",
      "---  ------           --------------  -----  \n",
      " 0   weather          1 non-null      object \n",
      " 1   base             1 non-null      object \n",
      " 2   visibility       1 non-null      int64  \n",
      " 3   dt               1 non-null      int64  \n",
      " 4   timezone         1 non-null      int64  \n",
      " 5   id               1 non-null      int64  \n",
      " 6   name             1 non-null      object \n",
      " 7   cod              1 non-null      int64  \n",
      " 8   coord.lon        1 non-null      float64\n",
      " 9   coord.lat        1 non-null      float64\n",
      " 10  main.temp        1 non-null      float64\n",
      " 11  main.feels_like  1 non-null      int64  \n",
      " 12  main.temp_min    1 non-null      float64\n",
      " 13  main.temp_max    1 non-null      float64\n",
      " 14  main.pressure    1 non-null      int64  \n",
      " 15  main.humidity    1 non-null      int64  \n",
      " 16  wind.speed       1 non-null      float64\n",
      " 17  wind.deg         1 non-null      int64  \n",
      " 18  clouds.all       1 non-null      int64  \n",
      " 19  sys.type         1 non-null      int64  \n",
      " 20  sys.id           1 non-null      int64  \n",
      " 21  sys.country      1 non-null      object \n",
      " 22  sys.sunrise      1 non-null      int64  \n",
      " 23  sys.sunset       1 non-null      int64  \n",
      "dtypes: float64(6), int64(14), object(4)\n",
      "memory usage: 324.0+ bytes\n",
      "None \n",
      "\n",
      "                                             weather      base  visibility  \\\n",
      "0  [{'id': 800, 'main': 'Clear', 'description': '...  stations       10000   \n",
      "\n",
      "           dt  timezone      id      name  cod  coord.lon  coord.lat  \\\n",
      "0  1707055866     10800  745044  Istanbul  200    28.9497    41.0138   \n",
      "\n",
      "   main.temp  main.feels_like  main.temp_min  main.temp_max  main.pressure  \\\n",
      "0      10.08                9          10.04          10.45           1019   \n",
      "\n",
      "   main.humidity  wind.speed  wind.deg  clouds.all  sys.type  sys.id  \\\n",
      "0             71         3.6       220           0         1    6970   \n",
      "\n",
      "  sys.country  sys.sunrise  sys.sunset  \n",
      "0          TR   1707023560  1707060203  \n"
     ]
    }
   ],
   "source": [
    "city_inspect = inspect_dataframe(city_df)"
   ],
   "metadata": {
    "collapsed": false,
    "ExecuteTime": {
     "end_time": "2024-02-04T14:32:42.398929500Z",
     "start_time": "2024-02-04T14:32:42.372772Z"
    }
   },
   "execution_count": 263
  },
  {
   "cell_type": "code",
   "execution_count": 7,
   "metadata": {
    "ExecuteTime": {
     "end_time": "2024-02-04T09:37:50.252774900Z",
     "start_time": "2024-02-04T09:37:50.177653600Z"
    }
   },
   "outputs": [],
   "source": [
    "def list_like_columns(dataframe):\n",
    "    \"\"\"\n",
    "    Creating a list where columns have list-like values.\n",
    "    \"\"\"\n",
    "    list_like_cols = []\n",
    "\n",
    "    for row in dataframe:\n",
    "        col_name = row\n",
    "        empty_list = dataframe[dataframe.astype(str)[row] == '[]'].index\n",
    "        if len(empty_list) != 0:\n",
    "            list_like_cols.append(col_name)\n",
    "    \n",
    "    return list_like_cols"
   ]
  },
  {
   "cell_type": "code",
   "execution_count": 8,
   "metadata": {
    "ExecuteTime": {
     "end_time": "2024-02-04T09:37:50.982636400Z",
     "start_time": "2024-02-04T09:37:50.897928100Z"
    }
   },
   "outputs": [],
   "source": [
    "def to_proper_list(dataframe, list_like_columns):\n",
    "    \"\"\"\n",
    "    Converting values of list-like columns to proper list type.\n",
    "    \"\"\"\n",
    "    for row in list_like_columns:\n",
    "        dataframe[row] = dataframe[row].apply(literal_eval)\n",
    "    \n",
    "    return dataframe"
   ]
  },
  {
   "cell_type": "code",
   "execution_count": 9,
   "metadata": {
    "ExecuteTime": {
     "end_time": "2024-02-04T09:37:52.147253500Z",
     "start_time": "2024-02-04T09:37:52.026943100Z"
    }
   },
   "outputs": [],
   "source": [
    "def copy_and_explode(dataframe, *columns):\n",
    "    \"\"\"\n",
    "    Normalizing to the 2NF.\n",
    "    Creating new dataframes containing str-list columns.\n",
    "    Exploding list values of columns.\n",
    "    Recreating the index column if the original dataset had one\n",
    "    to keep unique index in the dataframe.\n",
    "    Saving new dataframe to a CSV file.\n",
    "    \"\"\"\n",
    "    df_copy = dataframe.copy()\n",
    "    col_list = [*columns]\n",
    "    \n",
    "\n",
    "    for col in col_list:\n",
    "        if isinstance(col_list, (list, pd.core.series.Series, np.ndarray)):\n",
    "            df_copy = df_copy.explode(col)\n",
    "            df_copy[col].replace(',', '', regex=True, inplace=True)\n",
    "            df_copy = df_copy.explode(col)\n",
    "        else:\n",
    "            df_copy\n",
    "    \n",
    "    df_copy = df_copy.drop_duplicates()\n",
    "       \n",
    "    new_df_name = input('Enter a name for a normalized dataset: ')\n",
    "    df_copy.to_csv(f'../data/output/{new_df_name}_2NF.csv', sep=',', encoding='utf-8', index=None, header='true')"
   ]
  },
  {
   "cell_type": "code",
   "execution_count": 10,
   "metadata": {
    "ExecuteTime": {
     "end_time": "2024-02-04T09:37:57.046068100Z",
     "start_time": "2024-02-04T09:37:56.929464200Z"
    }
   },
   "outputs": [],
   "source": [
    "def save_to_csv(dataframe):\n",
    "    \"\"\"\n",
    "    Save the dataframes as CSV files.\n",
    "    Requires path to save location\n",
    "    and name of the file to save as.\n",
    "    \"\"\"\n",
    "    path_to_save = input('Path to save location: ')\n",
    "    name_of_file = input('File name: ')\n",
    "    dataframe.to_csv(f'{path_to_save}/{name_of_file}.csv', sep=',', encoding='utf-8', index=None, header='true')"
   ]
  },
  {
   "cell_type": "markdown",
   "metadata": {},
   "source": [
    "## Finding the longest value in each column of a given dataframe"
   ]
  },
  {
   "cell_type": "code",
   "execution_count": 11,
   "metadata": {
    "ExecuteTime": {
     "end_time": "2024-02-04T09:38:01.161894Z",
     "start_time": "2024-02-04T09:38:00.974847500Z"
    }
   },
   "outputs": [],
   "source": [
    "def longest_value(dataframe):\n",
    "    \"\"\"\n",
    "    Checking for the longest string in each column of a given CSV file.\n",
    "    \"\"\"\n",
    "    for row in dataframe:\n",
    "        col_name = row\n",
    "        row_pos = dataframe[row].astype(str).str.len().idxmax(axis=1)\n",
    "\n",
    "        if dataframe[row].dtype == float or int:\n",
    "            list_len = dataframe[row].astype(str).str.len().max()\n",
    "\n",
    "        else:\n",
    "            list_len = max(list(map(len, dataframe[row].values)))\n",
    "\n",
    "        print('Column:', col_name)\n",
    "        print('Value length:', list_len,)\n",
    "        print('Row position:', row_pos, '\\n')"
   ]
  },
  {
   "cell_type": "markdown",
   "metadata": {},
   "source": [
    "## Files in ../data/input location"
   ]
  },
  {
   "cell_type": "code",
   "execution_count": null,
   "metadata": {},
   "outputs": [],
   "source": []
  }
 ],
 "metadata": {
  "kernelspec": {
   "display_name": "Python 3",
   "language": "python",
   "name": "python3"
  },
  "language_info": {
   "codemirror_mode": {
    "name": "ipython",
    "version": 3
   },
   "file_extension": ".py",
   "mimetype": "text/x-python",
   "name": "python",
   "nbconvert_exporter": "python",
   "pygments_lexer": "ipython3",
   "version": "3.8.5"
  }
 },
 "nbformat": 4,
 "nbformat_minor": 4
}
